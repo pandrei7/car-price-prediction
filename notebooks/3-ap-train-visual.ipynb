{
 "cells": [
  {
   "attachments": {},
   "cell_type": "markdown",
   "metadata": {},
   "source": [
    "# Training a multi-modal model\n",
    "\n",
    "This notebook trains a model which handles both numeric data and visual data (images)."
   ]
  },
  {
   "cell_type": "code",
   "execution_count": 1,
   "metadata": {},
   "outputs": [],
   "source": [
    "# Reload imported code automatically.\n",
    "%load_ext autoreload\n",
    "%autoreload 2"
   ]
  },
  {
   "cell_type": "code",
   "execution_count": 2,
   "metadata": {},
   "outputs": [],
   "source": [
    "import copy\n",
    "import gc\n",
    "import os\n",
    "import sys\n",
    "from typing import List\n",
    "\n",
    "import matplotlib\n",
    "import matplotlib.pyplot as plt\n",
    "import numpy as np\n",
    "import pandas as pd\n",
    "import torch\n",
    "import torch.nn as nn\n",
    "import torch.nn.functional as F\n",
    "import torchvision\n",
    "from PIL import Image\n",
    "from sklearn.model_selection import train_test_split\n",
    "from torch.utils.data import Dataset\n",
    "\n",
    "sys.path.append(\"..\")\n",
    "from src import simplemodel, training, utils, visualmodel\n",
    "from src.training import Vocabulary"
   ]
  },
  {
   "cell_type": "code",
   "execution_count": 3,
   "metadata": {},
   "outputs": [],
   "source": [
    "matplotlib.rc(\"font\", **{\"size\": 14})"
   ]
  },
  {
   "attachments": {},
   "cell_type": "markdown",
   "metadata": {},
   "source": [
    "## Parameters"
   ]
  },
  {
   "cell_type": "code",
   "execution_count": 4,
   "metadata": {},
   "outputs": [
    {
     "name": "stdout",
     "output_type": "stream",
     "text": [
      "Using device cuda\n"
     ]
    },
    {
     "data": {
      "text/plain": [
       "<torch._C.Generator at 0x7f2711c96490>"
      ]
     },
     "execution_count": 4,
     "metadata": {},
     "output_type": "execute_result"
    }
   ],
   "source": [
    "# Data parameters.\n",
    "DF_PATH = os.path.join(\"..\", \"data\", \"carsWithImageCleaned.csv\")\n",
    "# IMAGE_DIR = os.path.join(\"..\", \"data\", \"autovit_images\")\n",
    "IMAGE_DIR = os.path.join(\"..\", \"data\", \"small_images\")\n",
    "MODEL_NAME = \"visualmodel\"\n",
    "HELPER_FILENAME = f\"{MODEL_NAME}-helper.pkl\"\n",
    "\n",
    "IMAGE_SIZE = 128          # Images get cropped to this dimension.\n",
    "LOAD_IMAGES_IN_MEM = True # Pre-load all cropped images into memory (uses more RAM, but training should be faster).\n",
    "\n",
    "# Model parameters.\n",
    "COLS_TO_SCALE = [\"Anul\", \"Km\", \"Putere (CP)\", \"Capacitate cilindrica (cm3)\", \"Numar de portiere\", \"Consum (l/100km)\"]\n",
    "COLS_NORMAL = [\"Fara accident in istoric\", \"Carte de service\", \"Filtru de particule\", \"Inmatriculat\", \"Primul proprietar\"]\n",
    "COLS_TO_EMBED = [\"Marca\", \"Model\", \"Combustibil\", \"Cutie de viteze\", \"Tip Caroserie\", \"Culoare\", \"Tractiune\"]\n",
    "EMBEDDING_DIM = 4\n",
    "HIDDEN_SIZES = [113, 25]\n",
    "\n",
    "# Training parameters.\n",
    "BATCH_SIZE = 128\n",
    "EPOCHS = 12\n",
    "LEARNING_RATE = 0.01\n",
    "TRAIN_SIZE = 0.66\n",
    "\n",
    "# Miscellaneous.\n",
    "DEVICE = torch.device(\"cuda\" if torch.cuda.is_available() else \"cpu\")\n",
    "print(f\"Using device {DEVICE}\")\n",
    "TORCH_SEED = 13\n",
    "torch.manual_seed(TORCH_SEED)"
   ]
  },
  {
   "cell_type": "markdown",
   "metadata": {},
   "source": [
    "## Loading and preparing the data"
   ]
  },
  {
   "cell_type": "code",
   "execution_count": 5,
   "metadata": {},
   "outputs": [
    {
     "name": "stdout",
     "output_type": "stream",
     "text": [
      "Using 10985 samples\n"
     ]
    },
    {
     "data": {
      "text/html": [
       "<div>\n",
       "<style scoped>\n",
       "    .dataframe tbody tr th:only-of-type {\n",
       "        vertical-align: middle;\n",
       "    }\n",
       "\n",
       "    .dataframe tbody tr th {\n",
       "        vertical-align: top;\n",
       "    }\n",
       "\n",
       "    .dataframe thead th {\n",
       "        text-align: right;\n",
       "    }\n",
       "</style>\n",
       "<table border=\"1\" class=\"dataframe\">\n",
       "  <thead>\n",
       "    <tr style=\"text-align: right;\">\n",
       "      <th></th>\n",
       "      <th>Url</th>\n",
       "      <th>Autovit Id</th>\n",
       "      <th>Pret (EUR)</th>\n",
       "      <th>Oferit de</th>\n",
       "      <th>Categorie</th>\n",
       "      <th>Marca</th>\n",
       "      <th>Model</th>\n",
       "      <th>Anul</th>\n",
       "      <th>Km</th>\n",
       "      <th>Combustibil</th>\n",
       "      <th>...</th>\n",
       "      <th>Tip Caroserie</th>\n",
       "      <th>Numar de portiere</th>\n",
       "      <th>Culoare</th>\n",
       "      <th>Fara accident in istoric</th>\n",
       "      <th>Carte de service</th>\n",
       "      <th>Tractiune</th>\n",
       "      <th>Filtru de particule</th>\n",
       "      <th>Inmatriculat</th>\n",
       "      <th>Primul proprietar</th>\n",
       "      <th>Consum (l/100km)</th>\n",
       "    </tr>\n",
       "  </thead>\n",
       "  <tbody>\n",
       "    <tr>\n",
       "      <th>0</th>\n",
       "      <td>https://www.autovit.ro/anunt/suzuki-vitara-1-6...</td>\n",
       "      <td>7049990250</td>\n",
       "      <td>16999.0</td>\n",
       "      <td>Proprietar</td>\n",
       "      <td>Autoturisme</td>\n",
       "      <td>Suzuki</td>\n",
       "      <td>Vitara</td>\n",
       "      <td>2018</td>\n",
       "      <td>26000</td>\n",
       "      <td>Benzina</td>\n",
       "      <td>...</td>\n",
       "      <td>SUV</td>\n",
       "      <td>5</td>\n",
       "      <td>Negru</td>\n",
       "      <td>True</td>\n",
       "      <td>True</td>\n",
       "      <td>Nu e mentionat</td>\n",
       "      <td>False</td>\n",
       "      <td>False</td>\n",
       "      <td>False</td>\n",
       "      <td>5.8</td>\n",
       "    </tr>\n",
       "    <tr>\n",
       "      <th>1</th>\n",
       "      <td>https://www.autovit.ro/anunt/toyota-auris-1-8-...</td>\n",
       "      <td>7049960669</td>\n",
       "      <td>12500.0</td>\n",
       "      <td>Proprietar</td>\n",
       "      <td>Autoturisme</td>\n",
       "      <td>Toyota</td>\n",
       "      <td>Auris</td>\n",
       "      <td>2015</td>\n",
       "      <td>239465</td>\n",
       "      <td>Hibrid</td>\n",
       "      <td>...</td>\n",
       "      <td>Combi</td>\n",
       "      <td>5</td>\n",
       "      <td>Gri</td>\n",
       "      <td>True</td>\n",
       "      <td>True</td>\n",
       "      <td>Nu e mentionat</td>\n",
       "      <td>False</td>\n",
       "      <td>False</td>\n",
       "      <td>False</td>\n",
       "      <td>3.5</td>\n",
       "    </tr>\n",
       "    <tr>\n",
       "      <th>2</th>\n",
       "      <td>https://www.autovit.ro/anunt/skoda-octavia-1-6...</td>\n",
       "      <td>7049895868</td>\n",
       "      <td>14994.0</td>\n",
       "      <td>Firma</td>\n",
       "      <td>Autoturisme</td>\n",
       "      <td>Skoda</td>\n",
       "      <td>Octavia</td>\n",
       "      <td>2020</td>\n",
       "      <td>100000</td>\n",
       "      <td>Diesel</td>\n",
       "      <td>...</td>\n",
       "      <td>Sedan</td>\n",
       "      <td>5</td>\n",
       "      <td>Albastru</td>\n",
       "      <td>True</td>\n",
       "      <td>True</td>\n",
       "      <td>Fata</td>\n",
       "      <td>True</td>\n",
       "      <td>True</td>\n",
       "      <td>True</td>\n",
       "      <td>4.7</td>\n",
       "    </tr>\n",
       "    <tr>\n",
       "      <th>3</th>\n",
       "      <td>https://www.autovit.ro/anunt/ford-focus-1-6-td...</td>\n",
       "      <td>7049990021</td>\n",
       "      <td>5000.0</td>\n",
       "      <td>Proprietar</td>\n",
       "      <td>Autoturisme</td>\n",
       "      <td>Ford</td>\n",
       "      <td>Focus</td>\n",
       "      <td>2012</td>\n",
       "      <td>245000</td>\n",
       "      <td>Diesel</td>\n",
       "      <td>...</td>\n",
       "      <td>Combi</td>\n",
       "      <td>5</td>\n",
       "      <td>Alb</td>\n",
       "      <td>True</td>\n",
       "      <td>True</td>\n",
       "      <td>Fata</td>\n",
       "      <td>True</td>\n",
       "      <td>True</td>\n",
       "      <td>False</td>\n",
       "      <td>5.1</td>\n",
       "    </tr>\n",
       "    <tr>\n",
       "      <th>4</th>\n",
       "      <td>https://www.autovit.ro/anunt/opel-insignia-ID7...</td>\n",
       "      <td>7049990234</td>\n",
       "      <td>17800.0</td>\n",
       "      <td>Proprietar</td>\n",
       "      <td>Autoturisme</td>\n",
       "      <td>Opel</td>\n",
       "      <td>Insignia</td>\n",
       "      <td>2017</td>\n",
       "      <td>65000</td>\n",
       "      <td>Diesel</td>\n",
       "      <td>...</td>\n",
       "      <td>Sedan</td>\n",
       "      <td>4</td>\n",
       "      <td>Alb</td>\n",
       "      <td>True</td>\n",
       "      <td>False</td>\n",
       "      <td>Fata</td>\n",
       "      <td>False</td>\n",
       "      <td>True</td>\n",
       "      <td>False</td>\n",
       "      <td>4.7</td>\n",
       "    </tr>\n",
       "  </tbody>\n",
       "</table>\n",
       "<p>5 rows × 23 columns</p>\n",
       "</div>"
      ],
      "text/plain": [
       "                                                 Url  Autovit Id  Pret (EUR)  \\\n",
       "0  https://www.autovit.ro/anunt/suzuki-vitara-1-6...  7049990250     16999.0   \n",
       "1  https://www.autovit.ro/anunt/toyota-auris-1-8-...  7049960669     12500.0   \n",
       "2  https://www.autovit.ro/anunt/skoda-octavia-1-6...  7049895868     14994.0   \n",
       "3  https://www.autovit.ro/anunt/ford-focus-1-6-td...  7049990021      5000.0   \n",
       "4  https://www.autovit.ro/anunt/opel-insignia-ID7...  7049990234     17800.0   \n",
       "\n",
       "    Oferit de    Categorie   Marca     Model  Anul      Km Combustibil  ...  \\\n",
       "0  Proprietar  Autoturisme  Suzuki    Vitara  2018   26000     Benzina  ...   \n",
       "1  Proprietar  Autoturisme  Toyota     Auris  2015  239465      Hibrid  ...   \n",
       "2       Firma  Autoturisme   Skoda   Octavia  2020  100000      Diesel  ...   \n",
       "3  Proprietar  Autoturisme    Ford     Focus  2012  245000      Diesel  ...   \n",
       "4  Proprietar  Autoturisme    Opel  Insignia  2017   65000      Diesel  ...   \n",
       "\n",
       "   Tip Caroserie  Numar de portiere   Culoare Fara accident in istoric  \\\n",
       "0            SUV                  5     Negru                     True   \n",
       "1          Combi                  5       Gri                     True   \n",
       "2          Sedan                  5  Albastru                     True   \n",
       "3          Combi                  5       Alb                     True   \n",
       "4          Sedan                  4       Alb                     True   \n",
       "\n",
       "   Carte de service       Tractiune  Filtru de particule  Inmatriculat  \\\n",
       "0              True  Nu e mentionat                False         False   \n",
       "1              True  Nu e mentionat                False         False   \n",
       "2              True            Fata                 True          True   \n",
       "3              True            Fata                 True          True   \n",
       "4             False            Fata                False          True   \n",
       "\n",
       "  Primul proprietar  Consum (l/100km)  \n",
       "0             False               5.8  \n",
       "1             False               3.5  \n",
       "2              True               4.7  \n",
       "3             False               5.1  \n",
       "4             False               4.7  \n",
       "\n",
       "[5 rows x 23 columns]"
      ]
     },
     "execution_count": 5,
     "metadata": {},
     "output_type": "execute_result"
    }
   ],
   "source": [
    "df = pd.read_csv(DF_PATH, index_col=0)\n",
    "\n",
    "# Remove cars which are outliers when considering their price.\n",
    "df = df.drop(df[~utils.inlier_mask(df[\"Pret (EUR)\"])].index)\n",
    "\n",
    "print(f\"Using {len(df)} samples\")\n",
    "df.head()"
   ]
  },
  {
   "cell_type": "code",
   "execution_count": 6,
   "metadata": {},
   "outputs": [],
   "source": [
    "class DatasetWithImages(Dataset):\n",
    "    \"\"\"A dataset which combines all inputs taken by the model.\"\"\"\n",
    "\n",
    "    def __init__(self, df: pd.DataFrame, image_dir: str, input_helper: simplemodel.InputHelper):\n",
    "        self.df = df.copy()\n",
    "        self.image_dir = image_dir\n",
    "        self.input_helper = input_helper\n",
    "\n",
    "        self.image_transforms = torchvision.transforms.Compose([\n",
    "            torchvision.transforms.Resize(IMAGE_SIZE),\n",
    "            torchvision.transforms.CenterCrop(IMAGE_SIZE),\n",
    "            torchvision.transforms.ToTensor(),\n",
    "        ])\n",
    "\n",
    "        if LOAD_IMAGES_IN_MEM:\n",
    "            self.processed_images = {\n",
    "                id: self.process_image(self.get_image(id))\n",
    "                for id in df[\"Autovit Id\"]\n",
    "            }\n",
    "\n",
    "    def __len__(self):\n",
    "        return len(self.df)\n",
    "\n",
    "    def __getitem__(self, idx):\n",
    "        row = self.df.iloc[idx]\n",
    "        slice = self.df.iloc[[idx]]\n",
    "\n",
    "        y_max = self.input_helper.maxes[\"Pret (EUR)\"]\n",
    "        y = torch.tensor(row[\"Pret (EUR)\"] / y_max)\n",
    "\n",
    "        if LOAD_IMAGES_IN_MEM:\n",
    "            image = self.processed_images[row[\"Autovit Id\"]]\n",
    "        else:\n",
    "            image = self.process_image(self.get_image(row[\"Autovit Id\"]))\n",
    "\n",
    "        inputs, indices = simplemodel.make_inputs(\n",
    "            self.input_helper,\n",
    "            slice[COLS_TO_SCALE],\n",
    "            slice[COLS_NORMAL],\n",
    "            slice[COLS_TO_EMBED],\n",
    "        )\n",
    "        # The input maker produces a batch of inputs, but `__getitem__` should\n",
    "        # produce a single data point.\n",
    "        inputs = inputs.squeeze(0)\n",
    "        indices = indices.squeeze(0)\n",
    "\n",
    "        return inputs, indices, image, y\n",
    "\n",
    "    def process_image(self, image: Image) -> torch.Tensor:\n",
    "        return self.image_transforms(image)\n",
    "\n",
    "    def get_image(self, autovit_id: int) -> Image:\n",
    "        id = str(autovit_id)\n",
    "        path = os.path.join(self.image_dir, id, f\"{id}.webp\")\n",
    "        image = Image.open(path)\n",
    "        return image"
   ]
  },
  {
   "cell_type": "markdown",
   "metadata": {},
   "source": [
    "Form the train/validation datasets."
   ]
  },
  {
   "cell_type": "code",
   "execution_count": 7,
   "metadata": {},
   "outputs": [
    {
     "name": "stdout",
     "output_type": "stream",
     "text": [
      "Training set shape:   (7250, 23)\n",
      "Validation set shape: (3735, 23)\n"
     ]
    }
   ],
   "source": [
    "df_train, df_valid = train_test_split(df, train_size=TRAIN_SIZE, random_state=TORCH_SEED)\n",
    "print(f\"Training set shape:   {df_train.shape}\")\n",
    "print(f\"Validation set shape: {df_valid.shape}\")"
   ]
  },
  {
   "cell_type": "code",
   "execution_count": 8,
   "metadata": {},
   "outputs": [],
   "source": [
    "input_helper = simplemodel.make_input_helper(\n",
    "    df_train[COLS_TO_SCALE + [\"Pret (EUR)\"]],\n",
    "    df_train[COLS_TO_EMBED]\n",
    ")"
   ]
  },
  {
   "cell_type": "markdown",
   "metadata": {},
   "source": [
    "Build batched dataloaders to iterate easily through the dataset."
   ]
  },
  {
   "cell_type": "code",
   "execution_count": 9,
   "metadata": {},
   "outputs": [],
   "source": [
    "dataset_train = DatasetWithImages(df_train, IMAGE_DIR, input_helper)\n",
    "loader_train = torch.utils.data.DataLoader(dataset_train, batch_size=BATCH_SIZE)\n",
    "\n",
    "dataset_valid = DatasetWithImages(df_valid, IMAGE_DIR, input_helper)\n",
    "loader_valid = torch.utils.data.DataLoader(dataset_valid, batch_size=BATCH_SIZE)"
   ]
  },
  {
   "cell_type": "markdown",
   "metadata": {},
   "source": [
    "## Training a model"
   ]
  },
  {
   "cell_type": "code",
   "execution_count": 10,
   "metadata": {},
   "outputs": [],
   "source": [
    "def custom_loss(pred: torch.Tensor, real: torch.Tensor) -> torch.Tensor:\n",
    "    \"\"\"\n",
    "    Compute the mean absolute (real) difference between predicted and real\n",
    "    prices.\n",
    "    \"\"\"\n",
    "    scale_coeff = input_helper.maxes[\"Pret (EUR)\"]\n",
    "    diffs = pred * scale_coeff - real * scale_coeff\n",
    "    return diffs.abs().mean()"
   ]
  },
  {
   "cell_type": "code",
   "execution_count": 11,
   "metadata": {},
   "outputs": [
    {
     "data": {
      "text/plain": [
       "VisualModel(\n",
       "  (conv): Sequential(\n",
       "    (0): Sequential(\n",
       "      (0): Conv2d(3, 16, kernel_size=(3, 3), stride=(1, 1))\n",
       "      (1): ReLU()\n",
       "      (2): BatchNorm2d(16, eps=1e-05, momentum=0.1, affine=True, track_running_stats=True)\n",
       "      (3): MaxPool2d(kernel_size=(2, 2), stride=(2, 2), padding=0, dilation=1, ceil_mode=False)\n",
       "    )\n",
       "    (1): Sequential(\n",
       "      (0): Conv2d(16, 32, kernel_size=(3, 3), stride=(1, 1))\n",
       "      (1): ReLU()\n",
       "      (2): BatchNorm2d(32, eps=1e-05, momentum=0.1, affine=True, track_running_stats=True)\n",
       "      (3): MaxPool2d(kernel_size=(2, 2), stride=(2, 2), padding=0, dilation=1, ceil_mode=False)\n",
       "    )\n",
       "    (2): Flatten(start_dim=1, end_dim=-1)\n",
       "    (3): Linear(in_features=28800, out_features=10, bias=True)\n",
       "    (4): BatchNorm1d(10, eps=1e-05, momentum=0.1, affine=True, track_running_stats=True)\n",
       "    (5): Dropout1d(p=0.5, inplace=False)\n",
       "  )\n",
       "  (embeddings): ModuleList(\n",
       "    (0): Embedding(52, 4, max_norm=1)\n",
       "    (1): Embedding(425, 4, max_norm=1)\n",
       "    (2): Embedding(4, 4, max_norm=1)\n",
       "    (3): Embedding(3, 4, max_norm=1)\n",
       "    (4): Embedding(10, 4, max_norm=1)\n",
       "    (5): Embedding(12, 4, max_norm=1)\n",
       "    (6): Embedding(5, 4, max_norm=1)\n",
       "  )\n",
       "  (hidden_layers): Sequential(\n",
       "    (0): Linear(in_features=49, out_features=113, bias=True)\n",
       "    (1): BatchNorm1d(113, eps=1e-05, momentum=0.1, affine=True, track_running_stats=True)\n",
       "    (2): ReLU()\n",
       "    (3): Linear(in_features=113, out_features=25, bias=True)\n",
       "    (4): BatchNorm1d(25, eps=1e-05, momentum=0.1, affine=True, track_running_stats=True)\n",
       "    (5): ReLU()\n",
       "    (6): Linear(in_features=25, out_features=1, bias=True)\n",
       "  )\n",
       ")"
      ]
     },
     "execution_count": 11,
     "metadata": {},
     "output_type": "execute_result"
    }
   ],
   "source": [
    "input_size = next(iter(loader_train))[0].shape[1]\n",
    "model = visualmodel.VisualModel(\n",
    "    input_size=input_size,\n",
    "    vocab_lens=[len(input_helper.vocabs[col]) for col in COLS_TO_EMBED],\n",
    "    embedding_dim=EMBEDDING_DIM,\n",
    "    hidden_sizes=HIDDEN_SIZES,\n",
    ")\n",
    "model.to(DEVICE)\n",
    "\n",
    "# loss_function = nn.MSELoss()\n",
    "# loss_function = nn.HuberLoss()\n",
    "loss_function = custom_loss\n",
    "optimizer = torch.optim.AdamW(model.parameters(), lr=LEARNING_RATE)\n",
    "\n",
    "model"
   ]
  },
  {
   "cell_type": "code",
   "execution_count": 12,
   "metadata": {},
   "outputs": [
    {
     "name": "stdout",
     "output_type": "stream",
     "text": [
      "Epoch 0:\tmean train loss: 8620.43658  (total 491364.88525)\tmean valid loss: 7307.52638  (total 219225.79144)\n",
      "Epoch 1:\tmean train loss: 5075.37555  (total 289296.40640)\tmean valid loss: 5966.15851  (total 178984.75529)\n",
      "Epoch 2:\tmean train loss: 4448.16863  (total 253545.61203)\tmean valid loss: 6079.73152  (total 182391.94561)\n",
      "Epoch 3:\tmean train loss: 4232.04802  (total 241226.73722)\tmean valid loss: 5036.70515  (total 151101.15441)\n",
      "Epoch 4:\tmean train loss: 4007.89771  (total 228450.16929)\tmean valid loss: 4761.68811  (total 142850.64323)\n",
      "Epoch 5:\tmean train loss: 3809.49999  (total 217141.49965)\tmean valid loss: 4541.27741  (total 136238.32219)\n",
      "Epoch 6:\tmean train loss: 3708.78571  (total 211400.78544)\tmean valid loss: 4663.61069  (total 139908.32077)\n",
      "Epoch 7:\tmean train loss: 3599.64873  (total 205179.97765)\tmean valid loss: 5030.64537  (total 150919.36117)\n",
      "Epoch 8:\tmean train loss: 3506.32807  (total 199860.69976)\tmean valid loss: 4719.37832  (total 141581.34974)\n",
      "Epoch 9:\tmean train loss: 3414.91733  (total 194650.28757)\tmean valid loss: 4696.86663  (total 140905.99895)\n",
      "Epoch 10:\tmean train loss: 3200.11936  (total 182406.80362)\tmean valid loss: 4529.75489  (total 135892.64667)\n",
      "Epoch 11:\tmean train loss: 3168.05961  (total 180579.39788)\tmean valid loss: 4326.54320  (total 129796.29607)\n",
      "Loading state with valid loss: 129796.29607\n",
      "CPU times: user 10min 11s, sys: 2.37 s, total: 10min 14s\n",
      "Wall time: 9min 25s\n"
     ]
    }
   ],
   "source": [
    "%%time\n",
    "\n",
    "training_info = pd.DataFrame(columns=[\"epoch\", \"loss\"])\n",
    "best_model_state = None\n",
    "\n",
    "for epoch in range(EPOCHS):\n",
    "\n",
    "    loss_train = 0\n",
    "    model.train()\n",
    "    for x_inputs, x_indices, x_images, y in loader_train:\n",
    "        x_inputs, x_indices, x_images, y = x_inputs.to(DEVICE), x_indices.to(DEVICE), x_images.to(DEVICE), y.to(DEVICE)\n",
    "        optimizer.zero_grad()\n",
    "        out = model(x_inputs, x_indices, x_images).view(-1)\n",
    "        loss = loss_function(out, y)\n",
    "        loss.backward()\n",
    "        optimizer.step()\n",
    "        loss_train += loss.item()\n",
    "\n",
    "        # Purge the current batch to avoid running out of CUDA memory.\n",
    "        del x_inputs, x_indices, x_images, y, out, loss\n",
    "        gc.collect()\n",
    "        torch.cuda.empty_cache()\n",
    "\n",
    "    loss_valid = 0\n",
    "    model.eval()\n",
    "    with torch.no_grad():\n",
    "        for x_inputs, x_indices, x_images, y in loader_valid:\n",
    "            x_inputs, x_indices,x_images, y = x_inputs.to(DEVICE), x_indices.to(DEVICE), x_images.to(DEVICE), y.to(DEVICE)\n",
    "            out = model(x_inputs, x_indices, x_images).view(-1)\n",
    "            loss = loss_function(out, y)\n",
    "            loss_valid += loss.item()\n",
    "            del x_inputs, x_indices, x_images, y, out, loss\n",
    "            gc.collect()\n",
    "            torch.cuda.empty_cache()\n",
    "\n",
    "    training_info = pd.concat([training_info, pd.DataFrame([{\n",
    "        \"epoch\": epoch,\n",
    "        \"loss_train\": loss_train,\n",
    "        \"mean_loss_train\": loss_train / len(loader_train),\n",
    "        \"loss_valid\": loss_valid,\n",
    "        \"mean_loss_valid\": loss_valid / len(loader_valid),\n",
    "    }])])\n",
    "\n",
    "    print(\n",
    "        f\"Epoch {epoch}:\" +\n",
    "        f\"\\tmean train loss: {loss_train/len(loader_train):.5f}  (total {loss_train:.5f})\" +\n",
    "        f\"\\tmean valid loss: {loss_valid/len(loader_valid):.5f}  (total {loss_valid:.5f})\"\n",
    "    )\n",
    "\n",
    "    if loss_valid == training_info.loss_valid.min():\n",
    "        best_model_state = copy.deepcopy(model.state_dict())\n",
    "\n",
    "if best_model_state is not None:\n",
    "    print(f\"Loading state with valid loss: {training_info.loss_valid.min():.5f}\")\n",
    "    model.load_state_dict(best_model_state)"
   ]
  },
  {
   "cell_type": "code",
   "execution_count": 13,
   "metadata": {},
   "outputs": [
    {
     "data": {
      "image/png": "[encoded data removed]",
      "text/plain": [
       "<Figure size 1728x576 with 1 Axes>"
      ]
     },
     "metadata": {
      "needs_background": "light"
     },
     "output_type": "display_data"
    }
   ],
   "source": [
    "# Plot loss curves.\n",
    "window = training_info.iloc[:]\n",
    "plt.figure(figsize=(24, 8))\n",
    "plt.scatter(data=window, x=\"epoch\", y=\"mean_loss_train\", label=\"Mean training loss\")\n",
    "plt.plot(\"epoch\", \"mean_loss_train\", data=window, label=\"\")\n",
    "plt.scatter(data=window, x=\"epoch\", y=\"mean_loss_valid\", label=\"Mean validation loss\")\n",
    "plt.plot(\"epoch\", \"mean_loss_valid\", data=window, label=\"\")\n",
    "plt.title(\"Loss curves during training\")\n",
    "plt.xlabel(\"Epoch\")\n",
    "plt.ylabel(f\"Mean loss per batch ({loss_function.__class__.__name__})\")\n",
    "plt.legend()\n",
    "plt.show()"
   ]
  },
  {
   "cell_type": "markdown",
   "metadata": {},
   "source": [
    "## Price differences"
   ]
  },
  {
   "cell_type": "code",
   "execution_count": 14,
   "metadata": {},
   "outputs": [
    {
     "name": "stdout",
     "output_type": "stream",
     "text": [
      "Training set:\n",
      "Mean absolute difference:   3937.72632\n",
      "Median absolute difference: 2844.01416\n",
      "\n",
      "Validation set:\n",
      "Mean absolute difference:   4321.31738\n",
      "Median absolute difference: 3096.80688\n",
      "\n"
     ]
    }
   ],
   "source": [
    "@torch.no_grad()\n",
    "def prediction_errors(loader) -> None:\n",
    "    coeff = input_helper.maxes[\"Pret (EUR)\"]\n",
    "    diffs = []\n",
    "\n",
    "    model.eval()\n",
    "    for inputs, indices, images, prices in loader:\n",
    "        inputs, indices, images, prices = inputs.to(DEVICE), indices.to(DEVICE), images.to(DEVICE), prices.to(DEVICE)\n",
    "        predicted = model(inputs, indices, images).view(-1) * coeff\n",
    "        real = prices.view(-1) * coeff\n",
    "        diffs.extend((predicted - real).tolist())\n",
    "        del inputs, indices, images, prices, predicted, real\n",
    "        gc.collect()\n",
    "        torch.cuda.empty_cache()\n",
    "\n",
    "    diffs = torch.tensor(diffs )\n",
    "    print(f\"Mean absolute difference:   {diffs.abs().mean():.5f}\")\n",
    "    print(f\"Median absolute difference: {diffs.abs().median():.5f}\")\n",
    "    print()\n",
    "\n",
    "\n",
    "print(\"Training set:\")\n",
    "prediction_errors(loader_train)\n",
    "print(\"Validation set:\")\n",
    "prediction_errors(loader_valid)"
   ]
  },
  {
   "cell_type": "markdown",
   "metadata": {},
   "source": [
    "## Predicting prices for unseen inputs"
   ]
  },
  {
   "cell_type": "code",
   "execution_count": 15,
   "metadata": {},
   "outputs": [
    {
     "name": "stdout",
     "output_type": "stream",
     "text": [
      "Predicted price: 33422.453958296435\n"
     ]
    }
   ],
   "source": [
    "# Making a prediction for unseen input.\n",
    "# Real input taken from https://www.autovit.ro/anunt/audi-a5-ID7H7Azi.html.\n",
    "# The real price is 29 990 EUR.\n",
    "\n",
    "fictional = pd.DataFrame({\n",
    "    \"Oferit de\": \"Proprietar\",\n",
    "    \"Marca\": \"Audi\",\n",
    "    \"Model\": \"A5\",\n",
    "    \"Anul\": 2019,\n",
    "    \"Km\": 155_000.0,\n",
    "    \"Combustibil\": \"Diesel\",\n",
    "    \"Putere (CP)\": 190,\n",
    "    \"Capacitate cilindrica (cm3)\": 1998,\n",
    "    \"Cutie de viteze\": \"Automata\",\n",
    "    \"Tip Caroserie\": \"Sedan\",\n",
    "    \"Numar de portiere\": 4,\n",
    "    \"Culoare\": \"Maro\",\n",
    "    \"Fara accident in istoric\": True,\n",
    "    \"Carte de service\": True,\n",
    "    \"Tractiune\": \"Fata\",\n",
    "    \"Filtru de particule\": True,\n",
    "    \"Inmatriculat\": False,\n",
    "    \"Primul proprietar\": False,\n",
    "    \"Consum (l/100km)\": 4.8,\n",
    "}, index=[0])\n",
    "\n",
    "fictional_inputs, fictional_indices = simplemodel.make_inputs(\n",
    "    input_helper,\n",
    "    cols_to_scale=fictional[COLS_TO_SCALE],\n",
    "    cols_normal=fictional[COLS_NORMAL],\n",
    "    cols_to_embed=fictional[COLS_TO_EMBED],\n",
    ")\n",
    "fictional_inputs = fictional_inputs.to(DEVICE)\n",
    "fictional_indices = fictional_indices.to(DEVICE)\n",
    "\n",
    "# Steal a random image.\n",
    "fictional_image = next(iter(loader_valid))[2][:1]\n",
    "fictional_image = fictional_image.to(DEVICE)\n",
    "\n",
    "model.eval()\n",
    "with torch.no_grad():\n",
    "    prediction = model(fictional_inputs, fictional_indices, fictional_image).item()\n",
    "\n",
    "predicted_price = prediction * input_helper.maxes[\"Pret (EUR)\"]\n",
    "print(f\"Predicted price: {predicted_price}\")"
   ]
  },
  {
   "cell_type": "markdown",
   "metadata": {},
   "source": [
    "## Saving the model"
   ]
  },
  {
   "cell_type": "code",
   "execution_count": 16,
   "metadata": {},
   "outputs": [
    {
     "name": "stdout",
     "output_type": "stream",
     "text": [
      "Saved model state dict to '../models/visualmodel-statedict.pt'\n",
      "Pickled the object to '../models/visualmodel-helper.pkl'\n"
     ]
    }
   ],
   "source": [
    "# Save the model from the CPU.\n",
    "model.cpu()\n",
    "utils.store_model_weights(model, MODEL_NAME)\n",
    "utils.store_model_helper(input_helper, HELPER_FILENAME)\n",
    "\n",
    "# Move the model back to its original device.\n",
    "model.to(DEVICE);"
   ]
  }
 ],
 "metadata": {
  "kernelspec": {
   "display_name": "Python 3",
   "language": "python",
   "name": "python3"
  },
  "language_info": {
   "codemirror_mode": {
    "name": "ipython",
    "version": 3
   },
   "file_extension": ".py",
   "mimetype": "text/x-python",
   "name": "python",
   "nbconvert_exporter": "python",
   "pygments_lexer": "ipython3",
   "version": "3.10.6"
  },
  "orig_nbformat": 4,
  "vscode": {
   "interpreter": {
    "hash": "916dbcbb3f70747c44a77c7bcd40155683ae19c65e1c03b4aa3499c5328201f1"
   }
  }
 },
 "nbformat": 4,
 "nbformat_minor": 2
}
