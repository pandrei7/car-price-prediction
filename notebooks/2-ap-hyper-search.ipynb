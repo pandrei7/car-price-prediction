{
 "cells": [
  {
   "attachments": {},
   "cell_type": "markdown",
   "metadata": {},
   "source": [
    "# Searching for good hyperparameters for the basic model"
   ]
  },
  {
   "cell_type": "code",
   "execution_count": 1,
   "metadata": {},
   "outputs": [],
   "source": [
    "# Reload imported code automatically.\n",
    "%load_ext autoreload\n",
    "%autoreload 2"
   ]
  },
  {
   "cell_type": "code",
   "execution_count": 2,
   "metadata": {
    "collapsed": true
   },
   "outputs": [],
   "source": [
    "import copy\n",
    "import os\n",
    "import sys\n",
    "from typing import List, Tuple\n",
    "\n",
    "import matplotlib\n",
    "import matplotlib.pyplot as plt\n",
    "import optuna\n",
    "import pandas as pd\n",
    "import torch\n",
    "import torch.nn as nn\n",
    "import torch.nn.functional as F\n",
    "from optuna.trial import TrialState\n",
    "from sklearn.model_selection import train_test_split\n",
    "\n",
    "sys.path.append(\"..\")\n",
    "from src import simplemodel, training, utils\n",
    "from src.training import Vocabulary"
   ]
  },
  {
   "cell_type": "code",
   "execution_count": 3,
   "metadata": {},
   "outputs": [],
   "source": [
    "matplotlib.rc(\"font\", **{\"size\": 14})"
   ]
  },
  {
   "attachments": {},
   "cell_type": "markdown",
   "metadata": {},
   "source": [
    "## Params"
   ]
  },
  {
   "cell_type": "code",
   "execution_count": 4,
   "metadata": {},
   "outputs": [
    {
     "name": "stdout",
     "output_type": "stream",
     "text": [
      "Using device cuda\n"
     ]
    },
    {
     "data": {
      "text/plain": [
       "<torch._C.Generator at 0x7f19546de8b0>"
      ]
     },
     "execution_count": 4,
     "metadata": {},
     "output_type": "execute_result"
    }
   ],
   "source": [
    "# Data parameters.\n",
    "DF_PATH = os.path.join(\"..\", \"data\", \"carsWithImageCleaned.csv\")\n",
    "MODEL_NAME = \"firstmodel-tuned\"\n",
    "HELPER_FILENAME = f\"{MODEL_NAME}-helper.pkl\"\n",
    "\n",
    "# Model parameters.\n",
    "COLS_TO_SCALE = [\"Anul\", \"Km\", \"Putere (CP)\", \"Capacitate cilindrica (cm3)\", \"Numar de portiere\", \"Consum (l/100km)\"]\n",
    "COLS_NORMAL = [\"Fara accident in istoric\", \"Carte de service\", \"Filtru de particule\", \"Inmatriculat\", \"Primul proprietar\"]\n",
    "COLS_TO_EMBED = [\"Marca\", \"Model\", \"Combustibil\", \"Cutie de viteze\", \"Tip Caroserie\", \"Culoare\", \"Tractiune\"]\n",
    "\n",
    "# Training parameters.\n",
    "TRAIN_SIZE = 0.73\n",
    "DEV_SIZE = 0.1\n",
    "BATCH_SIZE = 128\n",
    "EPOCHS = 60\n",
    "\n",
    "# Search parameters.\n",
    "TRIALS = 100\n",
    "TIMEOUT = 600\n",
    "\n",
    "# Miscellaneous.\n",
    "DEVICE = torch.device(\"cuda\" if torch.cuda.is_available() else \"cpu\")\n",
    "print(f\"Using device {DEVICE}\")\n",
    "TORCH_SEED = 13\n",
    "torch.manual_seed(TORCH_SEED)"
   ]
  },
  {
   "attachments": {},
   "cell_type": "markdown",
   "metadata": {},
   "source": [
    "## Loading and preparing the data"
   ]
  },
  {
   "cell_type": "code",
   "execution_count": 5,
   "metadata": {},
   "outputs": [
    {
     "name": "stdout",
     "output_type": "stream",
     "text": [
      "Using 10985 samples\n"
     ]
    },
    {
     "data": {
      "text/html": [
       "<div>\n",
       "<style scoped>\n",
       "    .dataframe tbody tr th:only-of-type {\n",
       "        vertical-align: middle;\n",
       "    }\n",
       "\n",
       "    .dataframe tbody tr th {\n",
       "        vertical-align: top;\n",
       "    }\n",
       "\n",
       "    .dataframe thead th {\n",
       "        text-align: right;\n",
       "    }\n",
       "</style>\n",
       "<table border=\"1\" class=\"dataframe\">\n",
       "  <thead>\n",
       "    <tr style=\"text-align: right;\">\n",
       "      <th></th>\n",
       "      <th>Url</th>\n",
       "      <th>Autovit Id</th>\n",
       "      <th>Pret (EUR)</th>\n",
       "      <th>Oferit de</th>\n",
       "      <th>Categorie</th>\n",
       "      <th>Marca</th>\n",
       "      <th>Model</th>\n",
       "      <th>Anul</th>\n",
       "      <th>Km</th>\n",
       "      <th>Combustibil</th>\n",
       "      <th>...</th>\n",
       "      <th>Tip Caroserie</th>\n",
       "      <th>Numar de portiere</th>\n",
       "      <th>Culoare</th>\n",
       "      <th>Fara accident in istoric</th>\n",
       "      <th>Carte de service</th>\n",
       "      <th>Tractiune</th>\n",
       "      <th>Filtru de particule</th>\n",
       "      <th>Inmatriculat</th>\n",
       "      <th>Primul proprietar</th>\n",
       "      <th>Consum (l/100km)</th>\n",
       "    </tr>\n",
       "  </thead>\n",
       "  <tbody>\n",
       "    <tr>\n",
       "      <th>0</th>\n",
       "      <td>https://www.autovit.ro/anunt/suzuki-vitara-1-6...</td>\n",
       "      <td>7049990250</td>\n",
       "      <td>16999.0</td>\n",
       "      <td>Proprietar</td>\n",
       "      <td>Autoturisme</td>\n",
       "      <td>Suzuki</td>\n",
       "      <td>Vitara</td>\n",
       "      <td>2018</td>\n",
       "      <td>26000</td>\n",
       "      <td>Benzina</td>\n",
       "      <td>...</td>\n",
       "      <td>SUV</td>\n",
       "      <td>5</td>\n",
       "      <td>Negru</td>\n",
       "      <td>True</td>\n",
       "      <td>True</td>\n",
       "      <td>Nu e mentionat</td>\n",
       "      <td>False</td>\n",
       "      <td>False</td>\n",
       "      <td>False</td>\n",
       "      <td>5.8</td>\n",
       "    </tr>\n",
       "    <tr>\n",
       "      <th>1</th>\n",
       "      <td>https://www.autovit.ro/anunt/toyota-auris-1-8-...</td>\n",
       "      <td>7049960669</td>\n",
       "      <td>12500.0</td>\n",
       "      <td>Proprietar</td>\n",
       "      <td>Autoturisme</td>\n",
       "      <td>Toyota</td>\n",
       "      <td>Auris</td>\n",
       "      <td>2015</td>\n",
       "      <td>239465</td>\n",
       "      <td>Hibrid</td>\n",
       "      <td>...</td>\n",
       "      <td>Combi</td>\n",
       "      <td>5</td>\n",
       "      <td>Gri</td>\n",
       "      <td>True</td>\n",
       "      <td>True</td>\n",
       "      <td>Nu e mentionat</td>\n",
       "      <td>False</td>\n",
       "      <td>False</td>\n",
       "      <td>False</td>\n",
       "      <td>3.5</td>\n",
       "    </tr>\n",
       "    <tr>\n",
       "      <th>2</th>\n",
       "      <td>https://www.autovit.ro/anunt/skoda-octavia-1-6...</td>\n",
       "      <td>7049895868</td>\n",
       "      <td>14994.0</td>\n",
       "      <td>Firma</td>\n",
       "      <td>Autoturisme</td>\n",
       "      <td>Skoda</td>\n",
       "      <td>Octavia</td>\n",
       "      <td>2020</td>\n",
       "      <td>100000</td>\n",
       "      <td>Diesel</td>\n",
       "      <td>...</td>\n",
       "      <td>Sedan</td>\n",
       "      <td>5</td>\n",
       "      <td>Albastru</td>\n",
       "      <td>True</td>\n",
       "      <td>True</td>\n",
       "      <td>Fata</td>\n",
       "      <td>True</td>\n",
       "      <td>True</td>\n",
       "      <td>True</td>\n",
       "      <td>4.7</td>\n",
       "    </tr>\n",
       "    <tr>\n",
       "      <th>3</th>\n",
       "      <td>https://www.autovit.ro/anunt/ford-focus-1-6-td...</td>\n",
       "      <td>7049990021</td>\n",
       "      <td>5000.0</td>\n",
       "      <td>Proprietar</td>\n",
       "      <td>Autoturisme</td>\n",
       "      <td>Ford</td>\n",
       "      <td>Focus</td>\n",
       "      <td>2012</td>\n",
       "      <td>245000</td>\n",
       "      <td>Diesel</td>\n",
       "      <td>...</td>\n",
       "      <td>Combi</td>\n",
       "      <td>5</td>\n",
       "      <td>Alb</td>\n",
       "      <td>True</td>\n",
       "      <td>True</td>\n",
       "      <td>Fata</td>\n",
       "      <td>True</td>\n",
       "      <td>True</td>\n",
       "      <td>False</td>\n",
       "      <td>5.1</td>\n",
       "    </tr>\n",
       "    <tr>\n",
       "      <th>4</th>\n",
       "      <td>https://www.autovit.ro/anunt/opel-insignia-ID7...</td>\n",
       "      <td>7049990234</td>\n",
       "      <td>17800.0</td>\n",
       "      <td>Proprietar</td>\n",
       "      <td>Autoturisme</td>\n",
       "      <td>Opel</td>\n",
       "      <td>Insignia</td>\n",
       "      <td>2017</td>\n",
       "      <td>65000</td>\n",
       "      <td>Diesel</td>\n",
       "      <td>...</td>\n",
       "      <td>Sedan</td>\n",
       "      <td>4</td>\n",
       "      <td>Alb</td>\n",
       "      <td>True</td>\n",
       "      <td>False</td>\n",
       "      <td>Fata</td>\n",
       "      <td>False</td>\n",
       "      <td>True</td>\n",
       "      <td>False</td>\n",
       "      <td>4.7</td>\n",
       "    </tr>\n",
       "  </tbody>\n",
       "</table>\n",
       "<p>5 rows × 23 columns</p>\n",
       "</div>"
      ],
      "text/plain": [
       "                                                 Url  Autovit Id  Pret (EUR)  \\\n",
       "0  https://www.autovit.ro/anunt/suzuki-vitara-1-6...  7049990250     16999.0   \n",
       "1  https://www.autovit.ro/anunt/toyota-auris-1-8-...  7049960669     12500.0   \n",
       "2  https://www.autovit.ro/anunt/skoda-octavia-1-6...  7049895868     14994.0   \n",
       "3  https://www.autovit.ro/anunt/ford-focus-1-6-td...  7049990021      5000.0   \n",
       "4  https://www.autovit.ro/anunt/opel-insignia-ID7...  7049990234     17800.0   \n",
       "\n",
       "    Oferit de    Categorie   Marca     Model  Anul      Km Combustibil  ...  \\\n",
       "0  Proprietar  Autoturisme  Suzuki    Vitara  2018   26000     Benzina  ...   \n",
       "1  Proprietar  Autoturisme  Toyota     Auris  2015  239465      Hibrid  ...   \n",
       "2       Firma  Autoturisme   Skoda   Octavia  2020  100000      Diesel  ...   \n",
       "3  Proprietar  Autoturisme    Ford     Focus  2012  245000      Diesel  ...   \n",
       "4  Proprietar  Autoturisme    Opel  Insignia  2017   65000      Diesel  ...   \n",
       "\n",
       "   Tip Caroserie  Numar de portiere   Culoare Fara accident in istoric  \\\n",
       "0            SUV                  5     Negru                     True   \n",
       "1          Combi                  5       Gri                     True   \n",
       "2          Sedan                  5  Albastru                     True   \n",
       "3          Combi                  5       Alb                     True   \n",
       "4          Sedan                  4       Alb                     True   \n",
       "\n",
       "   Carte de service       Tractiune  Filtru de particule  Inmatriculat  \\\n",
       "0              True  Nu e mentionat                False         False   \n",
       "1              True  Nu e mentionat                False         False   \n",
       "2              True            Fata                 True          True   \n",
       "3              True            Fata                 True          True   \n",
       "4             False            Fata                False          True   \n",
       "\n",
       "  Primul proprietar  Consum (l/100km)  \n",
       "0             False               5.8  \n",
       "1             False               3.5  \n",
       "2              True               4.7  \n",
       "3             False               5.1  \n",
       "4             False               4.7  \n",
       "\n",
       "[5 rows x 23 columns]"
      ]
     },
     "execution_count": 5,
     "metadata": {},
     "output_type": "execute_result"
    }
   ],
   "source": [
    "df = pd.read_csv(DF_PATH, index_col=0)\n",
    "\n",
    "# Remove cars which are outliers when considering their price.\n",
    "df = df.drop(df[~utils.inlier_mask(df[\"Pret (EUR)\"])].index)\n",
    "\n",
    "print(f\"Using {len(df)} samples\")\n",
    "df.head()"
   ]
  },
  {
   "attachments": {},
   "cell_type": "markdown",
   "metadata": {},
   "source": [
    "Form the train/dev/test datasets."
   ]
  },
  {
   "cell_type": "code",
   "execution_count": 6,
   "metadata": {},
   "outputs": [
    {
     "name": "stdout",
     "output_type": "stream",
     "text": [
      "Training set shape: (6655, 23)\n",
      "Dev set shape:      (2462, 23)\n",
      "Test set shape:     (1868, 23)\n"
     ]
    }
   ],
   "source": [
    "df_train, df_test = train_test_split(df, train_size=TRAIN_SIZE + DEV_SIZE, random_state=TORCH_SEED)\n",
    "df_train, df_dev = train_test_split(df_train, train_size=TRAIN_SIZE, random_state=TORCH_SEED)\n",
    "print(f\"Training set shape: {df_train.shape}\")\n",
    "print(f\"Dev set shape:      {df_dev.shape}\")\n",
    "print(f\"Test set shape:     {df_test.shape}\")"
   ]
  },
  {
   "attachments": {},
   "cell_type": "markdown",
   "metadata": {},
   "source": [
    "Prepare the data to be used with PyTorch."
   ]
  },
  {
   "cell_type": "code",
   "execution_count": 7,
   "metadata": {},
   "outputs": [],
   "source": [
    "input_helper = simplemodel.make_input_helper(\n",
    "    cols_to_scale=df_train[COLS_TO_SCALE + [\"Pret (EUR)\"]],\n",
    "    cols_to_embed=df_train[COLS_TO_EMBED],\n",
    ")\n",
    "\n",
    "# Training tensors.\n",
    "inputs_train, indices_train = simplemodel.make_inputs(\n",
    "    input_helper,\n",
    "    cols_to_scale=df_train[COLS_TO_SCALE],\n",
    "    cols_normal=df_train[COLS_NORMAL],\n",
    "    cols_to_embed=df_train[COLS_TO_EMBED],\n",
    ")\n",
    "inputs_train, indices_train = inputs_train.to(DEVICE), indices_train.to(DEVICE)\n",
    "\n",
    "prices_train = torch.tensor(df_train[\"Pret (EUR)\"].values)\n",
    "prices_train /= input_helper.maxes[\"Pret (EUR)\"]\n",
    "prices_train = prices_train.to(DEVICE)\n",
    "\n",
    "# Dev tensors.\n",
    "inputs_dev, indices_dev = simplemodel.make_inputs(\n",
    "    input_helper,\n",
    "    cols_to_scale=df_dev[COLS_TO_SCALE],\n",
    "    cols_normal=df_dev[COLS_NORMAL],\n",
    "    cols_to_embed=df_dev[COLS_TO_EMBED],\n",
    ")\n",
    "inputs_dev, indices_dev = inputs_dev.to(DEVICE), indices_dev.to(DEVICE)\n",
    "\n",
    "prices_dev = torch.tensor(df_dev[\"Pret (EUR)\"].values)\n",
    "prices_dev /= input_helper.maxes[\"Pret (EUR)\"]\n",
    "prices_dev = prices_dev.to(DEVICE)\n",
    "\n",
    "# Test tensors.\n",
    "inputs_test, indices_test = simplemodel.make_inputs(\n",
    "    input_helper,\n",
    "    cols_to_scale=df_test[COLS_TO_SCALE],\n",
    "    cols_normal=df_test[COLS_NORMAL],\n",
    "    cols_to_embed=df_test[COLS_TO_EMBED],\n",
    ")\n",
    "inputs_test, indices_test = inputs_test.to(DEVICE), indices_test.to(DEVICE)\n",
    "\n",
    "prices_test = torch.tensor(df_test[\"Pret (EUR)\"].values)\n",
    "prices_test /= input_helper.maxes[\"Pret (EUR)\"]\n",
    "prices_test = prices_test.to(DEVICE)"
   ]
  },
  {
   "attachments": {},
   "cell_type": "markdown",
   "metadata": {},
   "source": [
    "Build batched dataloaders to iterate easily through the dataset."
   ]
  },
  {
   "cell_type": "code",
   "execution_count": 8,
   "metadata": {},
   "outputs": [],
   "source": [
    "dataset_train = torch.utils.data.TensorDataset(inputs_train, indices_train, prices_train)\n",
    "loader_train = torch.utils.data.DataLoader(dataset_train, batch_size=BATCH_SIZE)\n",
    "\n",
    "dataset_dev = torch.utils.data.TensorDataset(inputs_dev, indices_dev, prices_dev)\n",
    "loader_dev = torch.utils.data.DataLoader(dataset_dev, batch_size=BATCH_SIZE)\n",
    "\n",
    "dataset_test = torch.utils.data.TensorDataset(inputs_test, indices_test, prices_test)\n",
    "loader_test = torch.utils.data.DataLoader(dataset_test, batch_size=BATCH_SIZE)"
   ]
  },
  {
   "attachments": {},
   "cell_type": "markdown",
   "metadata": {},
   "source": [
    "## Training a model"
   ]
  },
  {
   "attachments": {},
   "cell_type": "markdown",
   "metadata": {},
   "source": [
    "The code below implements the trials run by Optuna.\n",
    "\n",
    "You can change it to control the space that gets explored."
   ]
  },
  {
   "cell_type": "code",
   "execution_count": 9,
   "metadata": {},
   "outputs": [],
   "source": [
    "def build_model(trial: optuna.trial.Trial) -> simplemodel.SimpleModel:\n",
    "    \"\"\"Construct a model with hyperparameters suggested by Optuna.\"\"\"\n",
    "    embedding_dim = trial.suggest_int(\"embedding_dim\", 2, 24)\n",
    "\n",
    "    n_hidden_layers = trial.suggest_int(\"n_hidden_layers\", 1, 3)\n",
    "    hidden_sizes = [\n",
    "        trial.suggest_int(f\"hidden_size{i}\", 4, 128)\n",
    "        for i in range(n_hidden_layers)\n",
    "    ]\n",
    "\n",
    "    return simplemodel.SimpleModel(\n",
    "        input_size=inputs_train.shape[1],\n",
    "        vocab_lens=[len(input_helper.vocabs[col]) for col in COLS_TO_EMBED],\n",
    "        embedding_dim=embedding_dim,\n",
    "        hidden_sizes=hidden_sizes,\n",
    "    )\n",
    "\n",
    "\n",
    "def custom_loss(pred: torch.Tensor, real: torch.Tensor) -> torch.Tensor:\n",
    "    \"\"\"\n",
    "    Compute the mean absolute (real) difference between predicted and real\n",
    "    prices.\n",
    "    \"\"\"\n",
    "    scale_coeff = input_helper.maxes[\"Pret (EUR)\"]\n",
    "    diffs = pred * scale_coeff - real * scale_coeff\n",
    "    return diffs.abs().mean()\n",
    "\n",
    "\n",
    "def objective(trial: optuna.trial.Trial) -> float:\n",
    "    \"\"\"Train the model and return the score Optuna should optimize.\"\"\"\n",
    "    model = build_model(trial).to(DEVICE)\n",
    "\n",
    "    # loss_function = nn.MSELoss()\n",
    "    loss_function = custom_loss\n",
    "\n",
    "    optimizer = torch.optim.AdamW(\n",
    "        model.parameters(),\n",
    "        lr=trial.suggest_float(\"lr\", 1e-5, 1e-1, log=True),\n",
    "    )\n",
    "\n",
    "    for epoch in range(EPOCHS):\n",
    "        model.train()\n",
    "        for x_inputs, x_indices, y in loader_train:\n",
    "            x_inputs, x_indices, y = x_inputs.to(DEVICE), x_indices.to(DEVICE), y.to(DEVICE)\n",
    "            optimizer.zero_grad()\n",
    "            out = model(x_inputs, x_indices).view(-1)\n",
    "            loss = loss_function(out, y)\n",
    "            loss.backward()\n",
    "            optimizer.step()\n",
    "\n",
    "        model.eval()\n",
    "        loss_valid = 0\n",
    "        with torch.no_grad():\n",
    "            # for x_inputs, x_indices, y in loader_dev:\n",
    "            #     x_inputs, x_indices, y = x_inputs.to(DEVICE), x_indices.to(DEVICE), y.to(DEVICE)\n",
    "            #     out = model(x_inputs, x_indices).view(-1)\n",
    "            #     loss = loss_function(out, y)\n",
    "            #     loss_valid += loss.item()\n",
    "            out = model(inputs_dev, indices_dev).view(-1)\n",
    "            loss_valid = custom_loss(out, prices_dev).item()\n",
    "\n",
    "        trial.report(loss_valid, epoch)\n",
    "        if trial.should_prune():\n",
    "            raise optuna.exceptions.TrialPruned()\n",
    "\n",
    "    trial.set_user_attr(key=\"best_model\", value=model)\n",
    "    return loss_valid"
   ]
  },
  {
   "attachments": {},
   "cell_type": "markdown",
   "metadata": {},
   "source": [
    "## Running the hyperparameter search (Optuna study)"
   ]
  },
  {
   "cell_type": "code",
   "execution_count": 10,
   "metadata": {},
   "outputs": [
    {
     "name": "stderr",
     "output_type": "stream",
     "text": [
      "\u001b[32m[I 2023-02-04 00:32:25,488]\u001b[0m A new study created in memory with name: no-name-76988ad9-9aa2-436a-bdb4-fb3ce55f49c1\u001b[0m\n",
      "\u001b[32m[I 2023-02-04 00:32:38,096]\u001b[0m Trial 0 finished with value: 4192.058512352583 and parameters: {'embedding_dim': 5, 'n_hidden_layers': 3, 'hidden_size0': 110, 'hidden_size1': 127, 'hidden_size2': 16, 'lr': 0.003982249320510584}. Best is trial 0 with value: 4192.058512352583.\u001b[0m\n",
      "\u001b[32m[I 2023-02-04 00:32:47,327]\u001b[0m Trial 1 finished with value: 5542.365112824644 and parameters: {'embedding_dim': 5, 'n_hidden_layers': 1, 'hidden_size0': 80, 'lr': 4.9165183612027845e-05}. Best is trial 0 with value: 4192.058512352583.\u001b[0m\n",
      "\u001b[32m[I 2023-02-04 00:32:56,545]\u001b[0m Trial 2 finished with value: 8913.72624802152 and parameters: {'embedding_dim': 6, 'n_hidden_layers': 1, 'hidden_size0': 15, 'lr': 1.834048241080843e-05}. Best is trial 0 with value: 4192.058512352583.\u001b[0m\n",
      "\u001b[32m[I 2023-02-04 00:33:08,685]\u001b[0m Trial 3 finished with value: 8767.03718045134 and parameters: {'embedding_dim': 4, 'n_hidden_layers': 3, 'hidden_size0': 82, 'hidden_size1': 31, 'hidden_size2': 104, 'lr': 1.239034054782346e-05}. Best is trial 0 with value: 4192.058512352583.\u001b[0m\n",
      "\u001b[32m[I 2023-02-04 00:33:19,317]\u001b[0m Trial 4 finished with value: 4606.7036363171 and parameters: {'embedding_dim': 2, 'n_hidden_layers': 2, 'hidden_size0': 59, 'hidden_size1': 18, 'lr': 0.00038029953607679137}. Best is trial 0 with value: 4192.058512352583.\u001b[0m\n",
      "\u001b[32m[I 2023-02-04 00:33:28,674]\u001b[0m Trial 5 finished with value: 4376.173617140032 and parameters: {'embedding_dim': 21, 'n_hidden_layers': 1, 'hidden_size0': 51, 'lr': 0.00040098191802571026}. Best is trial 0 with value: 4192.058512352583.\u001b[0m\n",
      "\u001b[32m[I 2023-02-04 00:33:28,865]\u001b[0m Trial 6 pruned. \u001b[0m\n",
      "\u001b[32m[I 2023-02-04 00:33:41,003]\u001b[0m Trial 7 finished with value: 4636.397754729239 and parameters: {'embedding_dim': 21, 'n_hidden_layers': 3, 'hidden_size0': 45, 'hidden_size1': 29, 'hidden_size2': 17, 'lr': 0.0015568482700032572}. Best is trial 0 with value: 4192.058512352583.\u001b[0m\n",
      "\u001b[32m[I 2023-02-04 00:33:51,631]\u001b[0m Trial 8 finished with value: 5611.500534859064 and parameters: {'embedding_dim': 17, 'n_hidden_layers': 2, 'hidden_size0': 72, 'hidden_size1': 105, 'lr': 0.0013452348086296906}. Best is trial 0 with value: 4192.058512352583.\u001b[0m\n",
      "\u001b[32m[I 2023-02-04 00:34:03,836]\u001b[0m Trial 9 finished with value: 4094.8256874628282 and parameters: {'embedding_dim': 17, 'n_hidden_layers': 3, 'hidden_size0': 94, 'hidden_size1': 20, 'hidden_size2': 118, 'lr': 0.005706840189572377}. Best is trial 9 with value: 4094.8256874628282.\u001b[0m\n",
      "\u001b[32m[I 2023-02-04 00:34:04,473]\u001b[0m Trial 10 pruned. \u001b[0m\n",
      "\u001b[32m[I 2023-02-04 00:34:04,694]\u001b[0m Trial 11 pruned. \u001b[0m\n",
      "\u001b[32m[I 2023-02-04 00:34:05,743]\u001b[0m Trial 12 pruned. \u001b[0m\n",
      "\u001b[32m[I 2023-02-04 00:34:18,095]\u001b[0m Trial 13 finished with value: 3736.26367812966 and parameters: {'embedding_dim': 9, 'n_hidden_layers': 3, 'hidden_size0': 98, 'hidden_size1': 61, 'hidden_size2': 68, 'lr': 0.009433495683526331}. Best is trial 13 with value: 3736.26367812966.\u001b[0m\n",
      "\u001b[32m[I 2023-02-04 00:34:18,678]\u001b[0m Trial 14 pruned. \u001b[0m\n",
      "\u001b[32m[I 2023-02-04 00:34:30,854]\u001b[0m Trial 15 finished with value: 4143.372957879865 and parameters: {'embedding_dim': 9, 'n_hidden_layers': 3, 'hidden_size0': 93, 'hidden_size1': 46, 'hidden_size2': 75, 'lr': 0.019303270033120122}. Best is trial 13 with value: 3736.26367812966.\u001b[0m\n",
      "\u001b[32m[I 2023-02-04 00:34:41,743]\u001b[0m Trial 16 finished with value: 5161.392143602509 and parameters: {'embedding_dim': 24, 'n_hidden_layers': 2, 'hidden_size0': 86, 'hidden_size1': 83, 'lr': 0.03721478877065765}. Best is trial 13 with value: 3736.26367812966.\u001b[0m\n",
      "\u001b[32m[I 2023-02-04 00:34:43,017]\u001b[0m Trial 17 pruned. \u001b[0m\n",
      "\u001b[32m[I 2023-02-04 00:34:54,069]\u001b[0m Trial 18 finished with value: 4072.2237857711325 and parameters: {'embedding_dim': 9, 'n_hidden_layers': 2, 'hidden_size0': 106, 'hidden_size1': 6, 'lr': 0.08744607542170121}. Best is trial 13 with value: 3736.26367812966.\u001b[0m\n",
      "\u001b[32m[I 2023-02-04 00:35:04,758]\u001b[0m Trial 19 finished with value: 4202.348542057716 and parameters: {'embedding_dim': 8, 'n_hidden_layers': 2, 'hidden_size0': 110, 'hidden_size1': 81, 'lr': 0.09408888862219826}. Best is trial 13 with value: 3736.26367812966.\u001b[0m\n",
      "\u001b[32m[I 2023-02-04 00:35:14,197]\u001b[0m Trial 20 finished with value: 4125.7930338789365 and parameters: {'embedding_dim': 10, 'n_hidden_layers': 1, 'hidden_size0': 69, 'lr': 0.08366166229193354}. Best is trial 13 with value: 3736.26367812966.\u001b[0m\n",
      "\u001b[32m[I 2023-02-04 00:35:14,579]\u001b[0m Trial 21 pruned. \u001b[0m\n",
      "\u001b[32m[I 2023-02-04 00:35:14,804]\u001b[0m Trial 22 pruned. \u001b[0m\n",
      "\u001b[32m[I 2023-02-04 00:35:15,008]\u001b[0m Trial 23 pruned. \u001b[0m\n",
      "\u001b[32m[I 2023-02-04 00:35:27,592]\u001b[0m Trial 24 finished with value: 3585.601958651551 and parameters: {'embedding_dim': 11, 'n_hidden_layers': 3, 'hidden_size0': 76, 'hidden_size1': 41, 'hidden_size2': 127, 'lr': 0.009813906898497432}. Best is trial 24 with value: 3585.601958651551.\u001b[0m\n",
      "\u001b[32m[I 2023-02-04 00:35:38,444]\u001b[0m Trial 25 finished with value: 5448.073830690466 and parameters: {'embedding_dim': 11, 'n_hidden_layers': 2, 'hidden_size0': 72, 'hidden_size1': 47, 'lr': 0.0646808826677084}. Best is trial 24 with value: 3585.601958651551.\u001b[0m\n",
      "\u001b[32m[I 2023-02-04 00:35:38,670]\u001b[0m Trial 26 pruned. \u001b[0m\n",
      "\u001b[32m[I 2023-02-04 00:35:39,569]\u001b[0m Trial 27 pruned. \u001b[0m\n",
      "\u001b[32m[I 2023-02-04 00:35:51,871]\u001b[0m Trial 28 finished with value: 4061.60305211608 and parameters: {'embedding_dim': 3, 'n_hidden_layers': 3, 'hidden_size0': 78, 'hidden_size1': 53, 'hidden_size2': 96, 'lr': 0.09527824687403108}. Best is trial 24 with value: 3585.601958651551.\u001b[0m\n",
      "\u001b[32m[I 2023-02-04 00:35:52,090]\u001b[0m Trial 29 pruned. \u001b[0m\n",
      "\u001b[32m[I 2023-02-04 00:35:52,714]\u001b[0m Trial 30 pruned. \u001b[0m\n",
      "\u001b[32m[I 2023-02-04 00:35:52,936]\u001b[0m Trial 31 pruned. \u001b[0m\n",
      "\u001b[32m[I 2023-02-04 00:35:53,159]\u001b[0m Trial 32 pruned. \u001b[0m\n",
      "\u001b[32m[I 2023-02-04 00:35:54,226]\u001b[0m Trial 33 pruned. \u001b[0m\n",
      "\u001b[32m[I 2023-02-04 00:36:05,240]\u001b[0m Trial 34 finished with value: 3830.8507069516577 and parameters: {'embedding_dim': 6, 'n_hidden_layers': 2, 'hidden_size0': 87, 'hidden_size1': 90, 'lr': 0.08877376097493356}. Best is trial 24 with value: 3585.601958651551.\u001b[0m\n",
      "\u001b[32m[I 2023-02-04 00:36:05,423]\u001b[0m Trial 35 pruned. \u001b[0m\n",
      "\u001b[32m[I 2023-02-04 00:36:05,659]\u001b[0m Trial 36 pruned. \u001b[0m\n",
      "\u001b[32m[I 2023-02-04 00:36:05,850]\u001b[0m Trial 37 pruned. \u001b[0m\n",
      "\u001b[32m[I 2023-02-04 00:36:12,948]\u001b[0m Trial 38 pruned. \u001b[0m\n",
      "\u001b[32m[I 2023-02-04 00:36:13,210]\u001b[0m Trial 39 pruned. \u001b[0m\n",
      "\u001b[32m[I 2023-02-04 00:36:13,515]\u001b[0m Trial 40 pruned. \u001b[0m\n",
      "\u001b[32m[I 2023-02-04 00:36:26,300]\u001b[0m Trial 41 finished with value: 5157.977738634589 and parameters: {'embedding_dim': 11, 'n_hidden_layers': 2, 'hidden_size0': 4, 'hidden_size1': 27, 'lr': 0.09360223895872957}. Best is trial 24 with value: 3585.601958651551.\u001b[0m\n",
      "\u001b[32m[I 2023-02-04 00:36:26,550]\u001b[0m Trial 42 pruned. \u001b[0m\n",
      "\u001b[32m[I 2023-02-04 00:36:26,785]\u001b[0m Trial 43 pruned. \u001b[0m\n",
      "\u001b[32m[I 2023-02-04 00:36:27,398]\u001b[0m Trial 44 pruned. \u001b[0m\n",
      "\u001b[32m[I 2023-02-04 00:36:28,377]\u001b[0m Trial 45 pruned. \u001b[0m\n",
      "\u001b[32m[I 2023-02-04 00:36:28,631]\u001b[0m Trial 46 pruned. \u001b[0m\n",
      "\u001b[32m[I 2023-02-04 00:36:28,848]\u001b[0m Trial 47 pruned. \u001b[0m\n",
      "\u001b[32m[I 2023-02-04 00:36:29,526]\u001b[0m Trial 48 pruned. \u001b[0m\n",
      "\u001b[32m[I 2023-02-04 00:36:29,745]\u001b[0m Trial 49 pruned. \u001b[0m\n",
      "\u001b[32m[I 2023-02-04 00:36:31,433]\u001b[0m Trial 50 pruned. \u001b[0m\n",
      "\u001b[32m[I 2023-02-04 00:36:44,541]\u001b[0m Trial 51 finished with value: 4101.269501780003 and parameters: {'embedding_dim': 19, 'n_hidden_layers': 3, 'hidden_size0': 96, 'hidden_size1': 15, 'hidden_size2': 117, 'lr': 0.0053485999557568754}. Best is trial 24 with value: 3585.601958651551.\u001b[0m\n",
      "\u001b[32m[I 2023-02-04 00:36:44,804]\u001b[0m Trial 52 pruned. \u001b[0m\n",
      "\u001b[32m[I 2023-02-04 00:36:45,062]\u001b[0m Trial 53 pruned. \u001b[0m\n",
      "\u001b[32m[I 2023-02-04 00:36:45,296]\u001b[0m Trial 54 pruned. \u001b[0m\n",
      "\u001b[32m[I 2023-02-04 00:36:45,555]\u001b[0m Trial 55 pruned. \u001b[0m\n",
      "\u001b[32m[I 2023-02-04 00:36:46,667]\u001b[0m Trial 56 pruned. \u001b[0m\n",
      "\u001b[32m[I 2023-02-04 00:36:46,890]\u001b[0m Trial 57 pruned. \u001b[0m\n",
      "\u001b[32m[I 2023-02-04 00:36:47,141]\u001b[0m Trial 58 pruned. \u001b[0m\n",
      "\u001b[32m[I 2023-02-04 00:36:48,114]\u001b[0m Trial 59 pruned. \u001b[0m\n",
      "\u001b[32m[I 2023-02-04 00:36:48,349]\u001b[0m Trial 60 pruned. \u001b[0m\n",
      "\u001b[32m[I 2023-02-04 00:36:48,582]\u001b[0m Trial 61 pruned. \u001b[0m\n",
      "\u001b[32m[I 2023-02-04 00:36:48,812]\u001b[0m Trial 62 pruned. \u001b[0m\n",
      "\u001b[32m[I 2023-02-04 00:36:49,096]\u001b[0m Trial 63 pruned. \u001b[0m\n",
      "\u001b[32m[I 2023-02-04 00:36:49,354]\u001b[0m Trial 64 pruned. \u001b[0m\n",
      "\u001b[32m[I 2023-02-04 00:36:49,603]\u001b[0m Trial 65 pruned. \u001b[0m\n",
      "\u001b[32m[I 2023-02-04 00:36:49,850]\u001b[0m Trial 66 pruned. \u001b[0m\n",
      "\u001b[32m[I 2023-02-04 00:36:50,539]\u001b[0m Trial 67 pruned. \u001b[0m\n",
      "\u001b[32m[I 2023-02-04 00:36:50,789]\u001b[0m Trial 68 pruned. \u001b[0m\n",
      "\u001b[32m[I 2023-02-04 00:37:01,833]\u001b[0m Trial 69 finished with value: 3416.3032383443824 and parameters: {'embedding_dim': 4, 'n_hidden_layers': 2, 'hidden_size0': 113, 'hidden_size1': 25, 'lr': 0.07631054992663061}. Best is trial 69 with value: 3416.3032383443824.\u001b[0m\n",
      "\u001b[32m[I 2023-02-04 00:37:12,710]\u001b[0m Trial 70 finished with value: 4094.7609321059244 and parameters: {'embedding_dim': 4, 'n_hidden_layers': 2, 'hidden_size0': 113, 'hidden_size1': 37, 'lr': 0.06817919533904095}. Best is trial 69 with value: 3416.3032383443824.\u001b[0m\n",
      "\u001b[32m[I 2023-02-04 00:37:12,915]\u001b[0m Trial 71 pruned. \u001b[0m\n",
      "\u001b[32m[I 2023-02-04 00:37:13,114]\u001b[0m Trial 72 pruned. \u001b[0m\n",
      "\u001b[32m[I 2023-02-04 00:37:13,316]\u001b[0m Trial 73 pruned. \u001b[0m\n",
      "\u001b[32m[I 2023-02-04 00:37:13,524]\u001b[0m Trial 74 pruned. \u001b[0m\n",
      "\u001b[32m[I 2023-02-04 00:37:13,733]\u001b[0m Trial 75 pruned. \u001b[0m\n",
      "\u001b[32m[I 2023-02-04 00:37:13,950]\u001b[0m Trial 76 pruned. \u001b[0m\n",
      "\u001b[32m[I 2023-02-04 00:37:14,162]\u001b[0m Trial 77 pruned. \u001b[0m\n",
      "\u001b[32m[I 2023-02-04 00:37:14,736]\u001b[0m Trial 78 pruned. \u001b[0m\n",
      "\u001b[32m[I 2023-02-04 00:37:14,946]\u001b[0m Trial 79 pruned. \u001b[0m\n",
      "\u001b[32m[I 2023-02-04 00:37:15,520]\u001b[0m Trial 80 pruned. \u001b[0m\n",
      "\u001b[32m[I 2023-02-04 00:37:15,724]\u001b[0m Trial 81 pruned. \u001b[0m\n",
      "\u001b[32m[I 2023-02-04 00:37:16,342]\u001b[0m Trial 82 pruned. \u001b[0m\n",
      "\u001b[32m[I 2023-02-04 00:37:16,550]\u001b[0m Trial 83 pruned. \u001b[0m\n",
      "\u001b[32m[I 2023-02-04 00:37:17,595]\u001b[0m Trial 84 pruned. \u001b[0m\n",
      "\u001b[32m[I 2023-02-04 00:37:17,797]\u001b[0m Trial 85 pruned. \u001b[0m\n",
      "\u001b[32m[I 2023-02-04 00:37:18,033]\u001b[0m Trial 86 pruned. \u001b[0m\n",
      "\u001b[32m[I 2023-02-04 00:37:18,238]\u001b[0m Trial 87 pruned. \u001b[0m\n",
      "\u001b[32m[I 2023-02-04 00:37:18,472]\u001b[0m Trial 88 pruned. \u001b[0m\n",
      "\u001b[32m[I 2023-02-04 00:37:18,670]\u001b[0m Trial 89 pruned. \u001b[0m\n",
      "\u001b[32m[I 2023-02-04 00:37:18,908]\u001b[0m Trial 90 pruned. \u001b[0m\n",
      "\u001b[32m[I 2023-02-04 00:37:19,087]\u001b[0m Trial 91 pruned. \u001b[0m\n",
      "\u001b[32m[I 2023-02-04 00:37:28,450]\u001b[0m Trial 92 finished with value: 4117.102549429391 and parameters: {'embedding_dim': 9, 'n_hidden_layers': 1, 'hidden_size0': 64, 'lr': 0.08577059694944841}. Best is trial 69 with value: 3416.3032383443824.\u001b[0m\n",
      "\u001b[32m[I 2023-02-04 00:37:37,553]\u001b[0m Trial 93 finished with value: 4110.164807732385 and parameters: {'embedding_dim': 9, 'n_hidden_layers': 1, 'hidden_size0': 56, 'lr': 0.09725674064753313}. Best is trial 69 with value: 3416.3032383443824.\u001b[0m\n",
      "\u001b[32m[I 2023-02-04 00:37:38,040]\u001b[0m Trial 94 pruned. \u001b[0m\n",
      "\u001b[32m[I 2023-02-04 00:37:38,261]\u001b[0m Trial 95 pruned. \u001b[0m\n",
      "\u001b[32m[I 2023-02-04 00:37:38,431]\u001b[0m Trial 96 pruned. \u001b[0m\n",
      "\u001b[32m[I 2023-02-04 00:37:38,663]\u001b[0m Trial 97 pruned. \u001b[0m\n",
      "\u001b[32m[I 2023-02-04 00:37:38,895]\u001b[0m Trial 98 pruned. \u001b[0m\n",
      "\u001b[32m[I 2023-02-04 00:37:39,453]\u001b[0m Trial 99 pruned. \u001b[0m\n"
     ]
    },
    {
     "name": "stdout",
     "output_type": "stream",
     "text": [
      "Study statistics: \n",
      "  Number of finished trials: 100\n",
      "  Number of pruned trials: 75\n",
      "  Number of complete trials: 25\n",
      "Best trial:\n",
      "  Value: 3416.3032383443824\n",
      "  Params: \n",
      "    embedding_dim: 4\n",
      "    n_hidden_layers: 2\n",
      "    hidden_size0: 113\n",
      "    hidden_size1: 25\n",
      "    lr: 0.07631054992663061\n",
      "\n",
      "CPU times: user 5min 12s, sys: 885 ms, total: 5min 13s\n",
      "Wall time: 5min 14s\n"
     ]
    }
   ],
   "source": [
    "%%time\n",
    "\n",
    "def save_best_model(study: optuna.study.Study, trial: optuna.trial.Trial) -> None:\n",
    "    \"\"\"Store the best model in the study, to use it later.\"\"\"\n",
    "    if study.best_trial.number == trial.number:\n",
    "        study.set_user_attr(key=\"best_model\", value=trial.user_attrs[\"best_model\"])\n",
    "\n",
    "\n",
    "study = optuna.create_study(direction=\"minimize\")\n",
    "study.optimize(objective, n_trials=TRIALS, timeout=TIMEOUT, callbacks=[save_best_model])\n",
    "best_model = study.user_attrs[\"best_model\"]\n",
    "\n",
    "pruned_trials = study.get_trials(deepcopy=False, states=[TrialState.PRUNED])\n",
    "complete_trials = study.get_trials(deepcopy=False, states=[TrialState.COMPLETE])\n",
    "best_trial = study.best_trial\n",
    "\n",
    "print(\"Study statistics: \")\n",
    "print(f\"  Number of finished trials: {len(study.trials)}\")\n",
    "print(f\"  Number of pruned trials: {len(pruned_trials)}\")\n",
    "print(f\"  Number of complete trials: {len(complete_trials)}\")\n",
    "\n",
    "print(\"Best trial:\")\n",
    "print(f\"  Value: {best_trial.value}\")\n",
    "print(\"  Params: \")\n",
    "for key, value in best_trial.params.items():\n",
    "    print(f\"    {key}: {value}\")\n",
    "print()"
   ]
  },
  {
   "cell_type": "code",
   "execution_count": 11,
   "metadata": {},
   "outputs": [
    {
     "data": {
      "application/vnd.plotly.v1+json": {
       "config": {
        "plotlyServerURL": "https://plot.ly"
       },
       "data": [
        {
         "marker": {
          "maxdisplayed": 10
         },
         "mode": "lines+markers",
         "name": "Trial0",
         "type": "scatter",
         "x": [
          0,
          1,
          2,
          3,
          4,
          5,
          6,
          7,
          8,
          9,
          10,
          11,
          12,
          13,
          14,
          15,
          16,
          17,
          18,
          19,
          20,
          21,
          22,
          23,
          24,
          25,
          26,
          27,
          28,
          29,
          30,
          31,
          32,
          33,
          34,
          35,
          36,
          37,
          38,
          39,
          40,
          41,
          42,
          43,
          44,
          45,
          46,
          47,
          48,
          49,
          50,
          51,
          52,
          53,
          54,
          55,
          56,
          57,
          58,
          59
         ],
         "y": [
          8344.965960247719,
          7627.922999915289,
          7856.8201607924275,
          6257.081500230776,
          5646.308546667153,
          5647.261491062904,
          5347.2470201170345,
          5381.08164903361,
          5959.0621561677135,
          5077.20368458437,
          5400.343296228715,
          5216.270346604378,
          4921.245991585355,
          5408.516971572714,
          5140.660411864656,
          4853.329759095482,
          4573.00341678431,
          4362.508617501824,
          5343.1782574494855,
          5373.9722438539875,
          5085.680019048956,
          4928.667086163181,
          4916.722732361955,
          4970.384967037875,
          5271.154374751823,
          4845.654779537103,
          5007.379720150381,
          5012.401965675547,
          4786.202797283921,
          4724.1313650924485,
          4395.489438957992,
          4627.880610446808,
          4325.658475937883,
          4686.998177316282,
          4498.075136347472,
          4522.157812434371,
          4291.075986703593,
          4177.792822447917,
          4351.0966597538045,
          4230.690092879598,
          4439.2965778979515,
          4501.743969295274,
          4712.141637754925,
          4380.873171524279,
          4422.72563187627,
          4327.8317388827545,
          4205.222009172847,
          4125.130883953158,
          3999.0854858016755,
          3995.9534544340954,
          3857.3948562654714,
          3867.5473771839484,
          3915.2035539580484,
          3937.46143580065,
          4185.099912067597,
          4458.9690227734145,
          4309.822002291997,
          4513.82516222882,
          4522.825534146483,
          4192.058512352583
         ]
        },
        {
         "marker": {
          "maxdisplayed": 10
         },
         "mode": "lines+markers",
         "name": "Trial1",
         "type": "scatter",
         "x": [
          0,
          1,
          2,
          3,
          4,
          5,
          6,
          7,
          8,
          9,
          10,
          11,
          12,
          13,
          14,
          15,
          16,
          17,
          18,
          19,
          20,
          21,
          22,
          23,
          24,
          25,
          26,
          27,
          28,
          29,
          30,
          31,
          32,
          33,
          34,
          35,
          36,
          37,
          38,
          39,
          40,
          41,
          42,
          43,
          44,
          45,
          46,
          47,
          48,
          49,
          50,
          51,
          52,
          53,
          54,
          55,
          56,
          57,
          58,
          59
         ],
         "y": [
          34444.78373506423,
          28944.433299722936,
          23242.021437422667,
          18251.90571891697,
          14286.995743535846,
          11821.982380407053,
          10645.191589927612,
          10037.185896630801,
          9636.999658532695,
          9324.148460010249,
          9052.849857393056,
          8808.752025932512,
          8587.50242222583,
          8380.81104877634,
          8197.273723075172,
          8027.661975425895,
          7871.639195543237,
          7726.74857086096,
          7593.707213184,
          7466.782039457527,
          7347.4616382169515,
          7235.423908904924,
          7135.5872707347735,
          7039.530731326788,
          6949.9700359900025,
          6870.142856523557,
          6793.758319768393,
          6720.065399536792,
          6655.190904879408,
          6586.974311995647,
          6522.663035864768,
          6462.771607440321,
          6401.018421169541,
          6346.134107249223,
          6297.469897034607,
          6248.325520081526,
          6202.5300894889015,
          6156.179771781468,
          6111.614319037753,
          6071.037749173429,
          6033.150851791305,
          5996.315385917232,
          5961.6212567318125,
          5927.127595514793,
          5897.774634910988,
          5866.804920404703,
          5840.2172011573975,
          5814.268450489154,
          5785.454465699967,
          5759.906477947752,
          5736.494968310869,
          5714.162893490748,
          5688.357229495107,
          5667.101973183384,
          5645.060564790937,
          5623.868256656873,
          5604.481662905305,
          5582.289574198886,
          5561.629756158011,
          5542.365112824644
         ]
        },
        {
         "marker": {
          "maxdisplayed": 10
         },
         "mode": "lines+markers",
         "name": "Trial2",
         "type": "scatter",
         "x": [
          0,
          1,
          2,
          3,
          4,
          5,
          6,
          7,
          8,
          9,
          10,
          11,
          12,
          13,
          14,
          15,
          16,
          17,
          18,
          19,
          20,
          21,
          22,
          23,
          24,
          25,
          26,
          27,
          28,
          29,
          30,
          31,
          32,
          33,
          34,
          35,
          36,
          37,
          38,
          39,
          40,
          41,
          42,
          43,
          44,
          45,
          46,
          47,
          48,
          49,
          50,
          51,
          52,
          53,
          54,
          55,
          56,
          57,
          58,
          59
         ],
         "y": [
          17108.546041969945,
          17259.455080025946,
          16857.90780440817,
          16472.34292559413,
          16101.40426324065,
          15746.2321117509,
          15406.58897328416,
          15083.095015273686,
          14776.415217504293,
          14489.211683677184,
          14214.231993956562,
          13952.340591355232,
          13704.3498367719,
          13467.184137708757,
          13242.214208407528,
          13032.936827331974,
          12835.3324945,
          12646.780882612642,
          12468.421823749562,
          12298.171594120518,
          12134.623137793158,
          11981.675735201936,
          11837.436389076503,
          11699.371852178172,
          11567.339434006428,
          11440.2191668287,
          11317.42518460209,
          11197.885516574059,
          11084.338372439657,
          10976.057462606113,
          10871.355038203283,
          10771.380509596904,
          10675.272904553756,
          10582.645625120802,
          10491.588279745809,
          10402.049367563926,
          10314.188283046493,
          10229.010744747478,
          10147.96355347189,
          10070.375060392653,
          9994.814337610638,
          9922.726464721596,
          9852.680693133676,
          9784.910272718094,
          9718.990553908769,
          9654.588217399127,
          9591.584075593313,
          9530.440313414789,
          9470.746483616065,
          9413.004735472021,
          9357.082337911526,
          9303.205726635439,
          9250.399338401652,
          9199.087505444068,
          9149.192348905994,
          9100.394178396577,
          9052.695369082727,
          9005.659685288787,
          8959.221720540201,
          8913.72624802152
         ]
        },
        {
         "marker": {
          "maxdisplayed": 10
         },
         "mode": "lines+markers",
         "name": "Trial3",
         "type": "scatter",
         "x": [
          0,
          1,
          2,
          3,
          4,
          5,
          6,
          7,
          8,
          9,
          10,
          11,
          12,
          13,
          14,
          15,
          16,
          17,
          18,
          19,
          20,
          21,
          22,
          23,
          24,
          25,
          26,
          27,
          28,
          29,
          30,
          31,
          32,
          33,
          34,
          35,
          36,
          37,
          38,
          39,
          40,
          41,
          42,
          43,
          44,
          45,
          46,
          47,
          48,
          49,
          50,
          51,
          52,
          53,
          54,
          55,
          56,
          57,
          58,
          59
         ],
         "y": [
          25567.445320111132,
          23672.883576132197,
          21694.33530769675,
          19913.818107527015,
          18369.978190567166,
          17083.9961003095,
          16033.374415283215,
          15160.308497802318,
          14452.663200822466,
          13888.389565681728,
          13424.795411156245,
          13036.666498786002,
          12716.080451732118,
          12437.803684594961,
          12192.984904349327,
          11976.636398522141,
          11779.736049478302,
          11598.738203423676,
          11432.670707063578,
          11280.89169282125,
          11140.443367882624,
          11011.633130917891,
          10888.833867192774,
          10773.081312739687,
          10662.582497880772,
          10559.62212564167,
          10465.77129489591,
          10376.166552937695,
          10290.78859677097,
          10208.257229199473,
          10130.460223453076,
          10056.363944697932,
          9984.855928725547,
          9914.315992408838,
          9848.650805709682,
          9784.650787021414,
          9724.039176587843,
          9667.093835970581,
          9611.643136313352,
          9557.482983274176,
          9505.871649433906,
          9457.08721496811,
          9408.479154435825,
          9362.103574531244,
          9315.883392556818,
          9272.407669611142,
          9230.58136188535,
          9188.824273078171,
          9146.209828540173,
          9106.574825001888,
          9067.108401497153,
          9029.834445927274,
          8993.667039163945,
          8959.458667064673,
          8925.78016425895,
          8893.00584875958,
          8861.052349558664,
          8829.405256211545,
          8797.416524725577,
          8767.03718045134
         ]
        },
        {
         "marker": {
          "maxdisplayed": 10
         },
         "mode": "lines+markers",
         "name": "Trial4",
         "type": "scatter",
         "x": [
          0,
          1,
          2,
          3,
          4,
          5,
          6,
          7,
          8,
          9,
          10,
          11,
          12,
          13,
          14,
          15,
          16,
          17,
          18,
          19,
          20,
          21,
          22,
          23,
          24,
          25,
          26,
          27,
          28,
          29,
          30,
          31,
          32,
          33,
          34,
          35,
          36,
          37,
          38,
          39,
          40,
          41,
          42,
          43,
          44,
          45,
          46,
          47,
          48,
          49,
          50,
          51,
          52,
          53,
          54,
          55,
          56,
          57,
          58,
          59
         ],
         "y": [
          11780.926325287059,
          9535.558553135195,
          8410.513898319576,
          7704.175888606077,
          7176.004803381268,
          6780.545985385098,
          6462.303393449735,
          6183.003105982224,
          6003.617513454543,
          5863.329201498094,
          5733.931182267895,
          5658.123533350659,
          5568.820122167094,
          5499.344038221758,
          5435.685824222003,
          5374.0316113343215,
          5346.47194782678,
          5272.179515239393,
          5243.272056459133,
          5194.966580468001,
          5164.182783155678,
          5151.759819747423,
          5127.3256664112205,
          5103.145389767424,
          5089.755800093086,
          5041.437998691885,
          5010.829577969928,
          4989.742911587138,
          4915.459863943284,
          4914.4143873084395,
          4898.668111276562,
          4887.687732107992,
          4867.222221276439,
          4872.564157684825,
          4838.400395010955,
          4819.52362522451,
          4829.622396896464,
          4810.652543380074,
          4808.917590092223,
          4800.564426938777,
          4769.988017854068,
          4796.644571464694,
          4804.267178643271,
          4761.916280163346,
          4742.277065121047,
          4743.877287052584,
          4743.79306609068,
          4732.397351220113,
          4727.5140882688975,
          4726.976084895655,
          4701.6289849912755,
          4722.359666114487,
          4684.5714685158855,
          4686.128371368707,
          4662.678715425326,
          4693.32046762954,
          4680.608407532865,
          4661.833061693919,
          4630.6766669928575,
          4606.7036363171
         ]
        },
        {
         "marker": {
          "maxdisplayed": 10
         },
         "mode": "lines+markers",
         "name": "Trial5",
         "type": "scatter",
         "x": [
          0,
          1,
          2,
          3,
          4,
          5,
          6,
          7,
          8,
          9,
          10,
          11,
          12,
          13,
          14,
          15,
          16,
          17,
          18,
          19,
          20,
          21,
          22,
          23,
          24,
          25,
          26,
          27,
          28,
          29,
          30,
          31,
          32,
          33,
          34,
          35,
          36,
          37,
          38,
          39,
          40,
          41,
          42,
          43,
          44,
          45,
          46,
          47,
          48,
          49,
          50,
          51,
          52,
          53,
          54,
          55,
          56,
          57,
          58,
          59
         ],
         "y": [
          10672.366394253633,
          8985.184790879412,
          7160.251985374916,
          6750.6486035563385,
          6233.16317056772,
          5854.567446494102,
          5785.127012411106,
          5378.4512327092125,
          5311.339661604055,
          5367.468782486394,
          5076.211985730588,
          4949.977172387274,
          4838.62760296091,
          4866.815986690227,
          4805.335238203461,
          5018.220715871042,
          4916.3619594051315,
          4911.016948671002,
          4896.879960749202,
          4696.9763394911415,
          4900.159831504155,
          4682.013979788302,
          4658.365648987616,
          4812.914265466612,
          4684.998152492349,
          5091.757325815436,
          4931.441207835182,
          5168.605142570575,
          5127.366436580219,
          4493.025700248383,
          4602.539575979776,
          4647.633067006585,
          4691.442535950627,
          4776.196736237648,
          4602.152529874048,
          4440.656268862611,
          4753.44715946642,
          4791.350521631817,
          4634.669791169983,
          4484.767404923306,
          4316.303038937688,
          4503.846212684258,
          4449.799551784485,
          4506.232009898921,
          4585.016016591942,
          4537.063345711279,
          4481.210492793487,
          4632.958849829519,
          4551.691533549945,
          4696.342735046725,
          5187.542328415015,
          5127.760438903855,
          5037.573804180442,
          4927.4756174715585,
          4540.395531281886,
          4595.911735632192,
          4303.633069875469,
          4562.84054768495,
          4345.6317287511565,
          4376.173617140032
         ]
        },
        {
         "marker": {
          "maxdisplayed": 10
         },
         "mode": "lines+markers",
         "name": "Trial6",
         "type": "scatter",
         "x": [
          0
         ],
         "y": [
          31635.169738596403
         ]
        },
        {
         "marker": {
          "maxdisplayed": 10
         },
         "mode": "lines+markers",
         "name": "Trial7",
         "type": "scatter",
         "x": [
          0,
          1,
          2,
          3,
          4,
          5,
          6,
          7,
          8,
          9,
          10,
          11,
          12,
          13,
          14,
          15,
          16,
          17,
          18,
          19,
          20,
          21,
          22,
          23,
          24,
          25,
          26,
          27,
          28,
          29,
          30,
          31,
          32,
          33,
          34,
          35,
          36,
          37,
          38,
          39,
          40,
          41,
          42,
          43,
          44,
          45,
          46,
          47,
          48,
          49,
          50,
          51,
          52,
          53,
          54,
          55,
          56,
          57,
          58,
          59
         ],
         "y": [
          9758.421555646073,
          6631.532720881294,
          5569.866599974846,
          5393.061277305834,
          5036.7355395503,
          5535.026478423379,
          4960.175614879988,
          4936.878599843072,
          4621.3657772835695,
          4419.639621626708,
          4389.278011099646,
          4371.253727738426,
          4501.422818514666,
          4263.301909378371,
          4333.336590506944,
          4331.526072669583,
          4313.5522690295265,
          4298.629023800272,
          4236.047231059644,
          4222.538500353621,
          4149.825020586819,
          4018.2852053198926,
          4001.7860644053058,
          4235.983192630938,
          4007.4091383888167,
          4141.797467421854,
          4104.825679537012,
          4253.86221965796,
          4231.798860344591,
          4323.529292175945,
          4344.834822922978,
          4116.13785323736,
          4206.1255163481455,
          3972.5719839142744,
          4058.021851425397,
          4097.810358129272,
          4303.875729688927,
          4146.87624749824,
          4135.412319253472,
          4072.7661318439355,
          4173.145435601341,
          4314.024432010632,
          4095.6953326397893,
          4326.620896062962,
          4095.1906109729416,
          4191.104150912874,
          4315.94037301314,
          4306.181599885008,
          4211.391391834317,
          4278.814706420417,
          3917.220577879703,
          4125.074178340507,
          4282.65703155805,
          4205.846708521842,
          4200.149026310863,
          4194.355642612464,
          4242.509443735403,
          4391.237914356974,
          4661.056819049562,
          4636.397754729239
         ]
        },
        {
         "marker": {
          "maxdisplayed": 10
         },
         "mode": "lines+markers",
         "name": "Trial8",
         "type": "scatter",
         "x": [
          0,
          1,
          2,
          3,
          4,
          5,
          6,
          7,
          8,
          9,
          10,
          11,
          12,
          13,
          14,
          15,
          16,
          17,
          18,
          19,
          20,
          21,
          22,
          23,
          24,
          25,
          26,
          27,
          28,
          29,
          30,
          31,
          32,
          33,
          34,
          35,
          36,
          37,
          38,
          39,
          40,
          41,
          42,
          43,
          44,
          45,
          46,
          47,
          48,
          49,
          50,
          51,
          52,
          53,
          54,
          55,
          56,
          57,
          58,
          59
         ],
         "y": [
          8433.103769251136,
          8555.379020368267,
          6926.920383420866,
          5944.162868725355,
          6059.372474281607,
          5307.69070512591,
          5671.154494882633,
          5534.57570462159,
          5129.930387054557,
          5159.8493021666445,
          6578.353785991728,
          7438.999285204393,
          6588.922651645925,
          6677.0488390659175,
          6981.392827456052,
          7242.23168924308,
          7287.879397349781,
          5170.838608694778,
          4797.724792542606,
          4798.681042979068,
          4613.602062070579,
          4980.64688275847,
          4797.2709008785605,
          4969.523585147468,
          4706.026225009473,
          5135.743295296687,
          5249.917985753671,
          5388.835666043523,
          4816.864888143096,
          5094.864109312508,
          5683.1305079491385,
          5275.578494382361,
          5357.110702340714,
          5248.394582633041,
          5352.432844924716,
          5313.706007278115,
          5300.564320431636,
          4950.28513765732,
          4453.684720192903,
          4686.489914064762,
          4491.862136117444,
          4548.055110531872,
          4650.755687412176,
          4536.544213877544,
          4555.95859172029,
          4405.505246231974,
          4427.438511623291,
          5216.888241124777,
          5567.023525044398,
          4923.879210736208,
          4934.4206891447175,
          5099.203689054726,
          4780.983322077966,
          4492.7401469338,
          4504.580298640594,
          4525.995752869452,
          4413.670082198322,
          4414.4954353812955,
          4773.043998368894,
          5611.500534859064
         ]
        },
        {
         "marker": {
          "maxdisplayed": 10
         },
         "mode": "lines+markers",
         "name": "Trial9",
         "type": "scatter",
         "x": [
          0,
          1,
          2,
          3,
          4,
          5,
          6,
          7,
          8,
          9,
          10,
          11,
          12,
          13,
          14,
          15,
          16,
          17,
          18,
          19,
          20,
          21,
          22,
          23,
          24,
          25,
          26,
          27,
          28,
          29,
          30,
          31,
          32,
          33,
          34,
          35,
          36,
          37,
          38,
          39,
          40,
          41,
          42,
          43,
          44,
          45,
          46,
          47,
          48,
          49,
          50,
          51,
          52,
          53,
          54,
          55,
          56,
          57,
          58,
          59
         ],
         "y": [
          6767.9090780088,
          5354.906490480603,
          6639.91888620794,
          6860.094108343404,
          4843.864589590492,
          5731.346419131262,
          6770.379170181086,
          9105.946917678473,
          6097.106165291308,
          5779.732541162899,
          7150.401038734157,
          6203.522406096431,
          4618.3066513419135,
          4642.66566897924,
          4865.441717255539,
          5557.716301631456,
          5029.844090747404,
          4826.818496999507,
          4757.8771529503865,
          4415.614489449569,
          4592.650697704243,
          4612.308786207893,
          4496.716705012937,
          6131.984886142842,
          6031.098302696673,
          5598.169287721276,
          5898.079385689731,
          4467.358306819296,
          4787.438333371064,
          5107.081149649398,
          5585.709718803722,
          4408.218141280082,
          3955.0774144424377,
          3914.382644746162,
          3856.956888248069,
          3945.2148326343236,
          3967.933030729471,
          4594.149616827807,
          3876.425294024658,
          4183.464307199293,
          3870.736440781472,
          4183.368864274713,
          3760.059338003917,
          3835.9912767247615,
          3833.5497069738094,
          4092.4113399166904,
          4827.595923504204,
          5012.302283464217,
          4140.618779638577,
          3646.8897491075086,
          3938.8575501929463,
          4654.355456219328,
          6058.1913549743,
          5208.192844620521,
          4473.204984556193,
          3934.0522684612365,
          3833.851992817168,
          3938.293182111678,
          4089.7594416305997,
          4094.8256874628282
         ]
        },
        {
         "marker": {
          "maxdisplayed": 10
         },
         "mode": "lines+markers",
         "name": "Trial10",
         "type": "scatter",
         "x": [
          0,
          1,
          2
         ],
         "y": [
          8115.292720266667,
          10866.008586327347,
          7890.774118945249
         ]
        },
        {
         "marker": {
          "maxdisplayed": 10
         },
         "mode": "lines+markers",
         "name": "Trial11",
         "type": "scatter",
         "x": [
          0
         ],
         "y": [
          11700.109029969153
         ]
        },
        {
         "marker": {
          "maxdisplayed": 10
         },
         "mode": "lines+markers",
         "name": "Trial12",
         "type": "scatter",
         "x": [
          0,
          1,
          2,
          3,
          4
         ],
         "y": [
          7702.788273332814,
          6690.990680907044,
          8058.229520804378,
          6269.665989324191,
          6354.965547160945
         ]
        },
        {
         "marker": {
          "maxdisplayed": 10
         },
         "mode": "lines+markers",
         "name": "Trial13",
         "type": "scatter",
         "x": [
          0,
          1,
          2,
          3,
          4,
          5,
          6,
          7,
          8,
          9,
          10,
          11,
          12,
          13,
          14,
          15,
          16,
          17,
          18,
          19,
          20,
          21,
          22,
          23,
          24,
          25,
          26,
          27,
          28,
          29,
          30,
          31,
          32,
          33,
          34,
          35,
          36,
          37,
          38,
          39,
          40,
          41,
          42,
          43,
          44,
          45,
          46,
          47,
          48,
          49,
          50,
          51,
          52,
          53,
          54,
          55,
          56,
          57,
          58,
          59
         ],
         "y": [
          10468.629447613102,
          7918.0393483726675,
          5362.169576501534,
          5248.750076037623,
          4839.780411723881,
          6721.126882027951,
          6369.203120724614,
          5839.247869979123,
          5964.922774109921,
          6510.611194377947,
          5613.820306592963,
          5717.738866234757,
          5023.248294156311,
          6005.212179283857,
          4974.653443567739,
          4328.841694755182,
          5323.2678688400065,
          5730.119404825355,
          5347.12286883234,
          5571.781841503929,
          5228.844199412818,
          5939.527494434248,
          5437.171311169684,
          5895.521440157214,
          5391.14341298902,
          5995.565861048581,
          5297.009371383075,
          4715.052803398879,
          4845.936662866394,
          5124.825738574379,
          4320.6798466024475,
          4163.697091326987,
          4021.2395033830517,
          4098.050522235162,
          3803.4498277253574,
          4543.274244746986,
          4190.117315383063,
          4326.754393973079,
          4455.940792519741,
          5319.895660787858,
          5022.6084197243945,
          4049.4460648044437,
          3907.6267022610095,
          4218.656412224548,
          4001.538039037726,
          3712.5648959632886,
          3964.647546492335,
          4772.0746083456215,
          4398.3804715187725,
          3811.0586725896756,
          3902.9383867559945,
          4087.703328440648,
          3714.5387180347257,
          3733.7529826544496,
          4113.281692390835,
          3887.959619133069,
          4259.3635348395,
          3985.8696478022084,
          3859.544070591752,
          3736.26367812966
         ]
        },
        {
         "marker": {
          "maxdisplayed": 10
         },
         "mode": "lines+markers",
         "name": "Trial14",
         "type": "scatter",
         "x": [
          0,
          1,
          2
         ],
         "y": [
          8718.21322097508,
          8031.525230602609,
          11772.680577273228
         ]
        },
        {
         "marker": {
          "maxdisplayed": 10
         },
         "mode": "lines+markers",
         "name": "Trial15",
         "type": "scatter",
         "x": [
          0,
          1,
          2,
          3,
          4,
          5,
          6,
          7,
          8,
          9,
          10,
          11,
          12,
          13,
          14,
          15,
          16,
          17,
          18,
          19,
          20,
          21,
          22,
          23,
          24,
          25,
          26,
          27,
          28,
          29,
          30,
          31,
          32,
          33,
          34,
          35,
          36,
          37,
          38,
          39,
          40,
          41,
          42,
          43,
          44,
          45,
          46,
          47,
          48,
          49,
          50,
          51,
          52,
          53,
          54,
          55,
          56,
          57,
          58,
          59
         ],
         "y": [
          6246.292215759493,
          5058.536129284129,
          6071.641497476606,
          11300.216750966949,
          7192.644391379451,
          5772.5570509468635,
          6605.6245268717885,
          6747.728760198041,
          6960.860380272374,
          6000.3752400258945,
          5162.086579340714,
          6152.084104127627,
          5329.113022547378,
          5815.039103173324,
          5759.51850860645,
          5684.179690555965,
          5982.878738922155,
          5503.321790257859,
          5847.55667612344,
          5541.010367363789,
          5950.904448545476,
          4897.530444869813,
          5320.413674994744,
          3897.9905107768923,
          4429.744319144845,
          4144.643678547722,
          4491.058420235568,
          3807.984470335628,
          3878.2273515545503,
          3784.0670017001657,
          3768.5604026374835,
          3822.767755109458,
          4254.407283141117,
          5313.955791226986,
          6186.600792584181,
          5443.777659915569,
          4957.230407466035,
          4472.837703330003,
          4828.8952504101535,
          4042.6245323834282,
          4638.683878313293,
          3518.652091647313,
          4006.837592559153,
          3622.7937920973154,
          4264.218500095606,
          3747.44043208419,
          4249.295568876917,
          4860.6678977092315,
          5618.896904608949,
          7240.735823896458,
          4979.646094972611,
          4126.649058883648,
          3671.9663830904174,
          3654.352688258588,
          3737.0733455616896,
          5908.656953681236,
          5697.813159271966,
          5273.16163431931,
          4802.697897834865,
          4143.372957879865
         ]
        },
        {
         "marker": {
          "maxdisplayed": 10
         },
         "mode": "lines+markers",
         "name": "Trial16",
         "type": "scatter",
         "x": [
          0,
          1,
          2,
          3,
          4,
          5,
          6,
          7,
          8,
          9,
          10,
          11,
          12,
          13,
          14,
          15,
          16,
          17,
          18,
          19,
          20,
          21,
          22,
          23,
          24,
          25,
          26,
          27,
          28,
          29,
          30,
          31,
          32,
          33,
          34,
          35,
          36,
          37,
          38,
          39,
          40,
          41,
          42,
          43,
          44,
          45,
          46,
          47,
          48,
          49,
          50,
          51,
          52,
          53,
          54,
          55,
          56,
          57,
          58,
          59
         ],
         "y": [
          7108.45777820126,
          5298.7083231174165,
          11064.19311140537,
          9457.216483430477,
          9302.106034858602,
          9832.631369770348,
          7634.624801852614,
          6264.362713263739,
          8489.209781250445,
          6180.277880884244,
          7012.254923202348,
          6379.092483882802,
          6964.395552503146,
          6819.7350421329575,
          5614.301564856604,
          8339.503320392161,
          6652.1138964712,
          5027.95016033926,
          6084.508795322185,
          5364.247146611199,
          4457.998284730292,
          5043.041829235344,
          5391.931115669483,
          6468.737011837054,
          4773.96189488267,
          5020.15279600068,
          4867.458287139635,
          4018.2437476598507,
          5382.963271852046,
          5940.376255393922,
          6448.380835499628,
          4510.0382438866045,
          4526.758097440075,
          5583.327639031238,
          4588.25038298414,
          4064.741181983021,
          5032.649814083527,
          6289.309939410065,
          5417.0448043068245,
          6254.030159284113,
          4561.843275843733,
          5518.444627158637,
          6143.950514675958,
          5775.035998241069,
          4842.731170693663,
          4241.044582995682,
          4358.574157817475,
          4097.2308566330985,
          4796.846821087175,
          4049.705965353417,
          4804.30036941426,
          4850.467248331823,
          4725.451421469635,
          6129.898181206945,
          4070.140917609861,
          4073.46631290615,
          4006.898828715401,
          4007.7537345678115,
          4938.170953303198,
          5161.392143602509
         ]
        },
        {
         "marker": {
          "maxdisplayed": 10
         },
         "mode": "lines+markers",
         "name": "Trial17",
         "type": "scatter",
         "x": [
          0,
          1,
          2,
          3,
          4,
          5
         ],
         "y": [
          8339.324748790019,
          6654.046360455364,
          7518.043454892785,
          7071.792003326572,
          7447.7378353443455,
          6433.4809676822615
         ]
        },
        {
         "marker": {
          "maxdisplayed": 10
         },
         "mode": "lines+markers",
         "name": "Trial18",
         "type": "scatter",
         "x": [
          0,
          1,
          2,
          3,
          4,
          5,
          6,
          7,
          8,
          9,
          10,
          11,
          12,
          13,
          14,
          15,
          16,
          17,
          18,
          19,
          20,
          21,
          22,
          23,
          24,
          25,
          26,
          27,
          28,
          29,
          30,
          31,
          32,
          33,
          34,
          35,
          36,
          37,
          38,
          39,
          40,
          41,
          42,
          43,
          44,
          45,
          46,
          47,
          48,
          49,
          50,
          51,
          52,
          53,
          54,
          55,
          56,
          57,
          58,
          59
         ],
         "y": [
          6891.791286933192,
          5504.29045064637,
          4531.72209212294,
          4417.268450821624,
          4193.530517701278,
          4641.83037744436,
          4077.925971274885,
          4287.024012266088,
          4784.93847857014,
          4042.2787138733174,
          4156.823351084443,
          3957.984064419181,
          3976.127833983043,
          4070.8469085634656,
          3952.2214928356357,
          4049.0071027710687,
          4092.026261137995,
          4162.078558002013,
          4364.880392145037,
          3957.291256966274,
          4011.703841699021,
          4405.34463618062,
          4049.470930978444,
          3909.4574003862617,
          3942.3280174347015,
          4246.895442752267,
          4081.3858646069034,
          4133.943769470758,
          3973.9977685744766,
          4110.892022506091,
          4004.375964426161,
          4421.862097779887,
          4109.928436678876,
          4466.281370348843,
          3893.5268341710835,
          4473.664652276924,
          4190.572367329085,
          4084.203251521252,
          3990.220973382099,
          4074.2361375154337,
          4029.239095086914,
          4245.632058663775,
          4412.340783548295,
          4038.4178553532383,
          4362.276207456634,
          4327.524442127593,
          4005.7664049928244,
          4351.026151700163,
          4138.860897002935,
          3918.6132904367337,
          4028.0375342825923,
          3827.6557547878806,
          4385.940014686598,
          4076.432319986624,
          4100.260917882674,
          4627.3168230814,
          4590.347753120938,
          4229.682254385022,
          4287.061569774686,
          4072.2237857711325
         ]
        },
        {
         "marker": {
          "maxdisplayed": 10
         },
         "mode": "lines+markers",
         "name": "Trial19",
         "type": "scatter",
         "x": [
          0,
          1,
          2,
          3,
          4,
          5,
          6,
          7,
          8,
          9,
          10,
          11,
          12,
          13,
          14,
          15,
          16,
          17,
          18,
          19,
          20,
          21,
          22,
          23,
          24,
          25,
          26,
          27,
          28,
          29,
          30,
          31,
          32,
          33,
          34,
          35,
          36,
          37,
          38,
          39,
          40,
          41,
          42,
          43,
          44,
          45,
          46,
          47,
          48,
          49,
          50,
          51,
          52,
          53,
          54,
          55,
          56,
          57,
          58,
          59
         ],
         "y": [
          6588.531279918311,
          7599.721358821237,
          7544.887723126952,
          4514.886075977864,
          5502.247796146505,
          5310.9319321510575,
          4751.336452615081,
          5732.6491214260195,
          4567.297888347473,
          4384.438024405672,
          4108.004362807509,
          4412.275012840186,
          4324.72346931677,
          4125.717001511148,
          4409.745193487399,
          4294.518490883653,
          4264.381826745027,
          5138.215051067759,
          4027.263405863377,
          4211.355688225912,
          4488.079593305395,
          4050.894660039715,
          3918.7958385058014,
          3870.420565508731,
          3872.384870268778,
          3815.7456790696706,
          3937.884958694337,
          3959.0890365068076,
          4138.137373795164,
          3938.1663596983944,
          4486.840685308137,
          3873.1581866690203,
          3954.046408694991,
          3851.2008925814175,
          4091.436878886219,
          4138.377622705401,
          4201.905362375198,
          3958.7179465121485,
          3970.185771216934,
          3844.679355373146,
          3948.919663889536,
          4024.748675347152,
          4077.8548777645146,
          4076.8185901166134,
          3869.0525467834213,
          3975.9516250965735,
          3956.4930598939654,
          3850.240422077466,
          4034.705880305452,
          3982.561492345086,
          3824.181728347386,
          3919.775117123737,
          3890.2090783920908,
          3973.032867196916,
          4355.580817691892,
          3984.0982156541577,
          4235.619932714688,
          3989.63533493795,
          3922.930071638608,
          4202.348542057716
         ]
        },
        {
         "marker": {
          "maxdisplayed": 10
         },
         "mode": "lines+markers",
         "name": "Trial20",
         "type": "scatter",
         "x": [
          0,
          1,
          2,
          3,
          4,
          5,
          6,
          7,
          8,
          9,
          10,
          11,
          12,
          13,
          14,
          15,
          16,
          17,
          18,
          19,
          20,
          21,
          22,
          23,
          24,
          25,
          26,
          27,
          28,
          29,
          30,
          31,
          32,
          33,
          34,
          35,
          36,
          37,
          38,
          39,
          40,
          41,
          42,
          43,
          44,
          45,
          46,
          47,
          48,
          49,
          50,
          51,
          52,
          53,
          54,
          55,
          56,
          57,
          58,
          59
         ],
         "y": [
          8069.952570015326,
          6085.93417859831,
          4679.630517852975,
          4915.844391394936,
          4708.539668874006,
          4691.423046128537,
          4229.240028081722,
          3982.538001738042,
          4100.977510841638,
          4221.430411985288,
          4123.050826799668,
          3986.2662899026745,
          4105.282236480344,
          3993.2938945802703,
          4149.576423552199,
          4083.050161756009,
          4032.813564929368,
          4373.618596402211,
          3995.340498608521,
          3851.0449134907635,
          4023.967138723351,
          4204.218449362961,
          4011.6607027070204,
          4127.738093204457,
          4183.99497588176,
          3956.1235360504547,
          4018.198222795195,
          4294.6347244831395,
          4508.470493664352,
          4382.74393951651,
          3870.05026087328,
          4336.308698075511,
          4144.408294009223,
          4249.370837448423,
          4117.2136394691615,
          3931.792739497205,
          4016.013511439275,
          3822.7969555034974,
          3776.3990902924684,
          4057.784639681746,
          4102.443355489206,
          3935.7491082623783,
          4321.232693835015,
          4002.278286601959,
          4089.1943775304717,
          3935.913358822778,
          4084.5434317133236,
          4064.0296192085484,
          4219.81335196961,
          4204.619581752084,
          4093.3594360088655,
          3999.554555149966,
          4051.096536568184,
          4027.0137319457885,
          4209.949513725385,
          4028.0713330655117,
          4088.0564265615803,
          4223.207088499548,
          3969.5275603923596,
          4125.7930338789365
         ]
        },
        {
         "marker": {
          "maxdisplayed": 10
         },
         "mode": "lines+markers",
         "name": "Trial21",
         "type": "scatter",
         "x": [
          0,
          1
         ],
         "y": [
          7812.291876899125,
          9115.696290137577
         ]
        },
        {
         "marker": {
          "maxdisplayed": 10
         },
         "mode": "lines+markers",
         "name": "Trial22",
         "type": "scatter",
         "x": [
          0
         ],
         "y": [
          8804.387179208346
         ]
        },
        {
         "marker": {
          "maxdisplayed": 10
         },
         "mode": "lines+markers",
         "name": "Trial23",
         "type": "scatter",
         "x": [
          0
         ],
         "y": [
          10675.026069474037
         ]
        },
        {
         "marker": {
          "maxdisplayed": 10
         },
         "mode": "lines+markers",
         "name": "Trial24",
         "type": "scatter",
         "x": [
          0,
          1,
          2,
          3,
          4,
          5,
          6,
          7,
          8,
          9,
          10,
          11,
          12,
          13,
          14,
          15,
          16,
          17,
          18,
          19,
          20,
          21,
          22,
          23,
          24,
          25,
          26,
          27,
          28,
          29,
          30,
          31,
          32,
          33,
          34,
          35,
          36,
          37,
          38,
          39,
          40,
          41,
          42,
          43,
          44,
          45,
          46,
          47,
          48,
          49,
          50,
          51,
          52,
          53,
          54,
          55,
          56,
          57,
          58,
          59
         ],
         "y": [
          6795.291297745831,
          9544.943925157047,
          5466.291395446356,
          6409.8073538922945,
          5251.02305608266,
          7645.988657100984,
          5041.211146504662,
          6028.156647059694,
          7201.273287443586,
          5172.9650107459665,
          5307.845631541228,
          5623.006906136584,
          4905.153704157039,
          5390.585476048522,
          4612.162927137579,
          4789.814059399463,
          4876.920893053313,
          5968.62914667371,
          5509.794611059999,
          6680.423336872947,
          6327.4966989064305,
          5851.109568930645,
          4766.140362707813,
          5209.8148048718085,
          4640.53332819776,
          5029.226386120085,
          4608.091541770951,
          4507.265488953682,
          4167.096463887039,
          4614.622742097556,
          3912.248187939043,
          4183.579076239444,
          3637.7769425280935,
          3961.301565879053,
          4287.554125586167,
          3859.430098011073,
          4388.873739787267,
          4029.0135516323858,
          4032.59225956663,
          4155.098564726122,
          4044.471208857653,
          4544.956091734074,
          3739.8176014959195,
          3918.3482336834054,
          3896.2907375127306,
          4088.441338233285,
          3981.5537309425813,
          3977.897453885309,
          3975.9996446772884,
          4471.067820298311,
          4276.513251951836,
          3820.4992670775673,
          4346.194342325878,
          4143.020506669719,
          3572.578705961667,
          3697.493865563367,
          3635.6499061815402,
          3682.898408266382,
          3639.6892034689495,
          3585.601958651551
         ]
        },
        {
         "marker": {
          "maxdisplayed": 10
         },
         "mode": "lines+markers",
         "name": "Trial25",
         "type": "scatter",
         "x": [
          0,
          1,
          2,
          3,
          4,
          5,
          6,
          7,
          8,
          9,
          10,
          11,
          12,
          13,
          14,
          15,
          16,
          17,
          18,
          19,
          20,
          21,
          22,
          23,
          24,
          25,
          26,
          27,
          28,
          29,
          30,
          31,
          32,
          33,
          34,
          35,
          36,
          37,
          38,
          39,
          40,
          41,
          42,
          43,
          44,
          45,
          46,
          47,
          48,
          49,
          50,
          51,
          52,
          53,
          54,
          55,
          56,
          57,
          58,
          59
         ],
         "y": [
          6117.59060315867,
          5556.497466992678,
          5493.994975125675,
          6715.591137714178,
          7006.434227362154,
          7615.6514421501515,
          6337.359527890576,
          5690.903329867163,
          6498.592023337586,
          5092.4581998231415,
          4868.090706138338,
          4487.374294180391,
          6231.800217686481,
          4936.733230372739,
          4850.0684804320645,
          4495.704000000004,
          5331.250767254195,
          5072.891997908887,
          4786.500250102344,
          4908.926683674463,
          4945.988293854712,
          5597.050739953411,
          4530.794040086547,
          4916.699912301513,
          4420.566458731972,
          4640.424967286976,
          4773.514628727618,
          4196.162724122907,
          4472.972211076236,
          4676.652421721393,
          4497.836229744081,
          4848.103571470456,
          4089.862038228202,
          4075.3763145733756,
          4487.898011151729,
          4837.613577284709,
          4926.053136246703,
          4634.060389567707,
          4370.038933283043,
          4028.645807983719,
          4102.763847739252,
          4432.319720562277,
          4375.815038416691,
          5217.10382523314,
          4569.768362852352,
          4189.510486830291,
          3923.2524806165916,
          4671.362611096373,
          5141.612824025616,
          4620.13142503661,
          4269.108314708172,
          4167.056731399235,
          4146.934295888741,
          5325.126931189835,
          4137.902015192206,
          3959.4382709309866,
          4391.793556371039,
          4089.610183041927,
          4822.835049037227,
          5448.073830690466
         ]
        },
        {
         "marker": {
          "maxdisplayed": 10
         },
         "mode": "lines+markers",
         "name": "Trial26",
         "type": "scatter",
         "x": [
          0
         ],
         "y": [
          10006.293369078265
         ]
        },
        {
         "marker": {
          "maxdisplayed": 10
         },
         "mode": "lines+markers",
         "name": "Trial27",
         "type": "scatter",
         "x": [
          0,
          1,
          2,
          3,
          4
         ],
         "y": [
          6607.584725811198,
          10622.299048987512,
          9192.89894029508,
          8929.378533938614,
          9078.520753551744
         ]
        },
        {
         "marker": {
          "maxdisplayed": 10
         },
         "mode": "lines+markers",
         "name": "Trial28",
         "type": "scatter",
         "x": [
          0,
          1,
          2,
          3,
          4,
          5,
          6,
          7,
          8,
          9,
          10,
          11,
          12,
          13,
          14,
          15,
          16,
          17,
          18,
          19,
          20,
          21,
          22,
          23,
          24,
          25,
          26,
          27,
          28,
          29,
          30,
          31,
          32,
          33,
          34,
          35,
          36,
          37,
          38,
          39,
          40,
          41,
          42,
          43,
          44,
          45,
          46,
          47,
          48,
          49,
          50,
          51,
          52,
          53,
          54,
          55,
          56,
          57,
          58,
          59
         ],
         "y": [
          6879.784000120474,
          7324.567811304148,
          6000.341651656026,
          4632.556435048533,
          4352.832072278955,
          4748.000493913008,
          4250.860313354964,
          4321.404889963337,
          4367.5170748698465,
          4112.346826882867,
          4926.378198617171,
          4595.825778016418,
          3972.0612995045653,
          5276.2188321383455,
          3917.597014347674,
          4065.7960953193697,
          4289.406908439748,
          4045.7105262060018,
          4597.448102073261,
          4696.387390987544,
          3736.1724598049755,
          3745.7229864243636,
          4446.756008742133,
          3942.777395148143,
          4034.4672178598353,
          3936.8036776377617,
          3776.433384785846,
          3953.98215256281,
          4274.899300648093,
          4459.489081877127,
          3793.0758453370636,
          3900.553887973443,
          3956.5358077404894,
          3923.8823099143447,
          3725.153964526489,
          3625.6219511069544,
          4219.214539839368,
          3869.3634652009537,
          3699.6485697998914,
          3724.6295265822037,
          4343.5570496251285,
          4165.757008322893,
          4046.0884762316728,
          4106.755551607644,
          3945.640728977824,
          3942.1072085637593,
          4587.28369058947,
          4328.45236582504,
          3610.419509921621,
          4006.4770352633327,
          3898.677175793447,
          5575.121843046365,
          3773.9571117010105,
          5536.739083840302,
          4155.502329379457,
          3935.9402344688783,
          3928.717473921374,
          3837.3835525358736,
          4459.714362831972,
          4061.60305211608
         ]
        },
        {
         "marker": {
          "maxdisplayed": 10
         },
         "mode": "lines+markers",
         "name": "Trial29",
         "type": "scatter",
         "x": [
          0
         ],
         "y": [
          8457.94562954722
         ]
        },
        {
         "marker": {
          "maxdisplayed": 10
         },
         "mode": "lines+markers",
         "name": "Trial30",
         "type": "scatter",
         "x": [
          0,
          1,
          2
         ],
         "y": [
          8015.596360149069,
          7469.433991489216,
          7053.788249264261
         ]
        },
        {
         "marker": {
          "maxdisplayed": 10
         },
         "mode": "lines+markers",
         "name": "Trial31",
         "type": "scatter",
         "x": [
          0
         ],
         "y": [
          15353.65985239901
         ]
        },
        {
         "marker": {
          "maxdisplayed": 10
         },
         "mode": "lines+markers",
         "name": "Trial32",
         "type": "scatter",
         "x": [
          0
         ],
         "y": [
          8610.369923215447
         ]
        },
        {
         "marker": {
          "maxdisplayed": 10
         },
         "mode": "lines+markers",
         "name": "Trial33",
         "type": "scatter",
         "x": [
          0,
          1,
          2,
          3,
          4
         ],
         "y": [
          7697.239811562839,
          6030.389793168991,
          9250.42935122801,
          8709.211744847225,
          8225.10469556545
         ]
        },
        {
         "marker": {
          "maxdisplayed": 10
         },
         "mode": "lines+markers",
         "name": "Trial34",
         "type": "scatter",
         "x": [
          0,
          1,
          2,
          3,
          4,
          5,
          6,
          7,
          8,
          9,
          10,
          11,
          12,
          13,
          14,
          15,
          16,
          17,
          18,
          19,
          20,
          21,
          22,
          23,
          24,
          25,
          26,
          27,
          28,
          29,
          30,
          31,
          32,
          33,
          34,
          35,
          36,
          37,
          38,
          39,
          40,
          41,
          42,
          43,
          44,
          45,
          46,
          47,
          48,
          49,
          50,
          51,
          52,
          53,
          54,
          55,
          56,
          57,
          58,
          59
         ],
         "y": [
          6023.50016619624,
          5633.382712975323,
          4708.832684886971,
          5792.034559683562,
          4337.868796586636,
          4439.374031864661,
          6686.102617117637,
          4405.2863833287565,
          4042.3327348876524,
          4198.623956307484,
          5347.940613798839,
          4208.419981362568,
          4936.861877959618,
          5381.907939533825,
          4582.998623002009,
          4462.962971560634,
          4268.011203478407,
          4012.787139032371,
          4168.214989844098,
          6185.911956434532,
          4044.929478427497,
          3882.2379937399674,
          4081.6748410639184,
          3844.2094900872908,
          4219.604944906015,
          3864.0177343128244,
          4310.726305913235,
          5263.1499156560585,
          5021.113126896751,
          4224.674992422429,
          4148.262914190809,
          3843.6535336441766,
          4032.4566152828547,
          4044.251879746067,
          4127.484765511488,
          4237.124675945107,
          4101.345828332674,
          4058.9177218262835,
          4115.784283834248,
          3945.172349986953,
          3759.6223493569582,
          3768.2941255022874,
          3833.1370780715665,
          3995.5703967665377,
          3908.5073948143136,
          3944.333535037544,
          3849.8074082143007,
          4235.167033613481,
          3786.582109723213,
          4232.213327427863,
          3843.698361879151,
          4317.0983466071575,
          3900.5460679890944,
          3950.608660306822,
          3878.6822030794187,
          3945.5081424335262,
          3896.805856050271,
          4030.5234143108273,
          3911.9717450672283,
          3830.8507069516577
         ]
        },
        {
         "marker": {
          "maxdisplayed": 10
         },
         "mode": "lines+markers",
         "name": "Trial35",
         "type": "scatter",
         "x": [
          0
         ],
         "y": [
          9179.118124602799
         ]
        },
        {
         "marker": {
          "maxdisplayed": 10
         },
         "mode": "lines+markers",
         "name": "Trial36",
         "type": "scatter",
         "x": [
          0
         ],
         "y": [
          8541.964459140394
         ]
        },
        {
         "marker": {
          "maxdisplayed": 10
         },
         "mode": "lines+markers",
         "name": "Trial37",
         "type": "scatter",
         "x": [
          0
         ],
         "y": [
          8715.21428829266
         ]
        },
        {
         "marker": {
          "maxdisplayed": 10
         },
         "mode": "lines+markers",
         "name": "Trial38",
         "type": "scatter",
         "x": [
          0,
          1,
          2,
          3,
          4,
          5,
          6,
          7,
          8,
          9,
          10,
          11,
          12,
          13,
          14,
          15,
          16,
          17,
          18,
          19,
          20,
          21,
          22,
          23,
          24,
          25,
          26,
          27,
          28,
          29,
          30,
          31,
          32
         ],
         "y": [
          7706.445450639369,
          6820.9906052032575,
          5005.23799072468,
          4803.14236311065,
          5011.504046779677,
          7808.970940281518,
          7244.0902013901,
          5839.396280528387,
          6299.338050889482,
          4690.710158417431,
          5982.251613723772,
          4714.928181784312,
          4829.533233947085,
          4357.171054630314,
          4537.303955878664,
          4390.420018079501,
          4901.879086748352,
          4797.505918014852,
          5053.651568880539,
          4932.084007847975,
          4924.416764905302,
          5467.283465971125,
          5837.568220040628,
          5530.841938434135,
          6171.61319050153,
          5377.122014260644,
          5752.633779301062,
          4750.05767076935,
          4629.630283978838,
          5005.084796386893,
          4648.176576440755,
          4497.067365321264,
          4252.2856876509795
         ]
        },
        {
         "marker": {
          "maxdisplayed": 10
         },
         "mode": "lines+markers",
         "name": "Trial39",
         "type": "scatter",
         "x": [
          0
         ],
         "y": [
          11013.34557362096
         ]
        },
        {
         "marker": {
          "maxdisplayed": 10
         },
         "mode": "lines+markers",
         "name": "Trial40",
         "type": "scatter",
         "x": [
          0
         ],
         "y": [
          9375.762438267457
         ]
        },
        {
         "marker": {
          "maxdisplayed": 10
         },
         "mode": "lines+markers",
         "name": "Trial41",
         "type": "scatter",
         "x": [
          0,
          1,
          2,
          3,
          4,
          5,
          6,
          7,
          8,
          9,
          10,
          11,
          12,
          13,
          14,
          15,
          16,
          17,
          18,
          19,
          20,
          21,
          22,
          23,
          24,
          25,
          26,
          27,
          28,
          29,
          30,
          31,
          32,
          33,
          34,
          35,
          36,
          37,
          38,
          39,
          40,
          41,
          42,
          43,
          44,
          45,
          46,
          47,
          48,
          49,
          50,
          51,
          52,
          53,
          54,
          55,
          56,
          57,
          58,
          59
         ],
         "y": [
          7275.016688975901,
          6975.6702175516975,
          4873.486391803807,
          6589.2805676134185,
          5050.50494507299,
          5071.617201021902,
          4928.406417938863,
          5084.877832188765,
          4748.509421466451,
          4353.661418586957,
          4473.316154995403,
          4236.976916498804,
          4274.77258430676,
          4217.524654436142,
          4199.351808158195,
          4469.748194517628,
          4015.6355696359856,
          4575.968295945055,
          4804.917383660669,
          4118.324882186323,
          4178.980533898157,
          4224.717155785052,
          4276.131738204477,
          4311.404820454191,
          4465.709393855274,
          4085.3865976015136,
          4522.814790229783,
          3986.6682053833492,
          4038.621590559353,
          4139.771388266951,
          5066.636382957952,
          4543.892246047779,
          4083.936793272307,
          3989.8212287787815,
          4768.332898380411,
          4565.530846812526,
          3928.9886501882424,
          4294.015260685349,
          4182.029751196045,
          4080.8157114436926,
          4371.409717638456,
          4078.253898888365,
          4061.0676971692756,
          4052.28407207963,
          3988.1934168579837,
          4269.245612238757,
          4803.712850801266,
          4218.486530504442,
          3968.66146694401,
          4558.948730629815,
          4072.4324669352222,
          4782.8961232651845,
          4373.624743121783,
          4070.8077697054164,
          3990.4837829527987,
          4667.053320677411,
          4787.598491355483,
          4341.33342440866,
          4346.981249391761,
          5157.977738634589
         ]
        },
        {
         "marker": {
          "maxdisplayed": 10
         },
         "mode": "lines+markers",
         "name": "Trial42",
         "type": "scatter",
         "x": [
          0
         ],
         "y": [
          9064.642858339395
         ]
        },
        {
         "marker": {
          "maxdisplayed": 10
         },
         "mode": "lines+markers",
         "name": "Trial43",
         "type": "scatter",
         "x": [
          0
         ],
         "y": [
          11618.761269238017
         ]
        },
        {
         "marker": {
          "maxdisplayed": 10
         },
         "mode": "lines+markers",
         "name": "Trial44",
         "type": "scatter",
         "x": [
          0,
          1,
          2
         ],
         "y": [
          7059.427874235501,
          10225.89656992667,
          9908.50805381868
         ]
        },
        {
         "marker": {
          "maxdisplayed": 10
         },
         "mode": "lines+markers",
         "name": "Trial45",
         "type": "scatter",
         "x": [
          0,
          1,
          2,
          3,
          4
         ],
         "y": [
          5980.306431718021,
          14910.529513204443,
          10468.288910103285,
          10179.654230682132,
          8967.677825548746
         ]
        },
        {
         "marker": {
          "maxdisplayed": 10
         },
         "mode": "lines+markers",
         "name": "Trial46",
         "type": "scatter",
         "x": [
          0
         ],
         "y": [
          10977.149120686523
         ]
        },
        {
         "marker": {
          "maxdisplayed": 10
         },
         "mode": "lines+markers",
         "name": "Trial47",
         "type": "scatter",
         "x": [
          0
         ],
         "y": [
          8351.614746875364
         ]
        },
        {
         "marker": {
          "maxdisplayed": 10
         },
         "mode": "lines+markers",
         "name": "Trial48",
         "type": "scatter",
         "x": [
          0,
          1,
          2
         ],
         "y": [
          6501.296120463134,
          7918.403298420486,
          8127.963653959969
         ]
        },
        {
         "marker": {
          "maxdisplayed": 10
         },
         "mode": "lines+markers",
         "name": "Trial49",
         "type": "scatter",
         "x": [
          0
         ],
         "y": [
          9320.703797980752
         ]
        },
        {
         "marker": {
          "maxdisplayed": 10
         },
         "mode": "lines+markers",
         "name": "Trial50",
         "type": "scatter",
         "x": [
          0,
          1,
          2,
          3,
          4,
          5,
          6,
          7,
          8,
          9
         ],
         "y": [
          6129.149799942468,
          6296.256728217706,
          5392.156783071382,
          9539.078813467357,
          8013.4266885923325,
          6678.90881616066,
          8074.96207374945,
          7550.070320460473,
          7776.750427749216,
          7169.316842727236
         ]
        },
        {
         "marker": {
          "maxdisplayed": 10
         },
         "mode": "lines+markers",
         "name": "Trial51",
         "type": "scatter",
         "x": [
          0,
          1,
          2,
          3,
          4,
          5,
          6,
          7,
          8,
          9,
          10,
          11,
          12,
          13,
          14,
          15,
          16,
          17,
          18,
          19,
          20,
          21,
          22,
          23,
          24,
          25,
          26,
          27,
          28,
          29,
          30,
          31,
          32,
          33,
          34,
          35,
          36,
          37,
          38,
          39,
          40,
          41,
          42,
          43,
          44,
          45,
          46,
          47,
          48,
          49,
          50,
          51,
          52,
          53,
          54,
          55,
          56,
          57,
          58,
          59
         ],
         "y": [
          7018.393968538535,
          5573.29693227125,
          6897.232604887545,
          5628.635286555317,
          4677.960697937483,
          4164.143163106498,
          7129.981103480122,
          7228.841115259817,
          7473.014787090794,
          6447.714068315468,
          6428.418220434346,
          6543.734429418721,
          5719.9171231217815,
          6018.746418889613,
          5558.3950447564885,
          4582.736061898093,
          4969.017506973889,
          4958.202036701321,
          6267.085404183807,
          5784.248250255854,
          4905.035312509394,
          5558.323252456643,
          4242.536721932901,
          4296.8192518963415,
          5006.7988685189,
          6185.447995559528,
          4943.241021741929,
          5888.369490576211,
          5945.57753064108,
          5231.692261469082,
          5746.647977555243,
          5064.6941039672465,
          4642.884734492814,
          4518.606114538763,
          4121.349479858183,
          4031.213775059386,
          3929.554371367812,
          4209.2122085738665,
          3844.17928950514,
          4262.655227527451,
          3957.25155150758,
          3846.187886528645,
          4474.6495317968765,
          4227.125734116446,
          4234.420376149441,
          4062.1277217955962,
          4174.57960520553,
          4087.46945905251,
          3899.477549557318,
          3897.5037416162663,
          4023.0845241572074,
          3968.7093154416402,
          4019.0749051913795,
          4759.818442173076,
          4324.439779322503,
          5116.809167634332,
          5727.220223360988,
          4357.247968967097,
          4028.4729584558895,
          4101.269501780003
         ]
        },
        {
         "marker": {
          "maxdisplayed": 10
         },
         "mode": "lines+markers",
         "name": "Trial52",
         "type": "scatter",
         "x": [
          0
         ],
         "y": [
          7568.076486358748
         ]
        },
        {
         "marker": {
          "maxdisplayed": 10
         },
         "mode": "lines+markers",
         "name": "Trial53",
         "type": "scatter",
         "x": [
          0
         ],
         "y": [
          8242.84648743407
         ]
        },
        {
         "marker": {
          "maxdisplayed": 10
         },
         "mode": "lines+markers",
         "name": "Trial54",
         "type": "scatter",
         "x": [
          0
         ],
         "y": [
          7430.078269474079
         ]
        },
        {
         "marker": {
          "maxdisplayed": 10
         },
         "mode": "lines+markers",
         "name": "Trial55",
         "type": "scatter",
         "x": [
          0
         ],
         "y": [
          11240.020815632235
         ]
        },
        {
         "marker": {
          "maxdisplayed": 10
         },
         "mode": "lines+markers",
         "name": "Trial56",
         "type": "scatter",
         "x": [
          0,
          1,
          2,
          3,
          4
         ],
         "y": [
          6495.200585007154,
          6172.623004534763,
          5978.0285180948495,
          9207.914365838396,
          6767.178191306889
         ]
        },
        {
         "marker": {
          "maxdisplayed": 10
         },
         "mode": "lines+markers",
         "name": "Trial57",
         "type": "scatter",
         "x": [
          0
         ],
         "y": [
          7348.133241956892
         ]
        },
        {
         "marker": {
          "maxdisplayed": 10
         },
         "mode": "lines+markers",
         "name": "Trial58",
         "type": "scatter",
         "x": [
          0
         ],
         "y": [
          7524.03003255795
         ]
        },
        {
         "marker": {
          "maxdisplayed": 10
         },
         "mode": "lines+markers",
         "name": "Trial59",
         "type": "scatter",
         "x": [
          0,
          1,
          2,
          3,
          4
         ],
         "y": [
          7102.345544079771,
          6523.552659183359,
          8114.650895651042,
          6051.834191717804,
          6706.397317206555
         ]
        },
        {
         "marker": {
          "maxdisplayed": 10
         },
         "mode": "lines+markers",
         "name": "Trial60",
         "type": "scatter",
         "x": [
          0
         ],
         "y": [
          17418.519818619476
         ]
        },
        {
         "marker": {
          "maxdisplayed": 10
         },
         "mode": "lines+markers",
         "name": "Trial61",
         "type": "scatter",
         "x": [
          0
         ],
         "y": [
          8189.168187756475
         ]
        },
        {
         "marker": {
          "maxdisplayed": 10
         },
         "mode": "lines+markers",
         "name": "Trial62",
         "type": "scatter",
         "x": [
          0
         ],
         "y": [
          8779.488657227133
         ]
        },
        {
         "marker": {
          "maxdisplayed": 10
         },
         "mode": "lines+markers",
         "name": "Trial63",
         "type": "scatter",
         "x": [
          0
         ],
         "y": [
          9434.510758788107
         ]
        },
        {
         "marker": {
          "maxdisplayed": 10
         },
         "mode": "lines+markers",
         "name": "Trial64",
         "type": "scatter",
         "x": [
          0
         ],
         "y": [
          8156.470498795055
         ]
        },
        {
         "marker": {
          "maxdisplayed": 10
         },
         "mode": "lines+markers",
         "name": "Trial65",
         "type": "scatter",
         "x": [
          0
         ],
         "y": [
          7718.226485448802
         ]
        },
        {
         "marker": {
          "maxdisplayed": 10
         },
         "mode": "lines+markers",
         "name": "Trial66",
         "type": "scatter",
         "x": [
          0
         ],
         "y": [
          8167.49304941976
         ]
        },
        {
         "marker": {
          "maxdisplayed": 10
         },
         "mode": "lines+markers",
         "name": "Trial67",
         "type": "scatter",
         "x": [
          0,
          1,
          2
         ],
         "y": [
          6804.619215551481,
          7014.183084322865,
          9239.743136862706
         ]
        },
        {
         "marker": {
          "maxdisplayed": 10
         },
         "mode": "lines+markers",
         "name": "Trial68",
         "type": "scatter",
         "x": [
          0
         ],
         "y": [
          14402.03596292076
         ]
        },
        {
         "marker": {
          "maxdisplayed": 10
         },
         "mode": "lines+markers",
         "name": "Trial69",
         "type": "scatter",
         "x": [
          0,
          1,
          2,
          3,
          4,
          5,
          6,
          7,
          8,
          9,
          10,
          11,
          12,
          13,
          14,
          15,
          16,
          17,
          18,
          19,
          20,
          21,
          22,
          23,
          24,
          25,
          26,
          27,
          28,
          29,
          30,
          31,
          32,
          33,
          34,
          35,
          36,
          37,
          38,
          39,
          40,
          41,
          42,
          43,
          44,
          45,
          46,
          47,
          48,
          49,
          50,
          51,
          52,
          53,
          54,
          55,
          56,
          57,
          58,
          59
         ],
         "y": [
          6902.2123411822395,
          10317.564543895376,
          5461.763199543784,
          5926.085097446035,
          5853.837787250287,
          6556.142859085896,
          5285.319047723921,
          5347.4636525301985,
          5300.837953793537,
          5003.064343549906,
          4507.619619317093,
          5062.378632907538,
          4226.139015344833,
          4371.331356093833,
          4371.134500551026,
          4579.441762333413,
          4328.092277999098,
          4376.33722884441,
          3923.316665403471,
          4723.347352115153,
          4470.742511131253,
          4893.031955240169,
          4768.80650372959,
          4212.8620309000635,
          4313.406611162577,
          4105.35902660514,
          3701.1058844338454,
          3992.7760687527493,
          4547.013660841281,
          3501.2461563903644,
          4897.403663302335,
          4437.509138471049,
          4096.888694593367,
          3763.928621776441,
          4045.042620372711,
          3715.2520395704632,
          3740.934236474198,
          3874.3739512268253,
          4467.563671472474,
          3942.559411519663,
          4131.055907902902,
          4035.135231316377,
          3715.750141666863,
          3732.407812944207,
          3521.302752623947,
          3661.8230945699142,
          3761.4215618243425,
          3625.4082155417072,
          3656.3215753365494,
          3971.688307215395,
          3702.248382480845,
          3716.012331240373,
          3553.9368013205494,
          3614.972313558209,
          3771.3781186069787,
          3632.0466211149896,
          3992.6320337985394,
          3624.707850960456,
          3744.4433766912734,
          3416.3032383443824
         ]
        },
        {
         "marker": {
          "maxdisplayed": 10
         },
         "mode": "lines+markers",
         "name": "Trial70",
         "type": "scatter",
         "x": [
          0,
          1,
          2,
          3,
          4,
          5,
          6,
          7,
          8,
          9,
          10,
          11,
          12,
          13,
          14,
          15,
          16,
          17,
          18,
          19,
          20,
          21,
          22,
          23,
          24,
          25,
          26,
          27,
          28,
          29,
          30,
          31,
          32,
          33,
          34,
          35,
          36,
          37,
          38,
          39,
          40,
          41,
          42,
          43,
          44,
          45,
          46,
          47,
          48,
          49,
          50,
          51,
          52,
          53,
          54,
          55,
          56,
          57,
          58,
          59
         ],
         "y": [
          6709.689631335162,
          6997.663746080463,
          4973.753868336823,
          6832.380603923555,
          5714.665789755495,
          5098.903479127763,
          5229.116656552639,
          5857.047007755377,
          5601.279459236374,
          5740.050014008731,
          4716.499391313424,
          5233.563574393782,
          6065.882454332893,
          5250.895064224016,
          4167.223766970807,
          5852.451105697656,
          6139.108713009993,
          5378.508951773682,
          5967.144271050441,
          6477.6647331284075,
          5487.5131436387555,
          6195.521892946139,
          4610.915212478348,
          4373.664520330625,
          5747.90724438317,
          4886.676723347746,
          4664.1195881251515,
          5403.9320469533495,
          4030.2606599520727,
          4592.055818185747,
          5500.744566603927,
          4735.016693585034,
          4278.65952748696,
          4272.5533066166445,
          4206.597562713925,
          4108.991772336572,
          6039.498497224738,
          3737.25083052768,
          6715.601744066218,
          5451.737598439856,
          4155.164020102496,
          3841.0058955638074,
          4074.258331219244,
          3833.679789580394,
          4184.696026722399,
          5240.138749004911,
          3954.8290918256243,
          4270.264496569902,
          3748.345277442919,
          3771.7893669578334,
          3497.475716159409,
          4797.315164785023,
          3413.620995560658,
          3940.5969395767,
          3794.4355400209984,
          4824.733150048275,
          4608.699671125911,
          4775.311645729757,
          3778.0074295015665,
          4094.7609321059244
         ]
        },
        {
         "marker": {
          "maxdisplayed": 10
         },
         "mode": "lines+markers",
         "name": "Trial71",
         "type": "scatter",
         "x": [
          0
         ],
         "y": [
          8079.489842964392
         ]
        },
        {
         "marker": {
          "maxdisplayed": 10
         },
         "mode": "lines+markers",
         "name": "Trial72",
         "type": "scatter",
         "x": [
          0
         ],
         "y": [
          7423.983245004846
         ]
        },
        {
         "marker": {
          "maxdisplayed": 10
         },
         "mode": "lines+markers",
         "name": "Trial73",
         "type": "scatter",
         "x": [
          0
         ],
         "y": [
          15512.086409142654
         ]
        },
        {
         "marker": {
          "maxdisplayed": 10
         },
         "mode": "lines+markers",
         "name": "Trial74",
         "type": "scatter",
         "x": [
          0
         ],
         "y": [
          10818.63137446256
         ]
        },
        {
         "marker": {
          "maxdisplayed": 10
         },
         "mode": "lines+markers",
         "name": "Trial75",
         "type": "scatter",
         "x": [
          0
         ],
         "y": [
          9713.299755134558
         ]
        },
        {
         "marker": {
          "maxdisplayed": 10
         },
         "mode": "lines+markers",
         "name": "Trial76",
         "type": "scatter",
         "x": [
          0
         ],
         "y": [
          17227.666261123897
         ]
        },
        {
         "marker": {
          "maxdisplayed": 10
         },
         "mode": "lines+markers",
         "name": "Trial77",
         "type": "scatter",
         "x": [
          0
         ],
         "y": [
          8623.195617712747
         ]
        },
        {
         "marker": {
          "maxdisplayed": 10
         },
         "mode": "lines+markers",
         "name": "Trial78",
         "type": "scatter",
         "x": [
          0,
          1,
          2
         ],
         "y": [
          6810.246583544418,
          8586.796341882578,
          7461.331298759175
         ]
        },
        {
         "marker": {
          "maxdisplayed": 10
         },
         "mode": "lines+markers",
         "name": "Trial79",
         "type": "scatter",
         "x": [
          0
         ],
         "y": [
          7205.960959518281
         ]
        },
        {
         "marker": {
          "maxdisplayed": 10
         },
         "mode": "lines+markers",
         "name": "Trial80",
         "type": "scatter",
         "x": [
          0,
          1,
          2
         ],
         "y": [
          7075.395283758281,
          8485.095954665598,
          7814.06861401352
         ]
        },
        {
         "marker": {
          "maxdisplayed": 10
         },
         "mode": "lines+markers",
         "name": "Trial81",
         "type": "scatter",
         "x": [
          0
         ],
         "y": [
          8372.315822822688
         ]
        },
        {
         "marker": {
          "maxdisplayed": 10
         },
         "mode": "lines+markers",
         "name": "Trial82",
         "type": "scatter",
         "x": [
          0,
          1,
          2
         ],
         "y": [
          6190.762404104833,
          7156.194348966582,
          6526.079360126136
         ]
        },
        {
         "marker": {
          "maxdisplayed": 10
         },
         "mode": "lines+markers",
         "name": "Trial83",
         "type": "scatter",
         "x": [
          0
         ],
         "y": [
          9134.527733044424
         ]
        },
        {
         "marker": {
          "maxdisplayed": 10
         },
         "mode": "lines+markers",
         "name": "Trial84",
         "type": "scatter",
         "x": [
          0,
          1,
          2,
          3,
          4
         ],
         "y": [
          6278.588909873668,
          6044.3712222620725,
          6925.896078966373,
          7411.643709567111,
          7286.618267300763
         ]
        },
        {
         "marker": {
          "maxdisplayed": 10
         },
         "mode": "lines+markers",
         "name": "Trial85",
         "type": "scatter",
         "x": [
          0
         ],
         "y": [
          12115.967245597818
         ]
        },
        {
         "marker": {
          "maxdisplayed": 10
         },
         "mode": "lines+markers",
         "name": "Trial86",
         "type": "scatter",
         "x": [
          0
         ],
         "y": [
          10307.980766378398
         ]
        },
        {
         "marker": {
          "maxdisplayed": 10
         },
         "mode": "lines+markers",
         "name": "Trial87",
         "type": "scatter",
         "x": [
          0
         ],
         "y": [
          7517.864637371906
         ]
        },
        {
         "marker": {
          "maxdisplayed": 10
         },
         "mode": "lines+markers",
         "name": "Trial88",
         "type": "scatter",
         "x": [
          0
         ],
         "y": [
          14048.101295967044
         ]
        },
        {
         "marker": {
          "maxdisplayed": 10
         },
         "mode": "lines+markers",
         "name": "Trial89",
         "type": "scatter",
         "x": [
          0
         ],
         "y": [
          12500.099096305625
         ]
        },
        {
         "marker": {
          "maxdisplayed": 10
         },
         "mode": "lines+markers",
         "name": "Trial90",
         "type": "scatter",
         "x": [
          0
         ],
         "y": [
          7852.858913133906
         ]
        },
        {
         "marker": {
          "maxdisplayed": 10
         },
         "mode": "lines+markers",
         "name": "Trial91",
         "type": "scatter",
         "x": [
          0
         ],
         "y": [
          7589.030414932302
         ]
        },
        {
         "marker": {
          "maxdisplayed": 10
         },
         "mode": "lines+markers",
         "name": "Trial92",
         "type": "scatter",
         "x": [
          0,
          1,
          2,
          3,
          4,
          5,
          6,
          7,
          8,
          9,
          10,
          11,
          12,
          13,
          14,
          15,
          16,
          17,
          18,
          19,
          20,
          21,
          22,
          23,
          24,
          25,
          26,
          27,
          28,
          29,
          30,
          31,
          32,
          33,
          34,
          35,
          36,
          37,
          38,
          39,
          40,
          41,
          42,
          43,
          44,
          45,
          46,
          47,
          48,
          49,
          50,
          51,
          52,
          53,
          54,
          55,
          56,
          57,
          58,
          59
         ],
         "y": [
          6158.439671957926,
          4868.873704959978,
          5649.932318436322,
          5893.747144553749,
          6034.973147170554,
          4535.37102796644,
          4269.022284630567,
          4761.039655327339,
          4029.6142691135506,
          4629.686782421306,
          4548.894211304196,
          4113.405005569517,
          4310.5423062895015,
          4024.1495595013957,
          4109.028102918491,
          4002.891731117402,
          4161.893652295882,
          4799.719708041537,
          4673.093949927156,
          4368.932717082753,
          4090.2629257520125,
          4211.348137124718,
          4216.80660309739,
          4519.40916367924,
          4194.223205913912,
          4592.620164088199,
          4314.074220314455,
          4141.915689901675,
          4737.949286840731,
          3982.417161829965,
          4592.806383497562,
          4377.2562040516095,
          4192.188139592036,
          3921.6726581511684,
          4202.914757747229,
          3940.950205353327,
          4041.325935716912,
          3879.6092588473025,
          4206.02676144695,
          4267.714683659334,
          3946.7829187708785,
          4445.4043389106355,
          3900.630104807459,
          4017.259971400647,
          3857.129253620669,
          3892.3887277875474,
          4270.6454478531805,
          3830.6383659181834,
          4295.006962304751,
          4084.539877176772,
          4316.201852242418,
          3829.2169581405064,
          4202.914550532884,
          3931.4566908338893,
          3882.4968718206683,
          3897.6824483152986,
          4079.6913038705807,
          3938.5407052512446,
          4045.989385989845,
          4117.102549429391
         ]
        },
        {
         "marker": {
          "maxdisplayed": 10
         },
         "mode": "lines+markers",
         "name": "Trial93",
         "type": "scatter",
         "x": [
          0,
          1,
          2,
          3,
          4,
          5,
          6,
          7,
          8,
          9,
          10,
          11,
          12,
          13,
          14,
          15,
          16,
          17,
          18,
          19,
          20,
          21,
          22,
          23,
          24,
          25,
          26,
          27,
          28,
          29,
          30,
          31,
          32,
          33,
          34,
          35,
          36,
          37,
          38,
          39,
          40,
          41,
          42,
          43,
          44,
          45,
          46,
          47,
          48,
          49,
          50,
          51,
          52,
          53,
          54,
          55,
          56,
          57,
          58,
          59
         ],
         "y": [
          6730.972168266036,
          5314.392198123728,
          4654.903515312156,
          4348.7688157545135,
          4576.523306061549,
          4549.159640231261,
          4266.880981480451,
          4074.7614007735724,
          3954.753264231374,
          3975.772392184089,
          4510.617528259935,
          4076.4221588691066,
          3921.296410790624,
          4041.294520429628,
          4020.887160564937,
          3940.3638984473278,
          4232.074733814119,
          4070.2255617919545,
          4834.049805019683,
          4310.3295489115735,
          5257.481717314574,
          4254.538253543749,
          5788.773367997023,
          4437.7948830642745,
          5055.063484460435,
          4780.407655378078,
          4821.489033693015,
          5100.11492835686,
          4317.637118405151,
          4970.216642597891,
          4430.343267404376,
          4997.711762908586,
          4578.336295951604,
          4619.292336691899,
          4272.273344537483,
          4416.63601663923,
          4364.967474722758,
          4298.466855151295,
          4097.274484945968,
          4082.0763436596912,
          4719.036238848003,
          4365.249766822954,
          4121.397800818085,
          4624.425808346725,
          4851.537080555679,
          4365.749145431093,
          4772.655725759792,
          3942.3802498893306,
          4369.851139179716,
          4652.361727262214,
          4093.1664790087398,
          4238.464443497425,
          4166.123150337173,
          4166.772745248789,
          4153.620356146481,
          4468.6472697079535,
          4877.664979528141,
          4751.136496596338,
          4664.5898471053315,
          4110.164807732385
         ]
        },
        {
         "marker": {
          "maxdisplayed": 10
         },
         "mode": "lines+markers",
         "name": "Trial94",
         "type": "scatter",
         "x": [
          0,
          1,
          2
         ],
         "y": [
          6684.838095216206,
          8396.03836826357,
          6453.054589462988
         ]
        },
        {
         "marker": {
          "maxdisplayed": 10
         },
         "mode": "lines+markers",
         "name": "Trial95",
         "type": "scatter",
         "x": [
          0
         ],
         "y": [
          10929.55878570044
         ]
        },
        {
         "marker": {
          "maxdisplayed": 10
         },
         "mode": "lines+markers",
         "name": "Trial96",
         "type": "scatter",
         "x": [
          0
         ],
         "y": [
          11275.589421178216
         ]
        },
        {
         "marker": {
          "maxdisplayed": 10
         },
         "mode": "lines+markers",
         "name": "Trial97",
         "type": "scatter",
         "x": [
          0
         ],
         "y": [
          8043.805371475784
         ]
        },
        {
         "marker": {
          "maxdisplayed": 10
         },
         "mode": "lines+markers",
         "name": "Trial98",
         "type": "scatter",
         "x": [
          0
         ],
         "y": [
          8428.421132795575
         ]
        },
        {
         "marker": {
          "maxdisplayed": 10
         },
         "mode": "lines+markers",
         "name": "Trial99",
         "type": "scatter",
         "x": [
          0,
          1,
          2
         ],
         "y": [
          6669.143131204686,
          8188.0421328242455,
          6846.487600069057
         ]
        }
       ],
       "layout": {
        "showlegend": false,
        "template": {
         "data": {
          "bar": [
           {
            "error_x": {
             "color": "#2a3f5f"
            },
            "error_y": {
             "color": "#2a3f5f"
            },
            "marker": {
             "line": {
              "color": "#E5ECF6",
              "width": 0.5
             },
             "pattern": {
              "fillmode": "overlay",
              "size": 10,
              "solidity": 0.2
             }
            },
            "type": "bar"
           }
          ],
          "barpolar": [
           {
            "marker": {
             "line": {
              "color": "#E5ECF6",
              "width": 0.5
             },
             "pattern": {
              "fillmode": "overlay",
              "size": 10,
              "solidity": 0.2
             }
            },
            "type": "barpolar"
           }
          ],
          "carpet": [
           {
            "aaxis": {
             "endlinecolor": "#2a3f5f",
             "gridcolor": "white",
             "linecolor": "white",
             "minorgridcolor": "white",
             "startlinecolor": "#2a3f5f"
            },
            "baxis": {
             "endlinecolor": "#2a3f5f",
             "gridcolor": "white",
             "linecolor": "white",
             "minorgridcolor": "white",
             "startlinecolor": "#2a3f5f"
            },
            "type": "carpet"
           }
          ],
          "choropleth": [
           {
            "colorbar": {
             "outlinewidth": 0,
             "ticks": ""
            },
            "type": "choropleth"
           }
          ],
          "contour": [
           {
            "colorbar": {
             "outlinewidth": 0,
             "ticks": ""
            },
            "colorscale": [
             [
              0,
              "#0d0887"
             ],
             [
              0.1111111111111111,
              "#46039f"
             ],
             [
              0.2222222222222222,
              "#7201a8"
             ],
             [
              0.3333333333333333,
              "#9c179e"
             ],
             [
              0.4444444444444444,
              "#bd3786"
             ],
             [
              0.5555555555555556,
              "#d8576b"
             ],
             [
              0.6666666666666666,
              "#ed7953"
             ],
             [
              0.7777777777777778,
              "#fb9f3a"
             ],
             [
              0.8888888888888888,
              "#fdca26"
             ],
             [
              1,
              "#f0f921"
             ]
            ],
            "type": "contour"
           }
          ],
          "contourcarpet": [
           {
            "colorbar": {
             "outlinewidth": 0,
             "ticks": ""
            },
            "type": "contourcarpet"
           }
          ],
          "heatmap": [
           {
            "colorbar": {
             "outlinewidth": 0,
             "ticks": ""
            },
            "colorscale": [
             [
              0,
              "#0d0887"
             ],
             [
              0.1111111111111111,
              "#46039f"
             ],
             [
              0.2222222222222222,
              "#7201a8"
             ],
             [
              0.3333333333333333,
              "#9c179e"
             ],
             [
              0.4444444444444444,
              "#bd3786"
             ],
             [
              0.5555555555555556,
              "#d8576b"
             ],
             [
              0.6666666666666666,
              "#ed7953"
             ],
             [
              0.7777777777777778,
              "#fb9f3a"
             ],
             [
              0.8888888888888888,
              "#fdca26"
             ],
             [
              1,
              "#f0f921"
             ]
            ],
            "type": "heatmap"
           }
          ],
          "heatmapgl": [
           {
            "colorbar": {
             "outlinewidth": 0,
             "ticks": ""
            },
            "colorscale": [
             [
              0,
              "#0d0887"
             ],
             [
              0.1111111111111111,
              "#46039f"
             ],
             [
              0.2222222222222222,
              "#7201a8"
             ],
             [
              0.3333333333333333,
              "#9c179e"
             ],
             [
              0.4444444444444444,
              "#bd3786"
             ],
             [
              0.5555555555555556,
              "#d8576b"
             ],
             [
              0.6666666666666666,
              "#ed7953"
             ],
             [
              0.7777777777777778,
              "#fb9f3a"
             ],
             [
              0.8888888888888888,
              "#fdca26"
             ],
             [
              1,
              "#f0f921"
             ]
            ],
            "type": "heatmapgl"
           }
          ],
          "histogram": [
           {
            "marker": {
             "pattern": {
              "fillmode": "overlay",
              "size": 10,
              "solidity": 0.2
             }
            },
            "type": "histogram"
           }
          ],
          "histogram2d": [
           {
            "colorbar": {
             "outlinewidth": 0,
             "ticks": ""
            },
            "colorscale": [
             [
              0,
              "#0d0887"
             ],
             [
              0.1111111111111111,
              "#46039f"
             ],
             [
              0.2222222222222222,
              "#7201a8"
             ],
             [
              0.3333333333333333,
              "#9c179e"
             ],
             [
              0.4444444444444444,
              "#bd3786"
             ],
             [
              0.5555555555555556,
              "#d8576b"
             ],
             [
              0.6666666666666666,
              "#ed7953"
             ],
             [
              0.7777777777777778,
              "#fb9f3a"
             ],
             [
              0.8888888888888888,
              "#fdca26"
             ],
             [
              1,
              "#f0f921"
             ]
            ],
            "type": "histogram2d"
           }
          ],
          "histogram2dcontour": [
           {
            "colorbar": {
             "outlinewidth": 0,
             "ticks": ""
            },
            "colorscale": [
             [
              0,
              "#0d0887"
             ],
             [
              0.1111111111111111,
              "#46039f"
             ],
             [
              0.2222222222222222,
              "#7201a8"
             ],
             [
              0.3333333333333333,
              "#9c179e"
             ],
             [
              0.4444444444444444,
              "#bd3786"
             ],
             [
              0.5555555555555556,
              "#d8576b"
             ],
             [
              0.6666666666666666,
              "#ed7953"
             ],
             [
              0.7777777777777778,
              "#fb9f3a"
             ],
             [
              0.8888888888888888,
              "#fdca26"
             ],
             [
              1,
              "#f0f921"
             ]
            ],
            "type": "histogram2dcontour"
           }
          ],
          "mesh3d": [
           {
            "colorbar": {
             "outlinewidth": 0,
             "ticks": ""
            },
            "type": "mesh3d"
           }
          ],
          "parcoords": [
           {
            "line": {
             "colorbar": {
              "outlinewidth": 0,
              "ticks": ""
             }
            },
            "type": "parcoords"
           }
          ],
          "pie": [
           {
            "automargin": true,
            "type": "pie"
           }
          ],
          "scatter": [
           {
            "fillpattern": {
             "fillmode": "overlay",
             "size": 10,
             "solidity": 0.2
            },
            "type": "scatter"
           }
          ],
          "scatter3d": [
           {
            "line": {
             "colorbar": {
              "outlinewidth": 0,
              "ticks": ""
             }
            },
            "marker": {
             "colorbar": {
              "outlinewidth": 0,
              "ticks": ""
             }
            },
            "type": "scatter3d"
           }
          ],
          "scattercarpet": [
           {
            "marker": {
             "colorbar": {
              "outlinewidth": 0,
              "ticks": ""
             }
            },
            "type": "scattercarpet"
           }
          ],
          "scattergeo": [
           {
            "marker": {
             "colorbar": {
              "outlinewidth": 0,
              "ticks": ""
             }
            },
            "type": "scattergeo"
           }
          ],
          "scattergl": [
           {
            "marker": {
             "colorbar": {
              "outlinewidth": 0,
              "ticks": ""
             }
            },
            "type": "scattergl"
           }
          ],
          "scattermapbox": [
           {
            "marker": {
             "colorbar": {
              "outlinewidth": 0,
              "ticks": ""
             }
            },
            "type": "scattermapbox"
           }
          ],
          "scatterpolar": [
           {
            "marker": {
             "colorbar": {
              "outlinewidth": 0,
              "ticks": ""
             }
            },
            "type": "scatterpolar"
           }
          ],
          "scatterpolargl": [
           {
            "marker": {
             "colorbar": {
              "outlinewidth": 0,
              "ticks": ""
             }
            },
            "type": "scatterpolargl"
           }
          ],
          "scatterternary": [
           {
            "marker": {
             "colorbar": {
              "outlinewidth": 0,
              "ticks": ""
             }
            },
            "type": "scatterternary"
           }
          ],
          "surface": [
           {
            "colorbar": {
             "outlinewidth": 0,
             "ticks": ""
            },
            "colorscale": [
             [
              0,
              "#0d0887"
             ],
             [
              0.1111111111111111,
              "#46039f"
             ],
             [
              0.2222222222222222,
              "#7201a8"
             ],
             [
              0.3333333333333333,
              "#9c179e"
             ],
             [
              0.4444444444444444,
              "#bd3786"
             ],
             [
              0.5555555555555556,
              "#d8576b"
             ],
             [
              0.6666666666666666,
              "#ed7953"
             ],
             [
              0.7777777777777778,
              "#fb9f3a"
             ],
             [
              0.8888888888888888,
              "#fdca26"
             ],
             [
              1,
              "#f0f921"
             ]
            ],
            "type": "surface"
           }
          ],
          "table": [
           {
            "cells": {
             "fill": {
              "color": "#EBF0F8"
             },
             "line": {
              "color": "white"
             }
            },
            "header": {
             "fill": {
              "color": "#C8D4E3"
             },
             "line": {
              "color": "white"
             }
            },
            "type": "table"
           }
          ]
         },
         "layout": {
          "annotationdefaults": {
           "arrowcolor": "#2a3f5f",
           "arrowhead": 0,
           "arrowwidth": 1
          },
          "autotypenumbers": "strict",
          "coloraxis": {
           "colorbar": {
            "outlinewidth": 0,
            "ticks": ""
           }
          },
          "colorscale": {
           "diverging": [
            [
             0,
             "#8e0152"
            ],
            [
             0.1,
             "#c51b7d"
            ],
            [
             0.2,
             "#de77ae"
            ],
            [
             0.3,
             "#f1b6da"
            ],
            [
             0.4,
             "#fde0ef"
            ],
            [
             0.5,
             "#f7f7f7"
            ],
            [
             0.6,
             "#e6f5d0"
            ],
            [
             0.7,
             "#b8e186"
            ],
            [
             0.8,
             "#7fbc41"
            ],
            [
             0.9,
             "#4d9221"
            ],
            [
             1,
             "#276419"
            ]
           ],
           "sequential": [
            [
             0,
             "#0d0887"
            ],
            [
             0.1111111111111111,
             "#46039f"
            ],
            [
             0.2222222222222222,
             "#7201a8"
            ],
            [
             0.3333333333333333,
             "#9c179e"
            ],
            [
             0.4444444444444444,
             "#bd3786"
            ],
            [
             0.5555555555555556,
             "#d8576b"
            ],
            [
             0.6666666666666666,
             "#ed7953"
            ],
            [
             0.7777777777777778,
             "#fb9f3a"
            ],
            [
             0.8888888888888888,
             "#fdca26"
            ],
            [
             1,
             "#f0f921"
            ]
           ],
           "sequentialminus": [
            [
             0,
             "#0d0887"
            ],
            [
             0.1111111111111111,
             "#46039f"
            ],
            [
             0.2222222222222222,
             "#7201a8"
            ],
            [
             0.3333333333333333,
             "#9c179e"
            ],
            [
             0.4444444444444444,
             "#bd3786"
            ],
            [
             0.5555555555555556,
             "#d8576b"
            ],
            [
             0.6666666666666666,
             "#ed7953"
            ],
            [
             0.7777777777777778,
             "#fb9f3a"
            ],
            [
             0.8888888888888888,
             "#fdca26"
            ],
            [
             1,
             "#f0f921"
            ]
           ]
          },
          "colorway": [
           "#636efa",
           "#EF553B",
           "#00cc96",
           "#ab63fa",
           "#FFA15A",
           "#19d3f3",
           "#FF6692",
           "#B6E880",
           "#FF97FF",
           "#FECB52"
          ],
          "font": {
           "color": "#2a3f5f"
          },
          "geo": {
           "bgcolor": "white",
           "lakecolor": "white",
           "landcolor": "#E5ECF6",
           "showlakes": true,
           "showland": true,
           "subunitcolor": "white"
          },
          "hoverlabel": {
           "align": "left"
          },
          "hovermode": "closest",
          "mapbox": {
           "style": "light"
          },
          "paper_bgcolor": "white",
          "plot_bgcolor": "#E5ECF6",
          "polar": {
           "angularaxis": {
            "gridcolor": "white",
            "linecolor": "white",
            "ticks": ""
           },
           "bgcolor": "#E5ECF6",
           "radialaxis": {
            "gridcolor": "white",
            "linecolor": "white",
            "ticks": ""
           }
          },
          "scene": {
           "xaxis": {
            "backgroundcolor": "#E5ECF6",
            "gridcolor": "white",
            "gridwidth": 2,
            "linecolor": "white",
            "showbackground": true,
            "ticks": "",
            "zerolinecolor": "white"
           },
           "yaxis": {
            "backgroundcolor": "#E5ECF6",
            "gridcolor": "white",
            "gridwidth": 2,
            "linecolor": "white",
            "showbackground": true,
            "ticks": "",
            "zerolinecolor": "white"
           },
           "zaxis": {
            "backgroundcolor": "#E5ECF6",
            "gridcolor": "white",
            "gridwidth": 2,
            "linecolor": "white",
            "showbackground": true,
            "ticks": "",
            "zerolinecolor": "white"
           }
          },
          "shapedefaults": {
           "line": {
            "color": "#2a3f5f"
           }
          },
          "ternary": {
           "aaxis": {
            "gridcolor": "white",
            "linecolor": "white",
            "ticks": ""
           },
           "baxis": {
            "gridcolor": "white",
            "linecolor": "white",
            "ticks": ""
           },
           "bgcolor": "#E5ECF6",
           "caxis": {
            "gridcolor": "white",
            "linecolor": "white",
            "ticks": ""
           }
          },
          "title": {
           "x": 0.05
          },
          "xaxis": {
           "automargin": true,
           "gridcolor": "white",
           "linecolor": "white",
           "ticks": "",
           "title": {
            "standoff": 15
           },
           "zerolinecolor": "white",
           "zerolinewidth": 2
          },
          "yaxis": {
           "automargin": true,
           "gridcolor": "white",
           "linecolor": "white",
           "ticks": "",
           "title": {
            "standoff": 15
           },
           "zerolinecolor": "white",
           "zerolinewidth": 2
          }
         }
        },
        "title": {
         "text": "Intermediate Values Plot"
        },
        "xaxis": {
         "title": {
          "text": "Step"
         }
        },
        "yaxis": {
         "title": {
          "text": "Intermediate Value"
         }
        }
       }
      }
     },
     "metadata": {},
     "output_type": "display_data"
    },
    {
     "data": {
      "application/vnd.plotly.v1+json": {
       "config": {
        "plotlyServerURL": "https://plot.ly"
       },
       "data": [
        {
         "mode": "markers",
         "name": "Objective Value",
         "type": "scatter",
         "x": [
          0,
          1,
          2,
          3,
          4,
          5,
          7,
          8,
          9,
          13,
          15,
          16,
          18,
          19,
          20,
          24,
          25,
          28,
          34,
          41,
          51,
          69,
          70,
          92,
          93
         ],
         "y": [
          4192.058512352583,
          5542.365112824644,
          8913.72624802152,
          8767.03718045134,
          4606.7036363171,
          4376.173617140032,
          4636.397754729239,
          5611.500534859064,
          4094.8256874628282,
          3736.26367812966,
          4143.372957879865,
          5161.392143602509,
          4072.2237857711325,
          4202.348542057716,
          4125.7930338789365,
          3585.601958651551,
          5448.073830690466,
          4061.60305211608,
          3830.8507069516577,
          5157.977738634589,
          4101.269501780003,
          3416.3032383443824,
          4094.7609321059244,
          4117.102549429391,
          4110.164807732385
         ]
        },
        {
         "name": "Best Value",
         "type": "scatter",
         "x": [
          0,
          1,
          2,
          3,
          4,
          5,
          7,
          8,
          9,
          13,
          15,
          16,
          18,
          19,
          20,
          24,
          25,
          28,
          34,
          41,
          51,
          69,
          70,
          92,
          93
         ],
         "y": [
          4192.058512352583,
          4192.058512352583,
          4192.058512352583,
          4192.058512352583,
          4192.058512352583,
          4192.058512352583,
          4192.058512352583,
          4192.058512352583,
          4094.8256874628282,
          3736.26367812966,
          3736.26367812966,
          3736.26367812966,
          3736.26367812966,
          3736.26367812966,
          3736.26367812966,
          3585.601958651551,
          3585.601958651551,
          3585.601958651551,
          3585.601958651551,
          3585.601958651551,
          3585.601958651551,
          3416.3032383443824,
          3416.3032383443824,
          3416.3032383443824,
          3416.3032383443824
         ]
        }
       ],
       "layout": {
        "template": {
         "data": {
          "bar": [
           {
            "error_x": {
             "color": "#2a3f5f"
            },
            "error_y": {
             "color": "#2a3f5f"
            },
            "marker": {
             "line": {
              "color": "#E5ECF6",
              "width": 0.5
             },
             "pattern": {
              "fillmode": "overlay",
              "size": 10,
              "solidity": 0.2
             }
            },
            "type": "bar"
           }
          ],
          "barpolar": [
           {
            "marker": {
             "line": {
              "color": "#E5ECF6",
              "width": 0.5
             },
             "pattern": {
              "fillmode": "overlay",
              "size": 10,
              "solidity": 0.2
             }
            },
            "type": "barpolar"
           }
          ],
          "carpet": [
           {
            "aaxis": {
             "endlinecolor": "#2a3f5f",
             "gridcolor": "white",
             "linecolor": "white",
             "minorgridcolor": "white",
             "startlinecolor": "#2a3f5f"
            },
            "baxis": {
             "endlinecolor": "#2a3f5f",
             "gridcolor": "white",
             "linecolor": "white",
             "minorgridcolor": "white",
             "startlinecolor": "#2a3f5f"
            },
            "type": "carpet"
           }
          ],
          "choropleth": [
           {
            "colorbar": {
             "outlinewidth": 0,
             "ticks": ""
            },
            "type": "choropleth"
           }
          ],
          "contour": [
           {
            "colorbar": {
             "outlinewidth": 0,
             "ticks": ""
            },
            "colorscale": [
             [
              0,
              "#0d0887"
             ],
             [
              0.1111111111111111,
              "#46039f"
             ],
             [
              0.2222222222222222,
              "#7201a8"
             ],
             [
              0.3333333333333333,
              "#9c179e"
             ],
             [
              0.4444444444444444,
              "#bd3786"
             ],
             [
              0.5555555555555556,
              "#d8576b"
             ],
             [
              0.6666666666666666,
              "#ed7953"
             ],
             [
              0.7777777777777778,
              "#fb9f3a"
             ],
             [
              0.8888888888888888,
              "#fdca26"
             ],
             [
              1,
              "#f0f921"
             ]
            ],
            "type": "contour"
           }
          ],
          "contourcarpet": [
           {
            "colorbar": {
             "outlinewidth": 0,
             "ticks": ""
            },
            "type": "contourcarpet"
           }
          ],
          "heatmap": [
           {
            "colorbar": {
             "outlinewidth": 0,
             "ticks": ""
            },
            "colorscale": [
             [
              0,
              "#0d0887"
             ],
             [
              0.1111111111111111,
              "#46039f"
             ],
             [
              0.2222222222222222,
              "#7201a8"
             ],
             [
              0.3333333333333333,
              "#9c179e"
             ],
             [
              0.4444444444444444,
              "#bd3786"
             ],
             [
              0.5555555555555556,
              "#d8576b"
             ],
             [
              0.6666666666666666,
              "#ed7953"
             ],
             [
              0.7777777777777778,
              "#fb9f3a"
             ],
             [
              0.8888888888888888,
              "#fdca26"
             ],
             [
              1,
              "#f0f921"
             ]
            ],
            "type": "heatmap"
           }
          ],
          "heatmapgl": [
           {
            "colorbar": {
             "outlinewidth": 0,
             "ticks": ""
            },
            "colorscale": [
             [
              0,
              "#0d0887"
             ],
             [
              0.1111111111111111,
              "#46039f"
             ],
             [
              0.2222222222222222,
              "#7201a8"
             ],
             [
              0.3333333333333333,
              "#9c179e"
             ],
             [
              0.4444444444444444,
              "#bd3786"
             ],
             [
              0.5555555555555556,
              "#d8576b"
             ],
             [
              0.6666666666666666,
              "#ed7953"
             ],
             [
              0.7777777777777778,
              "#fb9f3a"
             ],
             [
              0.8888888888888888,
              "#fdca26"
             ],
             [
              1,
              "#f0f921"
             ]
            ],
            "type": "heatmapgl"
           }
          ],
          "histogram": [
           {
            "marker": {
             "pattern": {
              "fillmode": "overlay",
              "size": 10,
              "solidity": 0.2
             }
            },
            "type": "histogram"
           }
          ],
          "histogram2d": [
           {
            "colorbar": {
             "outlinewidth": 0,
             "ticks": ""
            },
            "colorscale": [
             [
              0,
              "#0d0887"
             ],
             [
              0.1111111111111111,
              "#46039f"
             ],
             [
              0.2222222222222222,
              "#7201a8"
             ],
             [
              0.3333333333333333,
              "#9c179e"
             ],
             [
              0.4444444444444444,
              "#bd3786"
             ],
             [
              0.5555555555555556,
              "#d8576b"
             ],
             [
              0.6666666666666666,
              "#ed7953"
             ],
             [
              0.7777777777777778,
              "#fb9f3a"
             ],
             [
              0.8888888888888888,
              "#fdca26"
             ],
             [
              1,
              "#f0f921"
             ]
            ],
            "type": "histogram2d"
           }
          ],
          "histogram2dcontour": [
           {
            "colorbar": {
             "outlinewidth": 0,
             "ticks": ""
            },
            "colorscale": [
             [
              0,
              "#0d0887"
             ],
             [
              0.1111111111111111,
              "#46039f"
             ],
             [
              0.2222222222222222,
              "#7201a8"
             ],
             [
              0.3333333333333333,
              "#9c179e"
             ],
             [
              0.4444444444444444,
              "#bd3786"
             ],
             [
              0.5555555555555556,
              "#d8576b"
             ],
             [
              0.6666666666666666,
              "#ed7953"
             ],
             [
              0.7777777777777778,
              "#fb9f3a"
             ],
             [
              0.8888888888888888,
              "#fdca26"
             ],
             [
              1,
              "#f0f921"
             ]
            ],
            "type": "histogram2dcontour"
           }
          ],
          "mesh3d": [
           {
            "colorbar": {
             "outlinewidth": 0,
             "ticks": ""
            },
            "type": "mesh3d"
           }
          ],
          "parcoords": [
           {
            "line": {
             "colorbar": {
              "outlinewidth": 0,
              "ticks": ""
             }
            },
            "type": "parcoords"
           }
          ],
          "pie": [
           {
            "automargin": true,
            "type": "pie"
           }
          ],
          "scatter": [
           {
            "fillpattern": {
             "fillmode": "overlay",
             "size": 10,
             "solidity": 0.2
            },
            "type": "scatter"
           }
          ],
          "scatter3d": [
           {
            "line": {
             "colorbar": {
              "outlinewidth": 0,
              "ticks": ""
             }
            },
            "marker": {
             "colorbar": {
              "outlinewidth": 0,
              "ticks": ""
             }
            },
            "type": "scatter3d"
           }
          ],
          "scattercarpet": [
           {
            "marker": {
             "colorbar": {
              "outlinewidth": 0,
              "ticks": ""
             }
            },
            "type": "scattercarpet"
           }
          ],
          "scattergeo": [
           {
            "marker": {
             "colorbar": {
              "outlinewidth": 0,
              "ticks": ""
             }
            },
            "type": "scattergeo"
           }
          ],
          "scattergl": [
           {
            "marker": {
             "colorbar": {
              "outlinewidth": 0,
              "ticks": ""
             }
            },
            "type": "scattergl"
           }
          ],
          "scattermapbox": [
           {
            "marker": {
             "colorbar": {
              "outlinewidth": 0,
              "ticks": ""
             }
            },
            "type": "scattermapbox"
           }
          ],
          "scatterpolar": [
           {
            "marker": {
             "colorbar": {
              "outlinewidth": 0,
              "ticks": ""
             }
            },
            "type": "scatterpolar"
           }
          ],
          "scatterpolargl": [
           {
            "marker": {
             "colorbar": {
              "outlinewidth": 0,
              "ticks": ""
             }
            },
            "type": "scatterpolargl"
           }
          ],
          "scatterternary": [
           {
            "marker": {
             "colorbar": {
              "outlinewidth": 0,
              "ticks": ""
             }
            },
            "type": "scatterternary"
           }
          ],
          "surface": [
           {
            "colorbar": {
             "outlinewidth": 0,
             "ticks": ""
            },
            "colorscale": [
             [
              0,
              "#0d0887"
             ],
             [
              0.1111111111111111,
              "#46039f"
             ],
             [
              0.2222222222222222,
              "#7201a8"
             ],
             [
              0.3333333333333333,
              "#9c179e"
             ],
             [
              0.4444444444444444,
              "#bd3786"
             ],
             [
              0.5555555555555556,
              "#d8576b"
             ],
             [
              0.6666666666666666,
              "#ed7953"
             ],
             [
              0.7777777777777778,
              "#fb9f3a"
             ],
             [
              0.8888888888888888,
              "#fdca26"
             ],
             [
              1,
              "#f0f921"
             ]
            ],
            "type": "surface"
           }
          ],
          "table": [
           {
            "cells": {
             "fill": {
              "color": "#EBF0F8"
             },
             "line": {
              "color": "white"
             }
            },
            "header": {
             "fill": {
              "color": "#C8D4E3"
             },
             "line": {
              "color": "white"
             }
            },
            "type": "table"
           }
          ]
         },
         "layout": {
          "annotationdefaults": {
           "arrowcolor": "#2a3f5f",
           "arrowhead": 0,
           "arrowwidth": 1
          },
          "autotypenumbers": "strict",
          "coloraxis": {
           "colorbar": {
            "outlinewidth": 0,
            "ticks": ""
           }
          },
          "colorscale": {
           "diverging": [
            [
             0,
             "#8e0152"
            ],
            [
             0.1,
             "#c51b7d"
            ],
            [
             0.2,
             "#de77ae"
            ],
            [
             0.3,
             "#f1b6da"
            ],
            [
             0.4,
             "#fde0ef"
            ],
            [
             0.5,
             "#f7f7f7"
            ],
            [
             0.6,
             "#e6f5d0"
            ],
            [
             0.7,
             "#b8e186"
            ],
            [
             0.8,
             "#7fbc41"
            ],
            [
             0.9,
             "#4d9221"
            ],
            [
             1,
             "#276419"
            ]
           ],
           "sequential": [
            [
             0,
             "#0d0887"
            ],
            [
             0.1111111111111111,
             "#46039f"
            ],
            [
             0.2222222222222222,
             "#7201a8"
            ],
            [
             0.3333333333333333,
             "#9c179e"
            ],
            [
             0.4444444444444444,
             "#bd3786"
            ],
            [
             0.5555555555555556,
             "#d8576b"
            ],
            [
             0.6666666666666666,
             "#ed7953"
            ],
            [
             0.7777777777777778,
             "#fb9f3a"
            ],
            [
             0.8888888888888888,
             "#fdca26"
            ],
            [
             1,
             "#f0f921"
            ]
           ],
           "sequentialminus": [
            [
             0,
             "#0d0887"
            ],
            [
             0.1111111111111111,
             "#46039f"
            ],
            [
             0.2222222222222222,
             "#7201a8"
            ],
            [
             0.3333333333333333,
             "#9c179e"
            ],
            [
             0.4444444444444444,
             "#bd3786"
            ],
            [
             0.5555555555555556,
             "#d8576b"
            ],
            [
             0.6666666666666666,
             "#ed7953"
            ],
            [
             0.7777777777777778,
             "#fb9f3a"
            ],
            [
             0.8888888888888888,
             "#fdca26"
            ],
            [
             1,
             "#f0f921"
            ]
           ]
          },
          "colorway": [
           "#636efa",
           "#EF553B",
           "#00cc96",
           "#ab63fa",
           "#FFA15A",
           "#19d3f3",
           "#FF6692",
           "#B6E880",
           "#FF97FF",
           "#FECB52"
          ],
          "font": {
           "color": "#2a3f5f"
          },
          "geo": {
           "bgcolor": "white",
           "lakecolor": "white",
           "landcolor": "#E5ECF6",
           "showlakes": true,
           "showland": true,
           "subunitcolor": "white"
          },
          "hoverlabel": {
           "align": "left"
          },
          "hovermode": "closest",
          "mapbox": {
           "style": "light"
          },
          "paper_bgcolor": "white",
          "plot_bgcolor": "#E5ECF6",
          "polar": {
           "angularaxis": {
            "gridcolor": "white",
            "linecolor": "white",
            "ticks": ""
           },
           "bgcolor": "#E5ECF6",
           "radialaxis": {
            "gridcolor": "white",
            "linecolor": "white",
            "ticks": ""
           }
          },
          "scene": {
           "xaxis": {
            "backgroundcolor": "#E5ECF6",
            "gridcolor": "white",
            "gridwidth": 2,
            "linecolor": "white",
            "showbackground": true,
            "ticks": "",
            "zerolinecolor": "white"
           },
           "yaxis": {
            "backgroundcolor": "#E5ECF6",
            "gridcolor": "white",
            "gridwidth": 2,
            "linecolor": "white",
            "showbackground": true,
            "ticks": "",
            "zerolinecolor": "white"
           },
           "zaxis": {
            "backgroundcolor": "#E5ECF6",
            "gridcolor": "white",
            "gridwidth": 2,
            "linecolor": "white",
            "showbackground": true,
            "ticks": "",
            "zerolinecolor": "white"
           }
          },
          "shapedefaults": {
           "line": {
            "color": "#2a3f5f"
           }
          },
          "ternary": {
           "aaxis": {
            "gridcolor": "white",
            "linecolor": "white",
            "ticks": ""
           },
           "baxis": {
            "gridcolor": "white",
            "linecolor": "white",
            "ticks": ""
           },
           "bgcolor": "#E5ECF6",
           "caxis": {
            "gridcolor": "white",
            "linecolor": "white",
            "ticks": ""
           }
          },
          "title": {
           "x": 0.05
          },
          "xaxis": {
           "automargin": true,
           "gridcolor": "white",
           "linecolor": "white",
           "ticks": "",
           "title": {
            "standoff": 15
           },
           "zerolinecolor": "white",
           "zerolinewidth": 2
          },
          "yaxis": {
           "automargin": true,
           "gridcolor": "white",
           "linecolor": "white",
           "ticks": "",
           "title": {
            "standoff": 15
           },
           "zerolinecolor": "white",
           "zerolinewidth": 2
          }
         }
        },
        "title": {
         "text": "Optimization History Plot"
        },
        "xaxis": {
         "title": {
          "text": "Trial"
         }
        },
        "yaxis": {
         "title": {
          "text": "Objective Value"
         }
        }
       }
      }
     },
     "metadata": {},
     "output_type": "display_data"
    },
    {
     "data": {
      "application/vnd.plotly.v1+json": {
       "config": {
        "plotlyServerURL": "https://plot.ly"
       },
       "data": [
        {
         "cliponaxis": false,
         "hovertemplate": [
          "n_hidden_layers (IntDistribution): 0.10013896896983505<extra></extra>",
          "lr (FloatDistribution): 0.15034593977327115<extra></extra>",
          "embedding_dim (IntDistribution): 0.2871401905253064<extra></extra>",
          "hidden_size0 (IntDistribution): 0.4623749007315874<extra></extra>"
         ],
         "marker": {
          "color": "rgb(66,146,198)"
         },
         "orientation": "h",
         "text": [
          "0.10",
          "0.15",
          "0.29",
          "0.46"
         ],
         "textposition": "outside",
         "type": "bar",
         "x": [
          0.10013896896983505,
          0.15034593977327115,
          0.2871401905253064,
          0.4623749007315874
         ],
         "y": [
          "n_hidden_layers",
          "lr",
          "embedding_dim",
          "hidden_size0"
         ]
        }
       ],
       "layout": {
        "showlegend": false,
        "template": {
         "data": {
          "bar": [
           {
            "error_x": {
             "color": "#2a3f5f"
            },
            "error_y": {
             "color": "#2a3f5f"
            },
            "marker": {
             "line": {
              "color": "#E5ECF6",
              "width": 0.5
             },
             "pattern": {
              "fillmode": "overlay",
              "size": 10,
              "solidity": 0.2
             }
            },
            "type": "bar"
           }
          ],
          "barpolar": [
           {
            "marker": {
             "line": {
              "color": "#E5ECF6",
              "width": 0.5
             },
             "pattern": {
              "fillmode": "overlay",
              "size": 10,
              "solidity": 0.2
             }
            },
            "type": "barpolar"
           }
          ],
          "carpet": [
           {
            "aaxis": {
             "endlinecolor": "#2a3f5f",
             "gridcolor": "white",
             "linecolor": "white",
             "minorgridcolor": "white",
             "startlinecolor": "#2a3f5f"
            },
            "baxis": {
             "endlinecolor": "#2a3f5f",
             "gridcolor": "white",
             "linecolor": "white",
             "minorgridcolor": "white",
             "startlinecolor": "#2a3f5f"
            },
            "type": "carpet"
           }
          ],
          "choropleth": [
           {
            "colorbar": {
             "outlinewidth": 0,
             "ticks": ""
            },
            "type": "choropleth"
           }
          ],
          "contour": [
           {
            "colorbar": {
             "outlinewidth": 0,
             "ticks": ""
            },
            "colorscale": [
             [
              0,
              "#0d0887"
             ],
             [
              0.1111111111111111,
              "#46039f"
             ],
             [
              0.2222222222222222,
              "#7201a8"
             ],
             [
              0.3333333333333333,
              "#9c179e"
             ],
             [
              0.4444444444444444,
              "#bd3786"
             ],
             [
              0.5555555555555556,
              "#d8576b"
             ],
             [
              0.6666666666666666,
              "#ed7953"
             ],
             [
              0.7777777777777778,
              "#fb9f3a"
             ],
             [
              0.8888888888888888,
              "#fdca26"
             ],
             [
              1,
              "#f0f921"
             ]
            ],
            "type": "contour"
           }
          ],
          "contourcarpet": [
           {
            "colorbar": {
             "outlinewidth": 0,
             "ticks": ""
            },
            "type": "contourcarpet"
           }
          ],
          "heatmap": [
           {
            "colorbar": {
             "outlinewidth": 0,
             "ticks": ""
            },
            "colorscale": [
             [
              0,
              "#0d0887"
             ],
             [
              0.1111111111111111,
              "#46039f"
             ],
             [
              0.2222222222222222,
              "#7201a8"
             ],
             [
              0.3333333333333333,
              "#9c179e"
             ],
             [
              0.4444444444444444,
              "#bd3786"
             ],
             [
              0.5555555555555556,
              "#d8576b"
             ],
             [
              0.6666666666666666,
              "#ed7953"
             ],
             [
              0.7777777777777778,
              "#fb9f3a"
             ],
             [
              0.8888888888888888,
              "#fdca26"
             ],
             [
              1,
              "#f0f921"
             ]
            ],
            "type": "heatmap"
           }
          ],
          "heatmapgl": [
           {
            "colorbar": {
             "outlinewidth": 0,
             "ticks": ""
            },
            "colorscale": [
             [
              0,
              "#0d0887"
             ],
             [
              0.1111111111111111,
              "#46039f"
             ],
             [
              0.2222222222222222,
              "#7201a8"
             ],
             [
              0.3333333333333333,
              "#9c179e"
             ],
             [
              0.4444444444444444,
              "#bd3786"
             ],
             [
              0.5555555555555556,
              "#d8576b"
             ],
             [
              0.6666666666666666,
              "#ed7953"
             ],
             [
              0.7777777777777778,
              "#fb9f3a"
             ],
             [
              0.8888888888888888,
              "#fdca26"
             ],
             [
              1,
              "#f0f921"
             ]
            ],
            "type": "heatmapgl"
           }
          ],
          "histogram": [
           {
            "marker": {
             "pattern": {
              "fillmode": "overlay",
              "size": 10,
              "solidity": 0.2
             }
            },
            "type": "histogram"
           }
          ],
          "histogram2d": [
           {
            "colorbar": {
             "outlinewidth": 0,
             "ticks": ""
            },
            "colorscale": [
             [
              0,
              "#0d0887"
             ],
             [
              0.1111111111111111,
              "#46039f"
             ],
             [
              0.2222222222222222,
              "#7201a8"
             ],
             [
              0.3333333333333333,
              "#9c179e"
             ],
             [
              0.4444444444444444,
              "#bd3786"
             ],
             [
              0.5555555555555556,
              "#d8576b"
             ],
             [
              0.6666666666666666,
              "#ed7953"
             ],
             [
              0.7777777777777778,
              "#fb9f3a"
             ],
             [
              0.8888888888888888,
              "#fdca26"
             ],
             [
              1,
              "#f0f921"
             ]
            ],
            "type": "histogram2d"
           }
          ],
          "histogram2dcontour": [
           {
            "colorbar": {
             "outlinewidth": 0,
             "ticks": ""
            },
            "colorscale": [
             [
              0,
              "#0d0887"
             ],
             [
              0.1111111111111111,
              "#46039f"
             ],
             [
              0.2222222222222222,
              "#7201a8"
             ],
             [
              0.3333333333333333,
              "#9c179e"
             ],
             [
              0.4444444444444444,
              "#bd3786"
             ],
             [
              0.5555555555555556,
              "#d8576b"
             ],
             [
              0.6666666666666666,
              "#ed7953"
             ],
             [
              0.7777777777777778,
              "#fb9f3a"
             ],
             [
              0.8888888888888888,
              "#fdca26"
             ],
             [
              1,
              "#f0f921"
             ]
            ],
            "type": "histogram2dcontour"
           }
          ],
          "mesh3d": [
           {
            "colorbar": {
             "outlinewidth": 0,
             "ticks": ""
            },
            "type": "mesh3d"
           }
          ],
          "parcoords": [
           {
            "line": {
             "colorbar": {
              "outlinewidth": 0,
              "ticks": ""
             }
            },
            "type": "parcoords"
           }
          ],
          "pie": [
           {
            "automargin": true,
            "type": "pie"
           }
          ],
          "scatter": [
           {
            "fillpattern": {
             "fillmode": "overlay",
             "size": 10,
             "solidity": 0.2
            },
            "type": "scatter"
           }
          ],
          "scatter3d": [
           {
            "line": {
             "colorbar": {
              "outlinewidth": 0,
              "ticks": ""
             }
            },
            "marker": {
             "colorbar": {
              "outlinewidth": 0,
              "ticks": ""
             }
            },
            "type": "scatter3d"
           }
          ],
          "scattercarpet": [
           {
            "marker": {
             "colorbar": {
              "outlinewidth": 0,
              "ticks": ""
             }
            },
            "type": "scattercarpet"
           }
          ],
          "scattergeo": [
           {
            "marker": {
             "colorbar": {
              "outlinewidth": 0,
              "ticks": ""
             }
            },
            "type": "scattergeo"
           }
          ],
          "scattergl": [
           {
            "marker": {
             "colorbar": {
              "outlinewidth": 0,
              "ticks": ""
             }
            },
            "type": "scattergl"
           }
          ],
          "scattermapbox": [
           {
            "marker": {
             "colorbar": {
              "outlinewidth": 0,
              "ticks": ""
             }
            },
            "type": "scattermapbox"
           }
          ],
          "scatterpolar": [
           {
            "marker": {
             "colorbar": {
              "outlinewidth": 0,
              "ticks": ""
             }
            },
            "type": "scatterpolar"
           }
          ],
          "scatterpolargl": [
           {
            "marker": {
             "colorbar": {
              "outlinewidth": 0,
              "ticks": ""
             }
            },
            "type": "scatterpolargl"
           }
          ],
          "scatterternary": [
           {
            "marker": {
             "colorbar": {
              "outlinewidth": 0,
              "ticks": ""
             }
            },
            "type": "scatterternary"
           }
          ],
          "surface": [
           {
            "colorbar": {
             "outlinewidth": 0,
             "ticks": ""
            },
            "colorscale": [
             [
              0,
              "#0d0887"
             ],
             [
              0.1111111111111111,
              "#46039f"
             ],
             [
              0.2222222222222222,
              "#7201a8"
             ],
             [
              0.3333333333333333,
              "#9c179e"
             ],
             [
              0.4444444444444444,
              "#bd3786"
             ],
             [
              0.5555555555555556,
              "#d8576b"
             ],
             [
              0.6666666666666666,
              "#ed7953"
             ],
             [
              0.7777777777777778,
              "#fb9f3a"
             ],
             [
              0.8888888888888888,
              "#fdca26"
             ],
             [
              1,
              "#f0f921"
             ]
            ],
            "type": "surface"
           }
          ],
          "table": [
           {
            "cells": {
             "fill": {
              "color": "#EBF0F8"
             },
             "line": {
              "color": "white"
             }
            },
            "header": {
             "fill": {
              "color": "#C8D4E3"
             },
             "line": {
              "color": "white"
             }
            },
            "type": "table"
           }
          ]
         },
         "layout": {
          "annotationdefaults": {
           "arrowcolor": "#2a3f5f",
           "arrowhead": 0,
           "arrowwidth": 1
          },
          "autotypenumbers": "strict",
          "coloraxis": {
           "colorbar": {
            "outlinewidth": 0,
            "ticks": ""
           }
          },
          "colorscale": {
           "diverging": [
            [
             0,
             "#8e0152"
            ],
            [
             0.1,
             "#c51b7d"
            ],
            [
             0.2,
             "#de77ae"
            ],
            [
             0.3,
             "#f1b6da"
            ],
            [
             0.4,
             "#fde0ef"
            ],
            [
             0.5,
             "#f7f7f7"
            ],
            [
             0.6,
             "#e6f5d0"
            ],
            [
             0.7,
             "#b8e186"
            ],
            [
             0.8,
             "#7fbc41"
            ],
            [
             0.9,
             "#4d9221"
            ],
            [
             1,
             "#276419"
            ]
           ],
           "sequential": [
            [
             0,
             "#0d0887"
            ],
            [
             0.1111111111111111,
             "#46039f"
            ],
            [
             0.2222222222222222,
             "#7201a8"
            ],
            [
             0.3333333333333333,
             "#9c179e"
            ],
            [
             0.4444444444444444,
             "#bd3786"
            ],
            [
             0.5555555555555556,
             "#d8576b"
            ],
            [
             0.6666666666666666,
             "#ed7953"
            ],
            [
             0.7777777777777778,
             "#fb9f3a"
            ],
            [
             0.8888888888888888,
             "#fdca26"
            ],
            [
             1,
             "#f0f921"
            ]
           ],
           "sequentialminus": [
            [
             0,
             "#0d0887"
            ],
            [
             0.1111111111111111,
             "#46039f"
            ],
            [
             0.2222222222222222,
             "#7201a8"
            ],
            [
             0.3333333333333333,
             "#9c179e"
            ],
            [
             0.4444444444444444,
             "#bd3786"
            ],
            [
             0.5555555555555556,
             "#d8576b"
            ],
            [
             0.6666666666666666,
             "#ed7953"
            ],
            [
             0.7777777777777778,
             "#fb9f3a"
            ],
            [
             0.8888888888888888,
             "#fdca26"
            ],
            [
             1,
             "#f0f921"
            ]
           ]
          },
          "colorway": [
           "#636efa",
           "#EF553B",
           "#00cc96",
           "#ab63fa",
           "#FFA15A",
           "#19d3f3",
           "#FF6692",
           "#B6E880",
           "#FF97FF",
           "#FECB52"
          ],
          "font": {
           "color": "#2a3f5f"
          },
          "geo": {
           "bgcolor": "white",
           "lakecolor": "white",
           "landcolor": "#E5ECF6",
           "showlakes": true,
           "showland": true,
           "subunitcolor": "white"
          },
          "hoverlabel": {
           "align": "left"
          },
          "hovermode": "closest",
          "mapbox": {
           "style": "light"
          },
          "paper_bgcolor": "white",
          "plot_bgcolor": "#E5ECF6",
          "polar": {
           "angularaxis": {
            "gridcolor": "white",
            "linecolor": "white",
            "ticks": ""
           },
           "bgcolor": "#E5ECF6",
           "radialaxis": {
            "gridcolor": "white",
            "linecolor": "white",
            "ticks": ""
           }
          },
          "scene": {
           "xaxis": {
            "backgroundcolor": "#E5ECF6",
            "gridcolor": "white",
            "gridwidth": 2,
            "linecolor": "white",
            "showbackground": true,
            "ticks": "",
            "zerolinecolor": "white"
           },
           "yaxis": {
            "backgroundcolor": "#E5ECF6",
            "gridcolor": "white",
            "gridwidth": 2,
            "linecolor": "white",
            "showbackground": true,
            "ticks": "",
            "zerolinecolor": "white"
           },
           "zaxis": {
            "backgroundcolor": "#E5ECF6",
            "gridcolor": "white",
            "gridwidth": 2,
            "linecolor": "white",
            "showbackground": true,
            "ticks": "",
            "zerolinecolor": "white"
           }
          },
          "shapedefaults": {
           "line": {
            "color": "#2a3f5f"
           }
          },
          "ternary": {
           "aaxis": {
            "gridcolor": "white",
            "linecolor": "white",
            "ticks": ""
           },
           "baxis": {
            "gridcolor": "white",
            "linecolor": "white",
            "ticks": ""
           },
           "bgcolor": "#E5ECF6",
           "caxis": {
            "gridcolor": "white",
            "linecolor": "white",
            "ticks": ""
           }
          },
          "title": {
           "x": 0.05
          },
          "xaxis": {
           "automargin": true,
           "gridcolor": "white",
           "linecolor": "white",
           "ticks": "",
           "title": {
            "standoff": 15
           },
           "zerolinecolor": "white",
           "zerolinewidth": 2
          },
          "yaxis": {
           "automargin": true,
           "gridcolor": "white",
           "linecolor": "white",
           "ticks": "",
           "title": {
            "standoff": 15
           },
           "zerolinecolor": "white",
           "zerolinewidth": 2
          }
         }
        },
        "title": {
         "text": "Hyperparameter Importances"
        },
        "xaxis": {
         "title": {
          "text": "Importance for Objective Value"
         }
        },
        "yaxis": {
         "title": {
          "text": "Hyperparameter"
         }
        }
       }
      }
     },
     "metadata": {},
     "output_type": "display_data"
    },
    {
     "data": {
      "application/vnd.plotly.v1+json": {
       "config": {
        "plotlyServerURL": "https://plot.ly"
       },
       "data": [
        {
         "marker": {
          "color": [
           0,
           1,
           2,
           3,
           4,
           5,
           7,
           8,
           9,
           13,
           15,
           16,
           18,
           19,
           20,
           24,
           25,
           28,
           34,
           41,
           51,
           69,
           70,
           92,
           93
          ],
          "colorbar": {
           "title": {
            "text": "Trial"
           },
           "x": 1,
           "xpad": 40
          },
          "colorscale": [
           [
            0,
            "rgb(247,251,255)"
           ],
           [
            0.125,
            "rgb(222,235,247)"
           ],
           [
            0.25,
            "rgb(198,219,239)"
           ],
           [
            0.375,
            "rgb(158,202,225)"
           ],
           [
            0.5,
            "rgb(107,174,214)"
           ],
           [
            0.625,
            "rgb(66,146,198)"
           ],
           [
            0.75,
            "rgb(33,113,181)"
           ],
           [
            0.875,
            "rgb(8,81,156)"
           ],
           [
            1,
            "rgb(8,48,107)"
           ]
          ],
          "line": {
           "color": "Grey",
           "width": 0.5
          },
          "showscale": true
         },
         "mode": "markers",
         "showlegend": false,
         "type": "scatter",
         "x": [
          5,
          5,
          6,
          4,
          2,
          21,
          21,
          17,
          17,
          9,
          9,
          24,
          9,
          8,
          10,
          11,
          11,
          3,
          6,
          11,
          19,
          4,
          4,
          9,
          9
         ],
         "xaxis": "x",
         "y": [
          4192.058512352583,
          5542.365112824644,
          8913.72624802152,
          8767.03718045134,
          4606.7036363171,
          4376.173617140032,
          4636.397754729239,
          5611.500534859064,
          4094.8256874628282,
          3736.26367812966,
          4143.372957879865,
          5161.392143602509,
          4072.2237857711325,
          4202.348542057716,
          4125.7930338789365,
          3585.601958651551,
          5448.073830690466,
          4061.60305211608,
          3830.8507069516577,
          5157.977738634589,
          4101.269501780003,
          3416.3032383443824,
          4094.7609321059244,
          4117.102549429391,
          4110.164807732385
         ],
         "yaxis": "y"
        },
        {
         "marker": {
          "color": [
           0,
           1,
           2,
           3,
           4,
           5,
           7,
           8,
           9,
           13,
           15,
           16,
           18,
           19,
           20,
           24,
           25,
           28,
           34,
           41,
           51,
           69,
           70,
           92,
           93
          ],
          "colorbar": {
           "title": {
            "text": "Trial"
           },
           "x": 1,
           "xpad": 40
          },
          "colorscale": [
           [
            0,
            "rgb(247,251,255)"
           ],
           [
            0.125,
            "rgb(222,235,247)"
           ],
           [
            0.25,
            "rgb(198,219,239)"
           ],
           [
            0.375,
            "rgb(158,202,225)"
           ],
           [
            0.5,
            "rgb(107,174,214)"
           ],
           [
            0.625,
            "rgb(66,146,198)"
           ],
           [
            0.75,
            "rgb(33,113,181)"
           ],
           [
            0.875,
            "rgb(8,81,156)"
           ],
           [
            1,
            "rgb(8,48,107)"
           ]
          ],
          "line": {
           "color": "Grey",
           "width": 0.5
          },
          "showscale": false
         },
         "mode": "markers",
         "showlegend": false,
         "type": "scatter",
         "x": [
          110,
          80,
          15,
          82,
          59,
          51,
          45,
          72,
          94,
          98,
          93,
          86,
          106,
          110,
          69,
          76,
          72,
          78,
          87,
          4,
          96,
          113,
          113,
          64,
          56
         ],
         "xaxis": "x2",
         "y": [
          4192.058512352583,
          5542.365112824644,
          8913.72624802152,
          8767.03718045134,
          4606.7036363171,
          4376.173617140032,
          4636.397754729239,
          5611.500534859064,
          4094.8256874628282,
          3736.26367812966,
          4143.372957879865,
          5161.392143602509,
          4072.2237857711325,
          4202.348542057716,
          4125.7930338789365,
          3585.601958651551,
          5448.073830690466,
          4061.60305211608,
          3830.8507069516577,
          5157.977738634589,
          4101.269501780003,
          3416.3032383443824,
          4094.7609321059244,
          4117.102549429391,
          4110.164807732385
         ],
         "yaxis": "y2"
        },
        {
         "marker": {
          "color": [
           0,
           3,
           4,
           7,
           8,
           9,
           13,
           15,
           16,
           18,
           19,
           24,
           25,
           28,
           34,
           41,
           51,
           69,
           70
          ],
          "colorbar": {
           "title": {
            "text": "Trial"
           },
           "x": 1,
           "xpad": 40
          },
          "colorscale": [
           [
            0,
            "rgb(247,251,255)"
           ],
           [
            0.125,
            "rgb(222,235,247)"
           ],
           [
            0.25,
            "rgb(198,219,239)"
           ],
           [
            0.375,
            "rgb(158,202,225)"
           ],
           [
            0.5,
            "rgb(107,174,214)"
           ],
           [
            0.625,
            "rgb(66,146,198)"
           ],
           [
            0.75,
            "rgb(33,113,181)"
           ],
           [
            0.875,
            "rgb(8,81,156)"
           ],
           [
            1,
            "rgb(8,48,107)"
           ]
          ],
          "line": {
           "color": "Grey",
           "width": 0.5
          },
          "showscale": false
         },
         "mode": "markers",
         "showlegend": false,
         "type": "scatter",
         "x": [
          127,
          31,
          18,
          29,
          105,
          20,
          61,
          46,
          83,
          6,
          81,
          41,
          47,
          53,
          90,
          27,
          15,
          25,
          37
         ],
         "xaxis": "x3",
         "y": [
          4192.058512352583,
          8767.03718045134,
          4606.7036363171,
          4636.397754729239,
          5611.500534859064,
          4094.8256874628282,
          3736.26367812966,
          4143.372957879865,
          5161.392143602509,
          4072.2237857711325,
          4202.348542057716,
          3585.601958651551,
          5448.073830690466,
          4061.60305211608,
          3830.8507069516577,
          5157.977738634589,
          4101.269501780003,
          3416.3032383443824,
          4094.7609321059244
         ],
         "yaxis": "y3"
        },
        {
         "marker": {
          "color": [
           0,
           3,
           7,
           9,
           13,
           15,
           24,
           28,
           51
          ],
          "colorbar": {
           "title": {
            "text": "Trial"
           },
           "x": 1,
           "xpad": 40
          },
          "colorscale": [
           [
            0,
            "rgb(247,251,255)"
           ],
           [
            0.125,
            "rgb(222,235,247)"
           ],
           [
            0.25,
            "rgb(198,219,239)"
           ],
           [
            0.375,
            "rgb(158,202,225)"
           ],
           [
            0.5,
            "rgb(107,174,214)"
           ],
           [
            0.625,
            "rgb(66,146,198)"
           ],
           [
            0.75,
            "rgb(33,113,181)"
           ],
           [
            0.875,
            "rgb(8,81,156)"
           ],
           [
            1,
            "rgb(8,48,107)"
           ]
          ],
          "line": {
           "color": "Grey",
           "width": 0.5
          },
          "showscale": false
         },
         "mode": "markers",
         "showlegend": false,
         "type": "scatter",
         "x": [
          16,
          104,
          17,
          118,
          68,
          75,
          127,
          96,
          117
         ],
         "xaxis": "x4",
         "y": [
          4192.058512352583,
          8767.03718045134,
          4636.397754729239,
          4094.8256874628282,
          3736.26367812966,
          4143.372957879865,
          3585.601958651551,
          4061.60305211608,
          4101.269501780003
         ],
         "yaxis": "y4"
        },
        {
         "marker": {
          "color": [
           0,
           1,
           2,
           3,
           4,
           5,
           7,
           8,
           9,
           13,
           15,
           16,
           18,
           19,
           20,
           24,
           25,
           28,
           34,
           41,
           51,
           69,
           70,
           92,
           93
          ],
          "colorbar": {
           "title": {
            "text": "Trial"
           },
           "x": 1,
           "xpad": 40
          },
          "colorscale": [
           [
            0,
            "rgb(247,251,255)"
           ],
           [
            0.125,
            "rgb(222,235,247)"
           ],
           [
            0.25,
            "rgb(198,219,239)"
           ],
           [
            0.375,
            "rgb(158,202,225)"
           ],
           [
            0.5,
            "rgb(107,174,214)"
           ],
           [
            0.625,
            "rgb(66,146,198)"
           ],
           [
            0.75,
            "rgb(33,113,181)"
           ],
           [
            0.875,
            "rgb(8,81,156)"
           ],
           [
            1,
            "rgb(8,48,107)"
           ]
          ],
          "line": {
           "color": "Grey",
           "width": 0.5
          },
          "showscale": false
         },
         "mode": "markers",
         "showlegend": false,
         "type": "scatter",
         "x": [
          0.003982249320510584,
          0.000049165183612027845,
          0.00001834048241080843,
          0.00001239034054782346,
          0.00038029953607679137,
          0.00040098191802571026,
          0.0015568482700032572,
          0.0013452348086296906,
          0.005706840189572377,
          0.009433495683526331,
          0.019303270033120122,
          0.03721478877065765,
          0.08744607542170121,
          0.09408888862219826,
          0.08366166229193354,
          0.009813906898497432,
          0.0646808826677084,
          0.09527824687403108,
          0.08877376097493356,
          0.09360223895872957,
          0.0053485999557568754,
          0.07631054992663061,
          0.06817919533904095,
          0.08577059694944841,
          0.09725674064753313
         ],
         "xaxis": "x5",
         "y": [
          4192.058512352583,
          5542.365112824644,
          8913.72624802152,
          8767.03718045134,
          4606.7036363171,
          4376.173617140032,
          4636.397754729239,
          5611.500534859064,
          4094.8256874628282,
          3736.26367812966,
          4143.372957879865,
          5161.392143602509,
          4072.2237857711325,
          4202.348542057716,
          4125.7930338789365,
          3585.601958651551,
          5448.073830690466,
          4061.60305211608,
          3830.8507069516577,
          5157.977738634589,
          4101.269501780003,
          3416.3032383443824,
          4094.7609321059244,
          4117.102549429391,
          4110.164807732385
         ],
         "yaxis": "y5"
        },
        {
         "marker": {
          "color": [
           0,
           1,
           2,
           3,
           4,
           5,
           7,
           8,
           9,
           13,
           15,
           16,
           18,
           19,
           20,
           24,
           25,
           28,
           34,
           41,
           51,
           69,
           70,
           92,
           93
          ],
          "colorbar": {
           "title": {
            "text": "Trial"
           },
           "x": 1,
           "xpad": 40
          },
          "colorscale": [
           [
            0,
            "rgb(247,251,255)"
           ],
           [
            0.125,
            "rgb(222,235,247)"
           ],
           [
            0.25,
            "rgb(198,219,239)"
           ],
           [
            0.375,
            "rgb(158,202,225)"
           ],
           [
            0.5,
            "rgb(107,174,214)"
           ],
           [
            0.625,
            "rgb(66,146,198)"
           ],
           [
            0.75,
            "rgb(33,113,181)"
           ],
           [
            0.875,
            "rgb(8,81,156)"
           ],
           [
            1,
            "rgb(8,48,107)"
           ]
          ],
          "line": {
           "color": "Grey",
           "width": 0.5
          },
          "showscale": false
         },
         "mode": "markers",
         "showlegend": false,
         "type": "scatter",
         "x": [
          3,
          1,
          1,
          3,
          2,
          1,
          3,
          2,
          3,
          3,
          3,
          2,
          2,
          2,
          1,
          3,
          2,
          3,
          2,
          2,
          3,
          2,
          2,
          1,
          1
         ],
         "xaxis": "x6",
         "y": [
          4192.058512352583,
          5542.365112824644,
          8913.72624802152,
          8767.03718045134,
          4606.7036363171,
          4376.173617140032,
          4636.397754729239,
          5611.500534859064,
          4094.8256874628282,
          3736.26367812966,
          4143.372957879865,
          5161.392143602509,
          4072.2237857711325,
          4202.348542057716,
          4125.7930338789365,
          3585.601958651551,
          5448.073830690466,
          4061.60305211608,
          3830.8507069516577,
          5157.977738634589,
          4101.269501780003,
          3416.3032383443824,
          4094.7609321059244,
          4117.102549429391,
          4110.164807732385
         ],
         "yaxis": "y6"
        }
       ],
       "layout": {
        "template": {
         "data": {
          "bar": [
           {
            "error_x": {
             "color": "#2a3f5f"
            },
            "error_y": {
             "color": "#2a3f5f"
            },
            "marker": {
             "line": {
              "color": "#E5ECF6",
              "width": 0.5
             },
             "pattern": {
              "fillmode": "overlay",
              "size": 10,
              "solidity": 0.2
             }
            },
            "type": "bar"
           }
          ],
          "barpolar": [
           {
            "marker": {
             "line": {
              "color": "#E5ECF6",
              "width": 0.5
             },
             "pattern": {
              "fillmode": "overlay",
              "size": 10,
              "solidity": 0.2
             }
            },
            "type": "barpolar"
           }
          ],
          "carpet": [
           {
            "aaxis": {
             "endlinecolor": "#2a3f5f",
             "gridcolor": "white",
             "linecolor": "white",
             "minorgridcolor": "white",
             "startlinecolor": "#2a3f5f"
            },
            "baxis": {
             "endlinecolor": "#2a3f5f",
             "gridcolor": "white",
             "linecolor": "white",
             "minorgridcolor": "white",
             "startlinecolor": "#2a3f5f"
            },
            "type": "carpet"
           }
          ],
          "choropleth": [
           {
            "colorbar": {
             "outlinewidth": 0,
             "ticks": ""
            },
            "type": "choropleth"
           }
          ],
          "contour": [
           {
            "colorbar": {
             "outlinewidth": 0,
             "ticks": ""
            },
            "colorscale": [
             [
              0,
              "#0d0887"
             ],
             [
              0.1111111111111111,
              "#46039f"
             ],
             [
              0.2222222222222222,
              "#7201a8"
             ],
             [
              0.3333333333333333,
              "#9c179e"
             ],
             [
              0.4444444444444444,
              "#bd3786"
             ],
             [
              0.5555555555555556,
              "#d8576b"
             ],
             [
              0.6666666666666666,
              "#ed7953"
             ],
             [
              0.7777777777777778,
              "#fb9f3a"
             ],
             [
              0.8888888888888888,
              "#fdca26"
             ],
             [
              1,
              "#f0f921"
             ]
            ],
            "type": "contour"
           }
          ],
          "contourcarpet": [
           {
            "colorbar": {
             "outlinewidth": 0,
             "ticks": ""
            },
            "type": "contourcarpet"
           }
          ],
          "heatmap": [
           {
            "colorbar": {
             "outlinewidth": 0,
             "ticks": ""
            },
            "colorscale": [
             [
              0,
              "#0d0887"
             ],
             [
              0.1111111111111111,
              "#46039f"
             ],
             [
              0.2222222222222222,
              "#7201a8"
             ],
             [
              0.3333333333333333,
              "#9c179e"
             ],
             [
              0.4444444444444444,
              "#bd3786"
             ],
             [
              0.5555555555555556,
              "#d8576b"
             ],
             [
              0.6666666666666666,
              "#ed7953"
             ],
             [
              0.7777777777777778,
              "#fb9f3a"
             ],
             [
              0.8888888888888888,
              "#fdca26"
             ],
             [
              1,
              "#f0f921"
             ]
            ],
            "type": "heatmap"
           }
          ],
          "heatmapgl": [
           {
            "colorbar": {
             "outlinewidth": 0,
             "ticks": ""
            },
            "colorscale": [
             [
              0,
              "#0d0887"
             ],
             [
              0.1111111111111111,
              "#46039f"
             ],
             [
              0.2222222222222222,
              "#7201a8"
             ],
             [
              0.3333333333333333,
              "#9c179e"
             ],
             [
              0.4444444444444444,
              "#bd3786"
             ],
             [
              0.5555555555555556,
              "#d8576b"
             ],
             [
              0.6666666666666666,
              "#ed7953"
             ],
             [
              0.7777777777777778,
              "#fb9f3a"
             ],
             [
              0.8888888888888888,
              "#fdca26"
             ],
             [
              1,
              "#f0f921"
             ]
            ],
            "type": "heatmapgl"
           }
          ],
          "histogram": [
           {
            "marker": {
             "pattern": {
              "fillmode": "overlay",
              "size": 10,
              "solidity": 0.2
             }
            },
            "type": "histogram"
           }
          ],
          "histogram2d": [
           {
            "colorbar": {
             "outlinewidth": 0,
             "ticks": ""
            },
            "colorscale": [
             [
              0,
              "#0d0887"
             ],
             [
              0.1111111111111111,
              "#46039f"
             ],
             [
              0.2222222222222222,
              "#7201a8"
             ],
             [
              0.3333333333333333,
              "#9c179e"
             ],
             [
              0.4444444444444444,
              "#bd3786"
             ],
             [
              0.5555555555555556,
              "#d8576b"
             ],
             [
              0.6666666666666666,
              "#ed7953"
             ],
             [
              0.7777777777777778,
              "#fb9f3a"
             ],
             [
              0.8888888888888888,
              "#fdca26"
             ],
             [
              1,
              "#f0f921"
             ]
            ],
            "type": "histogram2d"
           }
          ],
          "histogram2dcontour": [
           {
            "colorbar": {
             "outlinewidth": 0,
             "ticks": ""
            },
            "colorscale": [
             [
              0,
              "#0d0887"
             ],
             [
              0.1111111111111111,
              "#46039f"
             ],
             [
              0.2222222222222222,
              "#7201a8"
             ],
             [
              0.3333333333333333,
              "#9c179e"
             ],
             [
              0.4444444444444444,
              "#bd3786"
             ],
             [
              0.5555555555555556,
              "#d8576b"
             ],
             [
              0.6666666666666666,
              "#ed7953"
             ],
             [
              0.7777777777777778,
              "#fb9f3a"
             ],
             [
              0.8888888888888888,
              "#fdca26"
             ],
             [
              1,
              "#f0f921"
             ]
            ],
            "type": "histogram2dcontour"
           }
          ],
          "mesh3d": [
           {
            "colorbar": {
             "outlinewidth": 0,
             "ticks": ""
            },
            "type": "mesh3d"
           }
          ],
          "parcoords": [
           {
            "line": {
             "colorbar": {
              "outlinewidth": 0,
              "ticks": ""
             }
            },
            "type": "parcoords"
           }
          ],
          "pie": [
           {
            "automargin": true,
            "type": "pie"
           }
          ],
          "scatter": [
           {
            "fillpattern": {
             "fillmode": "overlay",
             "size": 10,
             "solidity": 0.2
            },
            "type": "scatter"
           }
          ],
          "scatter3d": [
           {
            "line": {
             "colorbar": {
              "outlinewidth": 0,
              "ticks": ""
             }
            },
            "marker": {
             "colorbar": {
              "outlinewidth": 0,
              "ticks": ""
             }
            },
            "type": "scatter3d"
           }
          ],
          "scattercarpet": [
           {
            "marker": {
             "colorbar": {
              "outlinewidth": 0,
              "ticks": ""
             }
            },
            "type": "scattercarpet"
           }
          ],
          "scattergeo": [
           {
            "marker": {
             "colorbar": {
              "outlinewidth": 0,
              "ticks": ""
             }
            },
            "type": "scattergeo"
           }
          ],
          "scattergl": [
           {
            "marker": {
             "colorbar": {
              "outlinewidth": 0,
              "ticks": ""
             }
            },
            "type": "scattergl"
           }
          ],
          "scattermapbox": [
           {
            "marker": {
             "colorbar": {
              "outlinewidth": 0,
              "ticks": ""
             }
            },
            "type": "scattermapbox"
           }
          ],
          "scatterpolar": [
           {
            "marker": {
             "colorbar": {
              "outlinewidth": 0,
              "ticks": ""
             }
            },
            "type": "scatterpolar"
           }
          ],
          "scatterpolargl": [
           {
            "marker": {
             "colorbar": {
              "outlinewidth": 0,
              "ticks": ""
             }
            },
            "type": "scatterpolargl"
           }
          ],
          "scatterternary": [
           {
            "marker": {
             "colorbar": {
              "outlinewidth": 0,
              "ticks": ""
             }
            },
            "type": "scatterternary"
           }
          ],
          "surface": [
           {
            "colorbar": {
             "outlinewidth": 0,
             "ticks": ""
            },
            "colorscale": [
             [
              0,
              "#0d0887"
             ],
             [
              0.1111111111111111,
              "#46039f"
             ],
             [
              0.2222222222222222,
              "#7201a8"
             ],
             [
              0.3333333333333333,
              "#9c179e"
             ],
             [
              0.4444444444444444,
              "#bd3786"
             ],
             [
              0.5555555555555556,
              "#d8576b"
             ],
             [
              0.6666666666666666,
              "#ed7953"
             ],
             [
              0.7777777777777778,
              "#fb9f3a"
             ],
             [
              0.8888888888888888,
              "#fdca26"
             ],
             [
              1,
              "#f0f921"
             ]
            ],
            "type": "surface"
           }
          ],
          "table": [
           {
            "cells": {
             "fill": {
              "color": "#EBF0F8"
             },
             "line": {
              "color": "white"
             }
            },
            "header": {
             "fill": {
              "color": "#C8D4E3"
             },
             "line": {
              "color": "white"
             }
            },
            "type": "table"
           }
          ]
         },
         "layout": {
          "annotationdefaults": {
           "arrowcolor": "#2a3f5f",
           "arrowhead": 0,
           "arrowwidth": 1
          },
          "autotypenumbers": "strict",
          "coloraxis": {
           "colorbar": {
            "outlinewidth": 0,
            "ticks": ""
           }
          },
          "colorscale": {
           "diverging": [
            [
             0,
             "#8e0152"
            ],
            [
             0.1,
             "#c51b7d"
            ],
            [
             0.2,
             "#de77ae"
            ],
            [
             0.3,
             "#f1b6da"
            ],
            [
             0.4,
             "#fde0ef"
            ],
            [
             0.5,
             "#f7f7f7"
            ],
            [
             0.6,
             "#e6f5d0"
            ],
            [
             0.7,
             "#b8e186"
            ],
            [
             0.8,
             "#7fbc41"
            ],
            [
             0.9,
             "#4d9221"
            ],
            [
             1,
             "#276419"
            ]
           ],
           "sequential": [
            [
             0,
             "#0d0887"
            ],
            [
             0.1111111111111111,
             "#46039f"
            ],
            [
             0.2222222222222222,
             "#7201a8"
            ],
            [
             0.3333333333333333,
             "#9c179e"
            ],
            [
             0.4444444444444444,
             "#bd3786"
            ],
            [
             0.5555555555555556,
             "#d8576b"
            ],
            [
             0.6666666666666666,
             "#ed7953"
            ],
            [
             0.7777777777777778,
             "#fb9f3a"
            ],
            [
             0.8888888888888888,
             "#fdca26"
            ],
            [
             1,
             "#f0f921"
            ]
           ],
           "sequentialminus": [
            [
             0,
             "#0d0887"
            ],
            [
             0.1111111111111111,
             "#46039f"
            ],
            [
             0.2222222222222222,
             "#7201a8"
            ],
            [
             0.3333333333333333,
             "#9c179e"
            ],
            [
             0.4444444444444444,
             "#bd3786"
            ],
            [
             0.5555555555555556,
             "#d8576b"
            ],
            [
             0.6666666666666666,
             "#ed7953"
            ],
            [
             0.7777777777777778,
             "#fb9f3a"
            ],
            [
             0.8888888888888888,
             "#fdca26"
            ],
            [
             1,
             "#f0f921"
            ]
           ]
          },
          "colorway": [
           "#636efa",
           "#EF553B",
           "#00cc96",
           "#ab63fa",
           "#FFA15A",
           "#19d3f3",
           "#FF6692",
           "#B6E880",
           "#FF97FF",
           "#FECB52"
          ],
          "font": {
           "color": "#2a3f5f"
          },
          "geo": {
           "bgcolor": "white",
           "lakecolor": "white",
           "landcolor": "#E5ECF6",
           "showlakes": true,
           "showland": true,
           "subunitcolor": "white"
          },
          "hoverlabel": {
           "align": "left"
          },
          "hovermode": "closest",
          "mapbox": {
           "style": "light"
          },
          "paper_bgcolor": "white",
          "plot_bgcolor": "#E5ECF6",
          "polar": {
           "angularaxis": {
            "gridcolor": "white",
            "linecolor": "white",
            "ticks": ""
           },
           "bgcolor": "#E5ECF6",
           "radialaxis": {
            "gridcolor": "white",
            "linecolor": "white",
            "ticks": ""
           }
          },
          "scene": {
           "xaxis": {
            "backgroundcolor": "#E5ECF6",
            "gridcolor": "white",
            "gridwidth": 2,
            "linecolor": "white",
            "showbackground": true,
            "ticks": "",
            "zerolinecolor": "white"
           },
           "yaxis": {
            "backgroundcolor": "#E5ECF6",
            "gridcolor": "white",
            "gridwidth": 2,
            "linecolor": "white",
            "showbackground": true,
            "ticks": "",
            "zerolinecolor": "white"
           },
           "zaxis": {
            "backgroundcolor": "#E5ECF6",
            "gridcolor": "white",
            "gridwidth": 2,
            "linecolor": "white",
            "showbackground": true,
            "ticks": "",
            "zerolinecolor": "white"
           }
          },
          "shapedefaults": {
           "line": {
            "color": "#2a3f5f"
           }
          },
          "ternary": {
           "aaxis": {
            "gridcolor": "white",
            "linecolor": "white",
            "ticks": ""
           },
           "baxis": {
            "gridcolor": "white",
            "linecolor": "white",
            "ticks": ""
           },
           "bgcolor": "#E5ECF6",
           "caxis": {
            "gridcolor": "white",
            "linecolor": "white",
            "ticks": ""
           }
          },
          "title": {
           "x": 0.05
          },
          "xaxis": {
           "automargin": true,
           "gridcolor": "white",
           "linecolor": "white",
           "ticks": "",
           "title": {
            "standoff": 15
           },
           "zerolinecolor": "white",
           "zerolinewidth": 2
          },
          "yaxis": {
           "automargin": true,
           "gridcolor": "white",
           "linecolor": "white",
           "ticks": "",
           "title": {
            "standoff": 15
           },
           "zerolinecolor": "white",
           "zerolinewidth": 2
          }
         }
        },
        "title": {
         "text": "Slice Plot"
        },
        "width": 1800,
        "xaxis": {
         "anchor": "y",
         "domain": [
          0,
          0.1388888888888889
         ],
         "title": {
          "text": "embedding_dim"
         }
        },
        "xaxis2": {
         "anchor": "y2",
         "domain": [
          0.17222222222222222,
          0.3111111111111111
         ],
         "title": {
          "text": "hidden_size0"
         }
        },
        "xaxis3": {
         "anchor": "y3",
         "domain": [
          0.34444444444444444,
          0.48333333333333334
         ],
         "title": {
          "text": "hidden_size1"
         }
        },
        "xaxis4": {
         "anchor": "y4",
         "domain": [
          0.5166666666666667,
          0.6555555555555557
         ],
         "title": {
          "text": "hidden_size2"
         }
        },
        "xaxis5": {
         "anchor": "y5",
         "domain": [
          0.6888888888888889,
          0.8277777777777777
         ],
         "title": {
          "text": "lr"
         },
         "type": "log"
        },
        "xaxis6": {
         "anchor": "y6",
         "domain": [
          0.861111111111111,
          1
         ],
         "title": {
          "text": "n_hidden_layers"
         }
        },
        "yaxis": {
         "anchor": "x",
         "domain": [
          0,
          1
         ],
         "title": {
          "text": "Objective Value"
         }
        },
        "yaxis2": {
         "anchor": "x2",
         "domain": [
          0,
          1
         ],
         "matches": "y",
         "showticklabels": false
        },
        "yaxis3": {
         "anchor": "x3",
         "domain": [
          0,
          1
         ],
         "matches": "y",
         "showticklabels": false
        },
        "yaxis4": {
         "anchor": "x4",
         "domain": [
          0,
          1
         ],
         "matches": "y",
         "showticklabels": false
        },
        "yaxis5": {
         "anchor": "x5",
         "domain": [
          0,
          1
         ],
         "matches": "y",
         "showticklabels": false
        },
        "yaxis6": {
         "anchor": "x6",
         "domain": [
          0,
          1
         ],
         "matches": "y",
         "showticklabels": false
        }
       }
      }
     },
     "metadata": {},
     "output_type": "display_data"
    },
    {
     "data": {
      "application/vnd.plotly.v1+json": {
       "config": {
        "plotlyServerURL": "https://plot.ly"
       },
       "data": [
        {
         "dimensions": [
          {
           "label": "Objective Value",
           "range": [
            3585.601958651551,
            8767.03718045134
           ],
           "values": [
            4192.058512352583,
            8767.03718045134,
            4636.397754729239,
            4094.8256874628282,
            3736.26367812966,
            4143.372957879865,
            3585.601958651551,
            4061.60305211608,
            4101.269501780003
           ]
          },
          {
           "label": "embedding_dim",
           "range": [
            3,
            21
           ],
           "values": [
            5,
            4,
            21,
            17,
            9,
            9,
            11,
            3,
            19
           ]
          },
          {
           "label": "hidden_size0",
           "range": [
            45,
            110
           ],
           "values": [
            110,
            82,
            45,
            94,
            98,
            93,
            76,
            78,
            96
           ]
          },
          {
           "label": "hidden_size1",
           "range": [
            15,
            127
           ],
           "values": [
            127,
            31,
            29,
            20,
            61,
            46,
            41,
            53,
            15
           ]
          },
          {
           "label": "hidden_size2",
           "range": [
            16,
            127
           ],
           "values": [
            16,
            104,
            17,
            118,
            68,
            75,
            127,
            96,
            117
           ]
          },
          {
           "label": "lr",
           "range": [
            -4.906916756900123,
            -1.0210062424986102
           ],
           "ticktext": [
            "1.24e-05",
            "0.0001",
            "0.001",
            "0.01",
            "0.0953"
           ],
           "tickvals": [
            -4.906916756900123,
            -4,
            -3,
            -2,
            -1.0210062424986102
           ],
           "values": [
            -2.3998715531653767,
            -4.906916756900123,
            -2.807753711588141,
            -2.243604288964734,
            -2.0253273449353477,
            -1.7143691139433448,
            -2.0081580663531278,
            -1.0210062424986102,
            -2.271759883597674
           ]
          },
          {
           "label": "n_hidden_layers",
           "range": [
            3,
            3
           ],
           "values": [
            3,
            3,
            3,
            3,
            3,
            3,
            3,
            3,
            3
           ]
          }
         ],
         "labelangle": 30,
         "labelside": "bottom",
         "line": {
          "color": [
           4192.058512352583,
           8767.03718045134,
           4636.397754729239,
           4094.8256874628282,
           3736.26367812966,
           4143.372957879865,
           3585.601958651551,
           4061.60305211608,
           4101.269501780003
          ],
          "colorbar": {
           "title": {
            "text": "Objective Value"
           }
          },
          "colorscale": [
           [
            0,
            "rgb(247,251,255)"
           ],
           [
            0.125,
            "rgb(222,235,247)"
           ],
           [
            0.25,
            "rgb(198,219,239)"
           ],
           [
            0.375,
            "rgb(158,202,225)"
           ],
           [
            0.5,
            "rgb(107,174,214)"
           ],
           [
            0.625,
            "rgb(66,146,198)"
           ],
           [
            0.75,
            "rgb(33,113,181)"
           ],
           [
            0.875,
            "rgb(8,81,156)"
           ],
           [
            1,
            "rgb(8,48,107)"
           ]
          ],
          "reversescale": true,
          "showscale": true
         },
         "type": "parcoords"
        }
       ],
       "layout": {
        "template": {
         "data": {
          "bar": [
           {
            "error_x": {
             "color": "#2a3f5f"
            },
            "error_y": {
             "color": "#2a3f5f"
            },
            "marker": {
             "line": {
              "color": "#E5ECF6",
              "width": 0.5
             },
             "pattern": {
              "fillmode": "overlay",
              "size": 10,
              "solidity": 0.2
             }
            },
            "type": "bar"
           }
          ],
          "barpolar": [
           {
            "marker": {
             "line": {
              "color": "#E5ECF6",
              "width": 0.5
             },
             "pattern": {
              "fillmode": "overlay",
              "size": 10,
              "solidity": 0.2
             }
            },
            "type": "barpolar"
           }
          ],
          "carpet": [
           {
            "aaxis": {
             "endlinecolor": "#2a3f5f",
             "gridcolor": "white",
             "linecolor": "white",
             "minorgridcolor": "white",
             "startlinecolor": "#2a3f5f"
            },
            "baxis": {
             "endlinecolor": "#2a3f5f",
             "gridcolor": "white",
             "linecolor": "white",
             "minorgridcolor": "white",
             "startlinecolor": "#2a3f5f"
            },
            "type": "carpet"
           }
          ],
          "choropleth": [
           {
            "colorbar": {
             "outlinewidth": 0,
             "ticks": ""
            },
            "type": "choropleth"
           }
          ],
          "contour": [
           {
            "colorbar": {
             "outlinewidth": 0,
             "ticks": ""
            },
            "colorscale": [
             [
              0,
              "#0d0887"
             ],
             [
              0.1111111111111111,
              "#46039f"
             ],
             [
              0.2222222222222222,
              "#7201a8"
             ],
             [
              0.3333333333333333,
              "#9c179e"
             ],
             [
              0.4444444444444444,
              "#bd3786"
             ],
             [
              0.5555555555555556,
              "#d8576b"
             ],
             [
              0.6666666666666666,
              "#ed7953"
             ],
             [
              0.7777777777777778,
              "#fb9f3a"
             ],
             [
              0.8888888888888888,
              "#fdca26"
             ],
             [
              1,
              "#f0f921"
             ]
            ],
            "type": "contour"
           }
          ],
          "contourcarpet": [
           {
            "colorbar": {
             "outlinewidth": 0,
             "ticks": ""
            },
            "type": "contourcarpet"
           }
          ],
          "heatmap": [
           {
            "colorbar": {
             "outlinewidth": 0,
             "ticks": ""
            },
            "colorscale": [
             [
              0,
              "#0d0887"
             ],
             [
              0.1111111111111111,
              "#46039f"
             ],
             [
              0.2222222222222222,
              "#7201a8"
             ],
             [
              0.3333333333333333,
              "#9c179e"
             ],
             [
              0.4444444444444444,
              "#bd3786"
             ],
             [
              0.5555555555555556,
              "#d8576b"
             ],
             [
              0.6666666666666666,
              "#ed7953"
             ],
             [
              0.7777777777777778,
              "#fb9f3a"
             ],
             [
              0.8888888888888888,
              "#fdca26"
             ],
             [
              1,
              "#f0f921"
             ]
            ],
            "type": "heatmap"
           }
          ],
          "heatmapgl": [
           {
            "colorbar": {
             "outlinewidth": 0,
             "ticks": ""
            },
            "colorscale": [
             [
              0,
              "#0d0887"
             ],
             [
              0.1111111111111111,
              "#46039f"
             ],
             [
              0.2222222222222222,
              "#7201a8"
             ],
             [
              0.3333333333333333,
              "#9c179e"
             ],
             [
              0.4444444444444444,
              "#bd3786"
             ],
             [
              0.5555555555555556,
              "#d8576b"
             ],
             [
              0.6666666666666666,
              "#ed7953"
             ],
             [
              0.7777777777777778,
              "#fb9f3a"
             ],
             [
              0.8888888888888888,
              "#fdca26"
             ],
             [
              1,
              "#f0f921"
             ]
            ],
            "type": "heatmapgl"
           }
          ],
          "histogram": [
           {
            "marker": {
             "pattern": {
              "fillmode": "overlay",
              "size": 10,
              "solidity": 0.2
             }
            },
            "type": "histogram"
           }
          ],
          "histogram2d": [
           {
            "colorbar": {
             "outlinewidth": 0,
             "ticks": ""
            },
            "colorscale": [
             [
              0,
              "#0d0887"
             ],
             [
              0.1111111111111111,
              "#46039f"
             ],
             [
              0.2222222222222222,
              "#7201a8"
             ],
             [
              0.3333333333333333,
              "#9c179e"
             ],
             [
              0.4444444444444444,
              "#bd3786"
             ],
             [
              0.5555555555555556,
              "#d8576b"
             ],
             [
              0.6666666666666666,
              "#ed7953"
             ],
             [
              0.7777777777777778,
              "#fb9f3a"
             ],
             [
              0.8888888888888888,
              "#fdca26"
             ],
             [
              1,
              "#f0f921"
             ]
            ],
            "type": "histogram2d"
           }
          ],
          "histogram2dcontour": [
           {
            "colorbar": {
             "outlinewidth": 0,
             "ticks": ""
            },
            "colorscale": [
             [
              0,
              "#0d0887"
             ],
             [
              0.1111111111111111,
              "#46039f"
             ],
             [
              0.2222222222222222,
              "#7201a8"
             ],
             [
              0.3333333333333333,
              "#9c179e"
             ],
             [
              0.4444444444444444,
              "#bd3786"
             ],
             [
              0.5555555555555556,
              "#d8576b"
             ],
             [
              0.6666666666666666,
              "#ed7953"
             ],
             [
              0.7777777777777778,
              "#fb9f3a"
             ],
             [
              0.8888888888888888,
              "#fdca26"
             ],
             [
              1,
              "#f0f921"
             ]
            ],
            "type": "histogram2dcontour"
           }
          ],
          "mesh3d": [
           {
            "colorbar": {
             "outlinewidth": 0,
             "ticks": ""
            },
            "type": "mesh3d"
           }
          ],
          "parcoords": [
           {
            "line": {
             "colorbar": {
              "outlinewidth": 0,
              "ticks": ""
             }
            },
            "type": "parcoords"
           }
          ],
          "pie": [
           {
            "automargin": true,
            "type": "pie"
           }
          ],
          "scatter": [
           {
            "fillpattern": {
             "fillmode": "overlay",
             "size": 10,
             "solidity": 0.2
            },
            "type": "scatter"
           }
          ],
          "scatter3d": [
           {
            "line": {
             "colorbar": {
              "outlinewidth": 0,
              "ticks": ""
             }
            },
            "marker": {
             "colorbar": {
              "outlinewidth": 0,
              "ticks": ""
             }
            },
            "type": "scatter3d"
           }
          ],
          "scattercarpet": [
           {
            "marker": {
             "colorbar": {
              "outlinewidth": 0,
              "ticks": ""
             }
            },
            "type": "scattercarpet"
           }
          ],
          "scattergeo": [
           {
            "marker": {
             "colorbar": {
              "outlinewidth": 0,
              "ticks": ""
             }
            },
            "type": "scattergeo"
           }
          ],
          "scattergl": [
           {
            "marker": {
             "colorbar": {
              "outlinewidth": 0,
              "ticks": ""
             }
            },
            "type": "scattergl"
           }
          ],
          "scattermapbox": [
           {
            "marker": {
             "colorbar": {
              "outlinewidth": 0,
              "ticks": ""
             }
            },
            "type": "scattermapbox"
           }
          ],
          "scatterpolar": [
           {
            "marker": {
             "colorbar": {
              "outlinewidth": 0,
              "ticks": ""
             }
            },
            "type": "scatterpolar"
           }
          ],
          "scatterpolargl": [
           {
            "marker": {
             "colorbar": {
              "outlinewidth": 0,
              "ticks": ""
             }
            },
            "type": "scatterpolargl"
           }
          ],
          "scatterternary": [
           {
            "marker": {
             "colorbar": {
              "outlinewidth": 0,
              "ticks": ""
             }
            },
            "type": "scatterternary"
           }
          ],
          "surface": [
           {
            "colorbar": {
             "outlinewidth": 0,
             "ticks": ""
            },
            "colorscale": [
             [
              0,
              "#0d0887"
             ],
             [
              0.1111111111111111,
              "#46039f"
             ],
             [
              0.2222222222222222,
              "#7201a8"
             ],
             [
              0.3333333333333333,
              "#9c179e"
             ],
             [
              0.4444444444444444,
              "#bd3786"
             ],
             [
              0.5555555555555556,
              "#d8576b"
             ],
             [
              0.6666666666666666,
              "#ed7953"
             ],
             [
              0.7777777777777778,
              "#fb9f3a"
             ],
             [
              0.8888888888888888,
              "#fdca26"
             ],
             [
              1,
              "#f0f921"
             ]
            ],
            "type": "surface"
           }
          ],
          "table": [
           {
            "cells": {
             "fill": {
              "color": "#EBF0F8"
             },
             "line": {
              "color": "white"
             }
            },
            "header": {
             "fill": {
              "color": "#C8D4E3"
             },
             "line": {
              "color": "white"
             }
            },
            "type": "table"
           }
          ]
         },
         "layout": {
          "annotationdefaults": {
           "arrowcolor": "#2a3f5f",
           "arrowhead": 0,
           "arrowwidth": 1
          },
          "autotypenumbers": "strict",
          "coloraxis": {
           "colorbar": {
            "outlinewidth": 0,
            "ticks": ""
           }
          },
          "colorscale": {
           "diverging": [
            [
             0,
             "#8e0152"
            ],
            [
             0.1,
             "#c51b7d"
            ],
            [
             0.2,
             "#de77ae"
            ],
            [
             0.3,
             "#f1b6da"
            ],
            [
             0.4,
             "#fde0ef"
            ],
            [
             0.5,
             "#f7f7f7"
            ],
            [
             0.6,
             "#e6f5d0"
            ],
            [
             0.7,
             "#b8e186"
            ],
            [
             0.8,
             "#7fbc41"
            ],
            [
             0.9,
             "#4d9221"
            ],
            [
             1,
             "#276419"
            ]
           ],
           "sequential": [
            [
             0,
             "#0d0887"
            ],
            [
             0.1111111111111111,
             "#46039f"
            ],
            [
             0.2222222222222222,
             "#7201a8"
            ],
            [
             0.3333333333333333,
             "#9c179e"
            ],
            [
             0.4444444444444444,
             "#bd3786"
            ],
            [
             0.5555555555555556,
             "#d8576b"
            ],
            [
             0.6666666666666666,
             "#ed7953"
            ],
            [
             0.7777777777777778,
             "#fb9f3a"
            ],
            [
             0.8888888888888888,
             "#fdca26"
            ],
            [
             1,
             "#f0f921"
            ]
           ],
           "sequentialminus": [
            [
             0,
             "#0d0887"
            ],
            [
             0.1111111111111111,
             "#46039f"
            ],
            [
             0.2222222222222222,
             "#7201a8"
            ],
            [
             0.3333333333333333,
             "#9c179e"
            ],
            [
             0.4444444444444444,
             "#bd3786"
            ],
            [
             0.5555555555555556,
             "#d8576b"
            ],
            [
             0.6666666666666666,
             "#ed7953"
            ],
            [
             0.7777777777777778,
             "#fb9f3a"
            ],
            [
             0.8888888888888888,
             "#fdca26"
            ],
            [
             1,
             "#f0f921"
            ]
           ]
          },
          "colorway": [
           "#636efa",
           "#EF553B",
           "#00cc96",
           "#ab63fa",
           "#FFA15A",
           "#19d3f3",
           "#FF6692",
           "#B6E880",
           "#FF97FF",
           "#FECB52"
          ],
          "font": {
           "color": "#2a3f5f"
          },
          "geo": {
           "bgcolor": "white",
           "lakecolor": "white",
           "landcolor": "#E5ECF6",
           "showlakes": true,
           "showland": true,
           "subunitcolor": "white"
          },
          "hoverlabel": {
           "align": "left"
          },
          "hovermode": "closest",
          "mapbox": {
           "style": "light"
          },
          "paper_bgcolor": "white",
          "plot_bgcolor": "#E5ECF6",
          "polar": {
           "angularaxis": {
            "gridcolor": "white",
            "linecolor": "white",
            "ticks": ""
           },
           "bgcolor": "#E5ECF6",
           "radialaxis": {
            "gridcolor": "white",
            "linecolor": "white",
            "ticks": ""
           }
          },
          "scene": {
           "xaxis": {
            "backgroundcolor": "#E5ECF6",
            "gridcolor": "white",
            "gridwidth": 2,
            "linecolor": "white",
            "showbackground": true,
            "ticks": "",
            "zerolinecolor": "white"
           },
           "yaxis": {
            "backgroundcolor": "#E5ECF6",
            "gridcolor": "white",
            "gridwidth": 2,
            "linecolor": "white",
            "showbackground": true,
            "ticks": "",
            "zerolinecolor": "white"
           },
           "zaxis": {
            "backgroundcolor": "#E5ECF6",
            "gridcolor": "white",
            "gridwidth": 2,
            "linecolor": "white",
            "showbackground": true,
            "ticks": "",
            "zerolinecolor": "white"
           }
          },
          "shapedefaults": {
           "line": {
            "color": "#2a3f5f"
           }
          },
          "ternary": {
           "aaxis": {
            "gridcolor": "white",
            "linecolor": "white",
            "ticks": ""
           },
           "baxis": {
            "gridcolor": "white",
            "linecolor": "white",
            "ticks": ""
           },
           "bgcolor": "#E5ECF6",
           "caxis": {
            "gridcolor": "white",
            "linecolor": "white",
            "ticks": ""
           }
          },
          "title": {
           "x": 0.05
          },
          "xaxis": {
           "automargin": true,
           "gridcolor": "white",
           "linecolor": "white",
           "ticks": "",
           "title": {
            "standoff": 15
           },
           "zerolinecolor": "white",
           "zerolinewidth": 2
          },
          "yaxis": {
           "automargin": true,
           "gridcolor": "white",
           "linecolor": "white",
           "ticks": "",
           "title": {
            "standoff": 15
           },
           "zerolinecolor": "white",
           "zerolinewidth": 2
          }
         }
        },
        "title": {
         "text": "Parallel Coordinate Plot"
        }
       }
      }
     },
     "metadata": {},
     "output_type": "display_data"
    }
   ],
   "source": [
    "optuna.visualization.plot_intermediate_values(study).show()\n",
    "optuna.visualization.plot_optimization_history(study).show()\n",
    "optuna.visualization.plot_param_importances(study).show()\n",
    "optuna.visualization.plot_slice(study).show()\n",
    "optuna.visualization.plot_parallel_coordinate(study).show()"
   ]
  },
  {
   "attachments": {},
   "cell_type": "markdown",
   "metadata": {},
   "source": [
    "## Evaluating the best model"
   ]
  },
  {
   "attachments": {},
   "cell_type": "markdown",
   "metadata": {},
   "source": [
    "### Price differences"
   ]
  },
  {
   "cell_type": "code",
   "execution_count": 12,
   "metadata": {},
   "outputs": [
    {
     "name": "stdout",
     "output_type": "stream",
     "text": [
      "Training set:\n",
      "Total absolute difference:  21363191.85839\n",
      "Mean absolute difference:   3210.09645\n",
      "Median absolute difference: 2166.54144\n",
      "\n",
      "Dev set:\n",
      "Total absolute difference:  8410938.57280\n",
      "Mean absolute difference:   3416.30324\n",
      "Median absolute difference: 2349.06622\n",
      "\n",
      "Test set:\n",
      "Total absolute difference:  6496319.07971\n",
      "Mean absolute difference:   3477.68687\n",
      "Median absolute difference: 2260.67422\n",
      "\n"
     ]
    }
   ],
   "source": [
    "@torch.no_grad()\n",
    "def prediction_errors(inputs: torch.Tensor, indices: torch.Tensor, prices: torch.Tensor) -> None:\n",
    "    coeff = input_helper.maxes[\"Pret (EUR)\"]\n",
    "    predicted = best_model(inputs.to(DEVICE), indices.to(DEVICE)).view(-1) * coeff\n",
    "    real = prices.to(DEVICE).view(-1) * coeff\n",
    "    diffs = predicted - real\n",
    "\n",
    "    print(f\"Total absolute difference:  {diffs.abs().sum():.5f}\")\n",
    "    print(f\"Mean absolute difference:   {diffs.abs().mean():.5f}\")\n",
    "    print(f\"Median absolute difference: {diffs.abs().median():.5f}\")\n",
    "    print()\n",
    "\n",
    "\n",
    "print(\"Training set:\")\n",
    "prediction_errors(inputs_train, indices_train, prices_train)\n",
    "print(\"Dev set:\")\n",
    "prediction_errors(inputs_dev, indices_dev, prices_dev)\n",
    "print(\"Test set:\")\n",
    "prediction_errors(inputs_test, indices_test, prices_test)"
   ]
  },
  {
   "attachments": {},
   "cell_type": "markdown",
   "metadata": {},
   "source": [
    "### Predicting prices for unseen inputs"
   ]
  },
  {
   "cell_type": "code",
   "execution_count": 13,
   "metadata": {},
   "outputs": [
    {
     "name": "stdout",
     "output_type": "stream",
     "text": [
      "Predicted price: 24865.04383922501\n"
     ]
    }
   ],
   "source": [
    "# Making a prediction for unseen input.\n",
    "# Real input taken from https://www.autovit.ro/anunt/audi-a5-ID7H7Azi.html.\n",
    "# The real price is 29 990 EUR.\n",
    "\n",
    "fictional = pd.DataFrame({\n",
    "    \"Oferit de\": \"Proprietar\",\n",
    "    \"Marca\": \"Audi\",\n",
    "    \"Model\": \"A5\",\n",
    "    \"Anul\": 2019,\n",
    "    \"Km\": 155_000.0,\n",
    "    \"Combustibil\": \"Diesel\",\n",
    "    \"Putere (CP)\": 190,\n",
    "    \"Capacitate cilindrica (cm3)\": 1998,\n",
    "    \"Cutie de viteze\": \"Automata\",\n",
    "    \"Tip Caroserie\": \"Sedan\",\n",
    "    \"Numar de portiere\": 4,\n",
    "    \"Culoare\": \"Maro\",\n",
    "    \"Fara accident in istoric\": True,\n",
    "    \"Carte de service\": True,\n",
    "    \"Tractiune\": \"Fata\",\n",
    "    \"Filtru de particule\": True,\n",
    "    \"Inmatriculat\": False,\n",
    "    \"Primul proprietar\": False,\n",
    "    \"Consum (l/100km)\": 4.8,\n",
    "}, index=[0])\n",
    "\n",
    "fictional_inputs, fictional_indices = simplemodel.make_inputs(\n",
    "    input_helper,\n",
    "    cols_to_scale=fictional[COLS_TO_SCALE],\n",
    "    cols_normal=fictional[COLS_NORMAL],\n",
    "    cols_to_embed=fictional[COLS_TO_EMBED],\n",
    ")\n",
    "fictional_inputs = fictional_inputs.to(DEVICE)\n",
    "fictional_indices = fictional_indices.to(DEVICE)\n",
    "\n",
    "best_model.eval()\n",
    "with torch.no_grad():\n",
    "    prediction = best_model(fictional_inputs, fictional_indices).item()\n",
    "\n",
    "predicted_price = prediction * input_helper.maxes[\"Pret (EUR)\"]\n",
    "print(f\"Predicted price: {predicted_price}\")\n"
   ]
  },
  {
   "attachments": {},
   "cell_type": "markdown",
   "metadata": {},
   "source": [
    "## Saving the model"
   ]
  },
  {
   "cell_type": "code",
   "execution_count": 14,
   "metadata": {},
   "outputs": [
    {
     "name": "stdout",
     "output_type": "stream",
     "text": [
      "Saved model state dict to '../models/firstmodel-tuned-statedict.pt'\n",
      "Pickled the object to '../models/firstmodel-tuned-helper.pkl'\n"
     ]
    }
   ],
   "source": [
    "utils.store_model_weights(best_model, MODEL_NAME)\n",
    "utils.store_model_helper(input_helper, HELPER_FILENAME)"
   ]
  }
 ],
 "metadata": {
  "kernelspec": {
   "display_name": "Python 3",
   "language": "python",
   "name": "python3"
  },
  "language_info": {
   "codemirror_mode": {
    "name": "ipython",
    "version": 3
   },
   "file_extension": ".py",
   "mimetype": "text/x-python",
   "name": "python",
   "nbconvert_exporter": "python",
   "pygments_lexer": "ipython3",
   "version": "3.10.6"
  },
  "orig_nbformat": 4,
  "vscode": {
   "interpreter": {
    "hash": "916dbcbb3f70747c44a77c7bcd40155683ae19c65e1c03b4aa3499c5328201f1"
   }
  }
 },
 "nbformat": 4,
 "nbformat_minor": 2
}
